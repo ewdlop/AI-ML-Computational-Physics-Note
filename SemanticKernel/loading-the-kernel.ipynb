{
 "cells": [
  {
   "cell_type": "code",
   "execution_count": 4,
   "metadata": {
    "dotnet_interactive": {
     "language": "csharp"
    },
    "polyglot_notebook": {
     "kernelName": "csharp"
    }
   },
   "outputs": [
    {
     "data": {
      "text/html": [
       "<div><div></div><div></div><div><strong>Installed Packages</strong><ul><li><span>Microsoft.Extensions.Logging, 7.0.0</span></li><li><span>Microsoft.SemanticKernel, 0.21.230828.2-preview</span></li></ul></div></div>"
      ]
     },
     "metadata": {},
     "output_type": "display_data"
    }
   ],
   "source": [
    "// Import Semantic Kernel\n",
    "#r \"nuget: Microsoft.SemanticKernel, 0.21.230828.2-preview\"\n",
    "#r \"nuget: Microsoft.Extensions.Logging\""
   ]
  },
  {
   "cell_type": "code",
   "execution_count": 7,
   "metadata": {
    "dotnet_interactive": {
     "language": "csharp"
    },
    "polyglot_notebook": {
     "kernelName": "csharp"
    }
   },
   "outputs": [],
   "source": [
    "using Microsoft.Extensions.Logging;\n",
    "using Microsoft.Extensions.Logging.Abstractions;\n",
    "using Microsoft.SemanticKernel;\n",
    "\n",
    "// Inject your logger \n",
    "// see Microsoft.Extensions.Logging.ILogger @ https://learn.microsoft.com/dotnet/core/extensions/logging\n",
    "ILoggerFactory loggerFactory = NullLoggerFactory.Instance;\n",
    "// Inject a custom configuration\n",
    "var config = new KernelConfig();\n",
    "\n",
    "var builder = new KernelBuilder();\n",
    "IKernel kernel = builder\n",
    "    .WithLoggerFactory(loggerFactory)\n",
    "    .WithConfiguration(config)\n",
    "    .WithOpenAITextCompletionService(\n",
    "        \"text-davinci-003\",                     // OpenAI Model Name\n",
    "        \"...your OpenAI API Key...\",            // OpenAI API key\n",
    "        \"...your OpenAI Org ID...\",             // *optional* OpenAI Organization ID\n",
    "        \"OpenAI_davinci\"                        // alias used in the prompt templates' config.json\n",
    "    )\n",
    "    .Build();"
   ]
  },
  {
   "cell_type": "code",
   "execution_count": null,
   "metadata": {
    "dotnet_interactive": {
     "language": "csharp"
    },
    "polyglot_notebook": {
     "kernelName": "csharp"
    }
   },
   "outputs": [],
   "source": []
  }
 ],
 "metadata": {
  "kernelspec": {
   "display_name": ".NET (C#)",
   "language": "C#",
   "name": ".net-csharp"
  },
  "language_info": {
   "name": "polyglot-notebook"
  },
  "polyglot_notebook": {
   "kernelInfo": {
    "defaultKernelName": "csharp",
    "items": [
     {
      "aliases": [],
      "languageName": "csharp",
      "name": "csharp"
     }
    ]
   }
  }
 },
 "nbformat": 4,
 "nbformat_minor": 2
}
