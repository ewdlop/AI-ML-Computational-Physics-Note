{
 "cells": [
  {
   "cell_type": "code",
   "execution_count": 7,
   "metadata": {
    "dotnet_interactive": {
     "language": "csharp"
    },
    "polyglot_notebook": {
     "kernelName": "csharp"
    }
   },
   "outputs": [],
   "source": [
    "// Load some helper functions, e.g. to load values from settings.json\n",
    "#!import config/Settings.cs"
   ]
  },
  {
   "cell_type": "code",
   "execution_count": 3,
   "metadata": {
    "dotnet_interactive": {
     "language": "csharp"
    },
    "polyglot_notebook": {
     "kernelName": "csharp"
    }
   },
   "outputs": [
    {
     "data": {
      "text/html": [
       "<div><div></div><div></div><div><strong>Installed Packages</strong><ul><li><span>Microsoft.SemanticKernel, 0.21.230828.2-preview</span></li></ul></div></div>"
      ]
     },
     "metadata": {},
     "output_type": "display_data"
    }
   ],
   "source": [
    "// Import Semantic Kernel\n",
    "#r \"nuget: Microsoft.SemanticKernel, 0.21.230828.2-preview\""
   ]
  },
  {
   "cell_type": "code",
   "execution_count": 4,
   "metadata": {
    "dotnet_interactive": {
     "language": "csharp"
    },
    "polyglot_notebook": {
     "kernelName": "csharp"
    }
   },
   "outputs": [],
   "source": [
    "using Microsoft.SemanticKernel;\n",
    "\n",
    "//Create Kernel builder\n",
    "var builder = new KernelBuilder();"
   ]
  },
  {
   "cell_type": "code",
   "execution_count": 9,
   "metadata": {
    "dotnet_interactive": {
     "language": "csharp"
    },
    "polyglot_notebook": {
     "kernelName": "csharp"
    }
   },
   "outputs": [],
   "source": [
    "// Configure AI service credentials used by the kernel\n",
    "var (useAzureOpenAI, model, azureEndpoint, apiKey, orgId) = Settings.LoadFromFile();\n",
    "\n",
    "if (useAzureOpenAI)\n",
    "    builder.WithAzureChatCompletionService(model, azureEndpoint, apiKey);\n",
    "else\n",
    "    builder.WithOpenAIChatCompletionService(model, apiKey, orgId);\n",
    "\n",
    "IKernel kernel = builder.Build();"
   ]
  },
  {
   "cell_type": "code",
   "execution_count": 10,
   "metadata": {
    "dotnet_interactive": {
     "language": "csharp"
    },
    "polyglot_notebook": {
     "kernelName": "csharp"
    }
   },
   "outputs": [
    {
     "ename": "Error",
     "evalue": "System.IO.DirectoryNotFoundException: Directory 'f:\\Code\\AI-Machine-Learning\\SemanticKernel\\..\\..\\samples\\skills\\FunSkill' could not be found.\r\n   at Microsoft.SemanticKernel.Diagnostics.Verify.DirectoryExists(String path)\r\n   at Microsoft.SemanticKernel.ImportSemanticSkillFromDirectoryExtension.ImportSemanticSkillFromDirectory(IKernel kernel, String parentDirectory, String[] skillDirectoryNames)\r\n   at Submission#8.<<Initialize>>d__0.MoveNext()\r\n--- End of stack trace from previous location ---\r\n   at Microsoft.CodeAnalysis.Scripting.ScriptExecutionState.RunSubmissionsAsync[TResult](ImmutableArray`1 precedingExecutors, Func`2 currentExecutor, StrongBox`1 exceptionHolderOpt, Func`2 catchExceptionOpt, CancellationToken cancellationToken)",
     "output_type": "error",
     "traceback": [
      "System.IO.DirectoryNotFoundException: Directory 'f:\\Code\\AI-Machine-Learning\\SemanticKernel\\..\\..\\samples\\skills\\FunSkill' could not be found.\r\n",
      "   at Microsoft.SemanticKernel.Diagnostics.Verify.DirectoryExists(String path)\r\n",
      "   at Microsoft.SemanticKernel.ImportSemanticSkillFromDirectoryExtension.ImportSemanticSkillFromDirectory(IKernel kernel, String parentDirectory, String[] skillDirectoryNames)\r\n",
      "   at Submission#8.<<Initialize>>d__0.MoveNext()\r\n",
      "--- End of stack trace from previous location ---\r\n",
      "   at Microsoft.CodeAnalysis.Scripting.ScriptExecutionState.RunSubmissionsAsync[TResult](ImmutableArray`1 precedingExecutors, Func`2 currentExecutor, StrongBox`1 exceptionHolderOpt, Func`2 catchExceptionOpt, CancellationToken cancellationToken)"
     ]
    }
   ],
   "source": [
    "// Load the Skills Directory\n",
    "var skillsDirectory = Path.Combine(System.IO.Directory.GetCurrentDirectory(), \"..\", \"..\", \"samples\", \"skills\");\n",
    "\n",
    "// Load the FunSkill from the Skills Directory\n",
    "var funSkillFunctions = kernel.ImportSemanticSkillFromDirectory(skillsDirectory, \"FunSkill\");\n",
    "\n",
    "// Run the Function called Joke\n",
    "var result = await funSkillFunctions[\"Joke\"].InvokeAsync(\"time travel to dinosaur age\");\n",
    "\n",
    "// Return the result to the Notebook\n",
    "Console.WriteLine(result);"
   ]
  }
 ],
 "metadata": {
  "kernelspec": {
   "display_name": ".NET (C#)",
   "language": "C#",
   "name": ".net-csharp"
  },
  "language_info": {
   "name": "polyglot-notebook"
  },
  "polyglot_notebook": {
   "kernelInfo": {
    "defaultKernelName": "csharp",
    "items": [
     {
      "aliases": [],
      "languageName": "csharp",
      "name": "csharp"
     }
    ]
   }
  }
 },
 "nbformat": 4,
 "nbformat_minor": 2
}
