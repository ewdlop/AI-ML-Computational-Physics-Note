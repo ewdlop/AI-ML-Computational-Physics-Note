{
 "cells": [
  {
   "cell_type": "code",
   "execution_count": 4,
   "metadata": {
    "dotnet_interactive": {
     "language": "csharp"
    },
    "polyglot_notebook": {
     "kernelName": "csharp"
    },
    "vscode": {
     "languageId": "polyglot-notebook"
    }
   },
   "outputs": [
    {
     "data": {
      "text/html": [
       "<div><div></div><div></div><div><strong>Installed Packages</strong><ul><li><span>Microsoft.SemanticKernel, 0.21.230828.2-preview</span></li><li><span>SkiaSharp, 2.88.6</span></li></ul></div></div>"
      ]
     },
     "metadata": {},
     "output_type": "display_data"
    },
    {
     "data": {
      "text/plain": [
       "Loading extensions from `C:\\Users\\Ray\\.nuget\\packages\\skiasharp\\2.88.6\\interactive-extensions\\dotnet\\SkiaSharp.DotNet.Interactive.dll`"
      ]
     },
     "metadata": {},
     "output_type": "display_data"
    }
   ],
   "source": [
    "// Import Semantic Kernel\n",
    "#r \"nuget: Microsoft.SemanticKernel, 0.21.230828.2-preview\"\n",
    "#r \"nuget: SkiaSharp\""
   ]
  },
  {
   "cell_type": "code",
   "execution_count": 2,
   "metadata": {
    "dotnet_interactive": {
     "language": "csharp"
    },
    "polyglot_notebook": {
     "kernelName": "csharp"
    },
    "vscode": {
     "languageId": "polyglot-notebook"
    }
   },
   "outputs": [],
   "source": [
    "using Microsoft.SemanticKernel;\n",
    "\n",
    "var builder = new KernelBuilder();"
   ]
  },
  {
   "cell_type": "code",
   "execution_count": 9,
   "metadata": {
    "dotnet_interactive": {
     "language": "csharp"
    },
    "polyglot_notebook": {
     "kernelName": "csharp"
    },
    "vscode": {
     "languageId": "polyglot-notebook"
    }
   },
   "outputs": [],
   "source": [
    "// Load some helper functions, e.g. to load values from settings.json\n",
    "#!import config/Settings.cs\n",
    "#!import config/Utils.cs\n",
    "#!import config/SkiaUtils.cs\n",
    "\n",
    "using Microsoft.SemanticKernel;\n",
    "using Microsoft.SemanticKernel.AI.ImageGeneration; \n",
    "using Microsoft.SemanticKernel.AI.Embeddings;\n",
    "using Microsoft.SemanticKernel.AI.Embeddings.VectorOperations;"
   ]
  },
  {
   "cell_type": "code",
   "execution_count": 10,
   "metadata": {
    "dotnet_interactive": {
     "language": "csharp"
    },
    "polyglot_notebook": {
     "kernelName": "csharp"
    },
    "vscode": {
     "languageId": "polyglot-notebook"
    }
   },
   "outputs": [
    {
     "ename": "Error",
     "evalue": "System.ArgumentException: The value cannot be an empty string or composed entirely of whitespace. (Parameter 'apiKey')\r\n   at Microsoft.SemanticKernel.Diagnostics.Verify.ThrowArgumentWhiteSpaceException(String paramName)\r\n   at Microsoft.SemanticKernel.Connectors.AI.OpenAI.AzureSdk.OpenAIClientBase..ctor(String modelId, String apiKey, String organization, HttpClient httpClient, ILoggerFactory loggerFactory)\r\n   at Microsoft.SemanticKernel.Connectors.AI.OpenAI.TextEmbedding.OpenAITextEmbeddingGeneration..ctor(String modelId, String apiKey, String organization, HttpClient httpClient, ILoggerFactory loggerFactory)\r\n   at Microsoft.SemanticKernel.OpenAIKernelBuilderExtensions.<>c__DisplayClass6_0.<WithOpenAITextEmbeddingGenerationService>b__0(ILoggerFactory loggerFactory, KernelConfig config)\r\n   at Microsoft.SemanticKernel.KernelBuilder.<>c__DisplayClass21_0`1.<WithAIService>b__0()\r\n   at Microsoft.SemanticKernel.Services.NamedServiceProvider`1.GetService[T](String name)\r\n   at Microsoft.SemanticKernel.Kernel.GetService[T](String name)\r\n   at Submission#29.<<Initialize>>d__0.MoveNext()\r\n--- End of stack trace from previous location ---\r\n   at Microsoft.CodeAnalysis.Scripting.ScriptExecutionState.RunSubmissionsAsync[TResult](ImmutableArray`1 precedingExecutors, Func`2 currentExecutor, StrongBox`1 exceptionHolderOpt, Func`2 catchExceptionOpt, CancellationToken cancellationToken)",
     "output_type": "error",
     "traceback": [
      "System.ArgumentException: The value cannot be an empty string or composed entirely of whitespace. (Parameter 'apiKey')\r\n",
      "   at Microsoft.SemanticKernel.Diagnostics.Verify.ThrowArgumentWhiteSpaceException(String paramName)\r\n",
      "   at Microsoft.SemanticKernel.Connectors.AI.OpenAI.AzureSdk.OpenAIClientBase..ctor(String modelId, String apiKey, String organization, HttpClient httpClient, ILoggerFactory loggerFactory)\r\n",
      "   at Microsoft.SemanticKernel.Connectors.AI.OpenAI.TextEmbedding.OpenAITextEmbeddingGeneration..ctor(String modelId, String apiKey, String organization, HttpClient httpClient, ILoggerFactory loggerFactory)\r\n",
      "   at Microsoft.SemanticKernel.OpenAIKernelBuilderExtensions.<>c__DisplayClass6_0.<WithOpenAITextEmbeddingGenerationService>b__0(ILoggerFactory loggerFactory, KernelConfig config)\r\n",
      "   at Microsoft.SemanticKernel.KernelBuilder.<>c__DisplayClass21_0`1.<WithAIService>b__0()\r\n",
      "   at Microsoft.SemanticKernel.Services.NamedServiceProvider`1.GetService[T](String name)\r\n",
      "   at Microsoft.SemanticKernel.Kernel.GetService[T](String name)\r\n",
      "   at Submission#29.<<Initialize>>d__0.MoveNext()\r\n",
      "--- End of stack trace from previous location ---\r\n",
      "   at Microsoft.CodeAnalysis.Scripting.ScriptExecutionState.RunSubmissionsAsync[TResult](ImmutableArray`1 precedingExecutors, Func`2 currentExecutor, StrongBox`1 exceptionHolderOpt, Func`2 catchExceptionOpt, CancellationToken cancellationToken)"
     ]
    }
   ],
   "source": [
    "// Configure AI service credentials used by the kernel\n",
    "var (useAzureOpenAI, model, azureEndpoint, apiKey, orgId) = Settings.LoadFromFile();\n",
    "\n",
    "if(useAzureOpenAI)\n",
    "{\n",
    "    builder.WithAzureTextEmbeddingGenerationService(\"text-embedding-ada-002\", azureEndpoint, apiKey);\n",
    "    builder.WithAzureTextCompletionService(\"gpt-35-turbo\", azureEndpoint, apiKey);\n",
    "    builder.WithAzureOpenAIImageGenerationService(azureEndpoint, apiKey);\n",
    "}\n",
    "else\n",
    "{\n",
    "    builder.WithOpenAITextEmbeddingGenerationService(\"text-embedding-ada-002\", orgId);\n",
    "    builder.WithOpenAITextCompletionService(\"gpt-3.5-turbo\", orgId);\n",
    "    builder.WithOpenAIImageGenerationService(apiKey, orgId);\n",
    "}\n",
    "   \n",
    "var kernel = builder.Build();"
   ]
  },
  {
   "cell_type": "code",
   "execution_count": null,
   "metadata": {
    "dotnet_interactive": {
     "language": "csharp"
    },
    "polyglot_notebook": {
     "kernelName": "csharp"
    },
    "vscode": {
     "languageId": "polyglot-notebook"
    }
   },
   "outputs": [],
   "source": [
    "// Get AI service instance used to generate images\n",
    "var dallE = kernel.GetService<IImageGeneration>();\n",
    "\n",
    "// Get AI service instance used to extract embedding from a text\n",
    "var textEmbedding = kernel.GetService<ITextEmbeddingGeneration>();"
   ]
  },
  {
   "cell_type": "code",
   "execution_count": null,
   "metadata": {
    "dotnet_interactive": {
     "language": "csharp"
    },
    "polyglot_notebook": {
     "kernelName": "csharp"
    },
    "vscode": {
     "languageId": "polyglot-notebook"
    }
   },
   "outputs": [],
   "source": [
    "// Create a semantic function that generate a random image description.\n",
    "var genImgDescription = kernel.CreateSemanticFunction(\n",
    "    \"Think about an artificial object correlated to number {{$input}}. \" +\n",
    "    \"Describe the image with one detailed sentence. The description cannot contain numbers.\", \n",
    "    maxTokens: 256, temperature: 1);\n",
    "\n",
    "var random = new Random().Next(0, 200);\n",
    "var imageDescription = await genImgDescription.InvokeAsync($\"{random}\");\n",
    "\n",
    "// Use DALL-E 2 to generate an image. OpenAI in this case returns a URL (though you can ask to return a base64 image)\n",
    "var imageUrl = await dallE.GenerateImageAsync(imageDescription.Result.Trim(), 512, 512);\n",
    "\n",
    "await SkiaUtils.ShowImage(imageUrl, 512, 512);"
   ]
  },
  {
   "cell_type": "code",
   "execution_count": null,
   "metadata": {
    "dotnet_interactive": {
     "language": "csharp"
    },
    "polyglot_notebook": {
     "kernelName": "csharp"
    },
    "vscode": {
     "languageId": "polyglot-notebook"
    }
   },
   "outputs": [],
   "source": [
    "var guess = await InteractiveKernel.GetInputAsync(\"Describe the image in your words\");\n",
    "\n",
    "// Compare user guess with real description and calculate score\n",
    "var origEmbedding = await textEmbedding.GenerateEmbeddingsAsync(new List<string> { imageDescription.Result} );\n",
    "var guessEmbedding = await textEmbedding.GenerateEmbeddingsAsync(new List<string> { guess } );\n",
    "var similarity = origEmbedding.First().AsReadOnlySpan().CosineSimilarity(guessEmbedding.First().AsReadOnlySpan());\n",
    "\n",
    "Console.WriteLine($\"Your description:\\n{Utils.WordWrap(guess, 90)}\\n\");\n",
    "Console.WriteLine($\"Real description:\\n{Utils.WordWrap(imageDescription.Result.Trim(), 90)}\\n\");\n",
    "Console.WriteLine($\"Score: {similarity:0.00}\\n\\n\");\n",
    "\n",
    "//Uncomment this line to see the URL provided by OpenAI\n",
    "//Console.WriteLine(imageUrl);"
   ]
  }
 ],
 "metadata": {
  "language_info": {
   "name": "python"
  },
  "orig_nbformat": 4
 },
 "nbformat": 4,
 "nbformat_minor": 2
}
