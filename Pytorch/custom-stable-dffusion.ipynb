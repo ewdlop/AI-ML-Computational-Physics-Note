{
 "cells": [
  {
   "cell_type": "code",
   "execution_count": 1,
   "metadata": {},
   "outputs": [
    {
     "name": "stdout",
     "output_type": "stream",
     "text": [
      "WARNING:tensorflow:From c:\\ProgramData\\anaconda3\\Lib\\site-packages\\keras\\src\\losses.py:2976: The name tf.losses.sparse_softmax_cross_entropy is deprecated. Please use tf.compat.v1.losses.sparse_softmax_cross_entropy instead.\n",
      "\n"
     ]
    },
    {
     "ename": "ImportError",
     "evalue": "cannot import name 'SelfAttention' from 'attention' (c:\\ProgramData\\anaconda3\\Lib\\site-packages\\attention\\__init__.py)",
     "output_type": "error",
     "traceback": [
      "\u001b[1;31m---------------------------------------------------------------------------\u001b[0m",
      "\u001b[1;31mImportError\u001b[0m                               Traceback (most recent call last)",
      "Cell \u001b[1;32mIn[1], line 4\u001b[0m\n\u001b[0;32m      2\u001b[0m \u001b[38;5;28;01mfrom\u001b[39;00m \u001b[38;5;21;01mtorch\u001b[39;00m \u001b[38;5;28;01mimport\u001b[39;00m nn\n\u001b[0;32m      3\u001b[0m \u001b[38;5;28;01mfrom\u001b[39;00m \u001b[38;5;21;01mtorch\u001b[39;00m\u001b[38;5;21;01m.\u001b[39;00m\u001b[38;5;21;01mnn\u001b[39;00m \u001b[38;5;28;01mimport\u001b[39;00m functional\n\u001b[1;32m----> 4\u001b[0m \u001b[38;5;28;01mfrom\u001b[39;00m \u001b[38;5;21;01mattention\u001b[39;00m \u001b[38;5;28;01mimport\u001b[39;00m SelfAttention, CrossAttention\n\u001b[0;32m      5\u001b[0m \u001b[38;5;28;01mfrom\u001b[39;00m \u001b[38;5;21;01mdecoder\u001b[39;00m \u001b[38;5;28;01mimport\u001b[39;00m VAE_AttentionBlock, VAE_ResidualBlock\n",
      "\u001b[1;31mImportError\u001b[0m: cannot import name 'SelfAttention' from 'attention' (c:\\ProgramData\\anaconda3\\Lib\\site-packages\\attention\\__init__.py)"
     ]
    }
   ],
   "source": [
    "import torch\n",
    "from torch import nn\n",
    "from torch.nn import functional\n",
    "from attention import SelfAttention, CrossAttention\n",
    "from decoder import VAE_AttentionBlock, VAE_ResidualBlock"
   ]
  },
  {
   "cell_type": "code",
   "execution_count": null,
   "metadata": {},
   "outputs": [],
   "source": [
    "#https://ezyang.github.io/convolution-visualizer/index.html"
   ]
  },
  {
   "cell_type": "code",
   "execution_count": null,
   "metadata": {},
   "outputs": [],
   "source": [
    "class VAE_Encoder(nn.Sequential): # reducing the size of the image but increasing the number of channels and the number of features\n",
    "    def __init__(self):\n",
    "        super().__init__(\n",
    "            # (Batch_Size, Channel, Height, Width) -> (Batch_Size, 128, Height, Width)\n",
    "            nn.Conv2d(3, 128, kernel_size=3, padding=1),\n",
    "            "
   ]
  },
  {
   "cell_type": "code",
   "execution_count": 2,
   "metadata": {},
   "outputs": [],
   "source": [
    "class TimeEmbedding(nn.Module):\n",
    "    def __init__(self, n_embd):\n",
    "        super().__init__()\n",
    "        self.linear_1 = nn.Linear(n_embd, 4 * n_embd) # 320 -> 1280 \n",
    "        self.linear_2 = nn.Linear(4 * n_embd, 4 * n_embd) # 1280 -> 1280\n",
    "\n",
    "    def forward(self, x):\n",
    "        # x: (1, 320)\n",
    "\n",
    "        # (1, 320) -> (1, 1280)\n",
    "        x = self.linear_1(x)\n",
    "        \n",
    "        # (1, 1280) -> (1, 1280)\n",
    "        # activation function: silu\n",
    "        x = functional.silu(x) \n",
    "        \n",
    "        # (1, 1280) -> (1, 1280)\n",
    "        x = self.linear_2(x)\n",
    "\n",
    "        return x"
   ]
  },
  {
   "cell_type": "code",
   "execution_count": 3,
   "metadata": {},
   "outputs": [],
   "source": [
    "class Upsample(nn.Module):\n",
    "    def __init__(self, channels):\n",
    "        super().__init__()\n",
    "        #This line initializes a 2D convolutional layer with the same number of input and output channels, a kernel size of 3, and padding of 1.\n",
    "        self.conv = nn.Conv2d(channels, channels, kernel_size=3, padding=1) # (Batch_Size, Features, Height, Width) -> (Batch_Size, Features, Height, Width) why paddding = 1  2*1+1 = 3 w\n",
    "    \n",
    "    def forward(self, x):\n",
    "        # (Batch_Size, Features, Height, Width) -> (Batch_Size, Features, Height * 2, Width * 2)\n",
    "        x = functional.interpolate(x, scale_factor=2, mode='nearest')  #upscaled by a factor of 2 using nearest neighbor interpolation, effectively doubles the height and width of the input feature maps, increasing their resolution.\n",
    "        return self.conv(x)"
   ]
  },
  {
   "cell_type": "code",
   "execution_count": null,
   "metadata": {},
   "outputs": [],
   "source": [
    "class UNET_OutputLayer(nn.Module):\n",
    "    def __init__(self, in_channels, out_channels):\n",
    "        super().__init__()\n",
    "        self.groupnorm = nn.GroupNorm(32, in_channels) #https://pytorch.org/docs/stable/generated/torch.nn.GroupNorm.html\n",
    "        self.conv = nn.Conv2d(in_channels, out_channels, kernel_size=3, padding=1)\n",
    "    \n",
    "    def forward(self, x):\n",
    "        # x: (Batch_Size, 320, Height / 8, Width / 8)\n",
    "\n",
    "        # (Batch_Size, 320, Height / 8, Width / 8) -> (Batch_Size, 320, Height / 8, Width / 8)\n",
    "        x = self.groupnorm(x)\n",
    "        \n",
    "        # (Batch_Size, 320, Height / 8, Width / 8) -> (Batch_Size, 320, Height / 8, Width / 8)\n",
    "        x = functional.silu(x)\n",
    "        \n",
    "        # (Batch_Size, 320, Height / 8, Width / 8) -> (Batch_Size, 4, Height / 8, Width / 8)\n",
    "        x = self.conv(x)\n",
    "        \n",
    "        # (Batch_Size, 4, Height / 8, Width / 8) \n",
    "        return x\n"
   ]
  }
 ],
 "metadata": {
  "kernelspec": {
   "display_name": "base",
   "language": "python",
   "name": "python3"
  },
  "language_info": {
   "codemirror_mode": {
    "name": "ipython",
    "version": 3
   },
   "file_extension": ".py",
   "mimetype": "text/x-python",
   "name": "python",
   "nbconvert_exporter": "python",
   "pygments_lexer": "ipython3",
   "version": "3.11.5"
  }
 },
 "nbformat": 4,
 "nbformat_minor": 2
}
