{
 "cells": [
  {
   "cell_type": "code",
   "execution_count": 1,
   "metadata": {
    "dotnet_interactive": {
     "language": "fsharp"
    },
    "polyglot_notebook": {
     "kernelName": "fsharp"
    }
   },
   "outputs": [
    {
     "data": {
      "text/html": [
       "<div><div></div><div></div><div><strong>Installed Packages</strong><ul><li><span>TorchSharp-cpu, 0.100.5</span></li></ul></div></div>"
      ]
     },
     "metadata": {},
     "output_type": "display_data"
    },
    {
     "data": {
      "text/plain": [
       "Loading extensions from `C:\\Users\\Ray\\.nuget\\packages\\skiasharp\\2.88.3\\interactive-extensions\\dotnet\\SkiaSharp.DotNet.Interactive.dll`"
      ]
     },
     "metadata": {},
     "output_type": "display_data"
    }
   ],
   "source": [
    "#r \"nuget:TorchSharp-cpu\""
   ]
  },
  {
   "cell_type": "code",
   "execution_count": 2,
   "metadata": {
    "dotnet_interactive": {
     "language": "fsharp"
    },
    "polyglot_notebook": {
     "kernelName": "fsharp"
    }
   },
   "outputs": [],
   "source": [
    "open TorchSharp\n",
    "\n",
    "open type TorchSharp.torch\n",
    "open type TorchSharp.torch.nn\n",
    "open type TorchSharp.torch.nn.functional\n",
    "open type TorchSharp.TensorExtensionMethods"
   ]
  },
  {
   "cell_type": "code",
   "execution_count": 5,
   "metadata": {
    "dotnet_interactive": {
     "language": "fsharp"
    },
    "polyglot_notebook": {
     "kernelName": "fsharp"
    }
   },
   "outputs": [],
   "source": [
    "open Microsoft.DotNet.Interactive.Formatting\n",
    "\n",
    "Formatter.SetPreferredMimeTypesFor(typeof<torch.Tensor>, \"text/plain\")\n",
    "Formatter.Register<torch.Tensor>(fun (x:torch.Tensor) -> x.ToString(TorchSharp.TensorStringStyle.Default))"
   ]
  },
  {
   "cell_type": "code",
   "execution_count": 6,
   "metadata": {
    "dotnet_interactive": {
     "language": "fsharp"
    },
    "polyglot_notebook": {
     "kernelName": "fsharp"
    }
   },
   "outputs": [
    {
     "data": {
      "text/plain": [
       "[2x3x3], type = Float32, device = cpu\r\n",
       "[0,..,..] =\r\n",
       " 1 1 1\r\n",
       " 1 1 1\r\n",
       " 1 1 1\r\n",
       "\r\n",
       "[1,..,..] =\r\n",
       " 1 1 1\r\n",
       " 1 1 1\r\n",
       " 1 1 1\r\n"
      ]
     },
     "metadata": {},
     "output_type": "display_data"
    }
   ],
   "source": [
    "torch.ones(2,3,3)"
   ]
  },
  {
   "cell_type": "code",
   "execution_count": 7,
   "metadata": {
    "dotnet_interactive": {
     "language": "fsharp"
    },
    "polyglot_notebook": {
     "kernelName": "fsharp"
    }
   },
   "outputs": [
    {
     "data": {
      "text/plain": [
       "[[[1, 1, 1]\r\n",
       "  [1, 1, 1]\r\n",
       "  [1, 1, 1]]\r\n",
       "\r\n",
       " [[1, 1, 1]\r\n",
       "  [1, 1, 1]\r\n",
       "  [1, 1, 1]]]"
      ]
     },
     "metadata": {},
     "output_type": "display_data"
    }
   ],
   "source": [
    "torch.TensorStringStyle <- torch.numpy;\n",
    "\n",
    "torch.ones(2,3,3)"
   ]
  },
  {
   "cell_type": "code",
   "execution_count": 8,
   "metadata": {
    "dotnet_interactive": {
     "language": "fsharp"
    },
    "polyglot_notebook": {
     "kernelName": "fsharp"
    }
   },
   "outputs": [
    {
     "data": {
      "text/plain": [
       "[2x3x3], type = Float32, device = cpu, value = \r\n",
       "float [,,] {\r\n",
       " {{0.63038f, 0.166f, 0.39918f},\r\n",
       "  {0.2993f, 0.011447f, 0.29198f},\r\n",
       "  {0.85412f, 0.35491f, 0.90008f}},\r\n",
       " {{0.93124f, 0.53538f, 0.088305f},\r\n",
       "  {0.69392f, 0.93289f, 0.67151f},\r\n",
       "  {0.018329f, 0.27881f, 0.20212f}}\r\n",
       "}"
      ]
     },
     "metadata": {},
     "output_type": "display_data"
    }
   ],
   "source": [
    "torch.TensorStringStyle <- torch.csharp;\n",
    "\n",
    "torch.rand(2,3,3)"
   ]
  }
 ],
 "metadata": {
  "kernelspec": {
   "display_name": ".NET (F#)",
   "language": "F#",
   "name": ".net-fsharp"
  },
  "language_info": {
   "name": "polyglot-notebook"
  },
  "polyglot_notebook": {
   "kernelInfo": {
    "defaultKernelName": "fsharp",
    "items": [
     {
      "aliases": [],
      "languageName": "fsharp",
      "name": "fsharp"
     }
    ]
   }
  }
 },
 "nbformat": 4,
 "nbformat_minor": 2
}
