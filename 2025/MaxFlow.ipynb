{
 "cells": [
  {
   "cell_type": "markdown",
   "metadata": {
    "id": "vVnH1vOeKeSh"
   },
   "source": [
    "# **Max Flow Ford-Fulkerson Algorithm**"
   ]
  },
  {
   "cell_type": "code",
   "execution_count": 1,
   "metadata": {
    "executionInfo": {
     "elapsed": 4,
     "status": "ok",
     "timestamp": 1640573138026,
     "user": {
      "displayName": "Alexandr Andoni",
      "photoUrl": "https://lh3.googleusercontent.com/a-/AOh14GgCtiQSTjTJQMmP3lx_rTddamgQg6M3JEqL4CJW=s64",
      "userId": "14310202402022026553"
     },
     "user_tz": 300
    },
    "id": "Wn1TZDR1xn_H"
   },
   "outputs": [],
   "source": [
    "import time\n",
    "import math\n",
    "import sys\n",
    "import heapq\n",
    "from collections import defaultdict"
   ]
  },
  {
   "cell_type": "code",
   "execution_count": 2,
   "metadata": {
    "executionInfo": {
     "elapsed": 5,
     "status": "ok",
     "timestamp": 1640463155021,
     "user": {
      "displayName": "Alexandr Andoni",
      "photoUrl": "https://lh3.googleusercontent.com/a-/AOh14GgCtiQSTjTJQMmP3lx_rTddamgQg6M3JEqL4CJW=s64",
      "userId": "14310202402022026553"
     },
     "user_tz": 300
    },
    "id": "RvKleSJIMex4"
   },
   "outputs": [],
   "source": [
    "# BFS to check if there is a path from source vertex to sink\n",
    "# vertex in residual graph. It also stores the parent information,\n",
    "# used to retrieve the actual path. \n",
    "def BFS(sourse, goal, parent, graph):\n",
    "  n_v = len(graph)\n",
    "  queue = list()\n",
    "  visited = [False]*(n_v)\n",
    "\n",
    "  queue.append(sourse)\n",
    "  visited[sourse] = True\n",
    "\n",
    "  while queue:\n",
    "    curr_v = queue.pop(0)\n",
    "    for idx, flow_val in enumerate(graph[curr_v]):\n",
    "      if visited[idx] == False and flow_val > 0:\n",
    "        queue.append(idx)\n",
    "        parent[idx] = curr_v\n",
    "        visited[idx] = True\n",
    "\n",
    "        if idx == goal:\n",
    "          return True\n",
    "  \n",
    "  return False"
   ]
  },
  {
   "cell_type": "code",
   "execution_count": 3,
   "metadata": {
    "executionInfo": {
     "elapsed": 3,
     "status": "ok",
     "timestamp": 1640463156095,
     "user": {
      "displayName": "Alexandr Andoni",
      "photoUrl": "https://lh3.googleusercontent.com/a-/AOh14GgCtiQSTjTJQMmP3lx_rTddamgQg6M3JEqL4CJW=s64",
      "userId": "14310202402022026553"
     },
     "user_tz": 300
    },
    "id": "xg3iMyZiRP4u"
   },
   "outputs": [],
   "source": [
    "# Find maximum flow from source to sink vertex in the graph\n",
    "def FordFulkerson(s, t, graph):\n",
    "  n_v = len(graph)\n",
    "  parent = [-1]*(n_v)\n",
    "\n",
    "  maxflow = 0\n",
    "  # Augment the flow while a path from source to sink exists\n",
    "  # Print that path as well along with the flow information\n",
    "  while BFS(s, t, parent, graph):\n",
    "    print(\"PATH: \")\n",
    "    pathflow = float(\"Inf\")\n",
    "    source = t\n",
    "    while s != source:\n",
    "      print(source)\n",
    "      pathflow = min (pathflow, graph[parent[source]][source])\n",
    "      source = parent[source]\n",
    "    \n",
    "    print(source)\n",
    "    print(\"Path Flow: \", pathflow)\n",
    "    maxflow +=  pathflow\n",
    "\n",
    "    sink = t\n",
    "    # update residual capacities of the edges in the graph along the path\n",
    "    while sink != s:\n",
    "      u = parent[sink]\n",
    "      graph[u][sink] -= pathflow\n",
    "      graph[sink][u] += pathflow\n",
    "      sink = parent[sink]\n",
    "    \n",
    "  return maxflow"
   ]
  },
  {
   "cell_type": "markdown",
   "metadata": {
    "id": "plDYzKgEDukN"
   },
   "source": [
    "**Test Case**"
   ]
  },
  {
   "cell_type": "code",
   "execution_count": 4,
   "metadata": {
    "executionInfo": {
     "elapsed": 138,
     "status": "ok",
     "timestamp": 1640463158778,
     "user": {
      "displayName": "Alexandr Andoni",
      "photoUrl": "https://lh3.googleusercontent.com/a-/AOh14GgCtiQSTjTJQMmP3lx_rTddamgQg6M3JEqL4CJW=s64",
      "userId": "14310202402022026553"
     },
     "user_tz": 300
    },
    "id": "9LDdrtbSgFaK"
   },
   "outputs": [],
   "source": [
    "source = 0\n",
    "sink = 5\n",
    "graph = [[0, 10, 0, 10, 0, 0],\n",
    "        [0, 0, 4, 2, 8, 0],\n",
    "        [0, 0, 0, 0, 0, 10],\n",
    "        [0, 0, 0, 0, 9, 0],\n",
    "        [0, 0, 6, 0, 0, 10],\n",
    "        [0, 0, 0, 0, 0, 0]]"
   ]
  },
  {
   "cell_type": "code",
   "execution_count": 5,
   "metadata": {
    "colab": {
     "base_uri": "https://localhost:8080/"
    },
    "executionInfo": {
     "elapsed": 209,
     "status": "ok",
     "timestamp": 1640463161365,
     "user": {
      "displayName": "Alexandr Andoni",
      "photoUrl": "https://lh3.googleusercontent.com/a-/AOh14GgCtiQSTjTJQMmP3lx_rTddamgQg6M3JEqL4CJW=s64",
      "userId": "14310202402022026553"
     },
     "user_tz": 300
    },
    "id": "XPeyHhYogc-b",
    "outputId": "8d74e06b-dcac-457e-9b3b-d676022b889f"
   },
   "outputs": [
    {
     "name": "stdout",
     "output_type": "stream",
     "text": [
      "PATH: \n",
      "5\n",
      "2\n",
      "1\n",
      "0\n",
      "Path Flow:  4\n",
      "PATH: \n",
      "5\n",
      "4\n",
      "1\n",
      "0\n",
      "Path Flow:  6\n",
      "PATH: \n",
      "5\n",
      "4\n",
      "3\n",
      "0\n",
      "Path Flow:  4\n",
      "PATH: \n",
      "5\n",
      "2\n",
      "4\n",
      "3\n",
      "0\n",
      "Path Flow:  5\n"
     ]
    },
    {
     "data": {
      "text/plain": [
       "19"
      ]
     },
     "execution_count": 5,
     "metadata": {},
     "output_type": "execute_result"
    }
   ],
   "source": [
    "FordFulkerson(source, sink, graph)"
   ]
  },
  {
   "cell_type": "markdown",
   "metadata": {
    "id": "MAVpveIpDz30"
   },
   "source": [
    "**Test Case**"
   ]
  },
  {
   "cell_type": "code",
   "execution_count": 6,
   "metadata": {
    "executionInfo": {
     "elapsed": 136,
     "status": "ok",
     "timestamp": 1640463167741,
     "user": {
      "displayName": "Alexandr Andoni",
      "photoUrl": "https://lh3.googleusercontent.com/a-/AOh14GgCtiQSTjTJQMmP3lx_rTddamgQg6M3JEqL4CJW=s64",
      "userId": "14310202402022026553"
     },
     "user_tz": 300
    },
    "id": "EgdSYMdIB1-M"
   },
   "outputs": [],
   "source": [
    "source = 0\n",
    "sink = 10\n",
    "graph = [[0, 5, 10, 5, 0, 0, 0, 0, 0, 0, 0],\n",
    "        [0, 0, 0, 0, 10, 0, 0, 0, 0, 0, 0],\n",
    "        [0, 15, 0, 0, 0, 20, 0, 0, 0, 0, 0],\n",
    "        [0, 0, 0, 0, 0, 0, 10, 0, 0, 0, 0],\n",
    "        [0, 0, 0, 0, 0, 25, 0, 10, 0, 0, 0],\n",
    "        [0, 0, 0, 0, 0, 0, 0, 0, 30, 0, 0],\n",
    "        [0, 0, 0, 0, 0, 0, 0, 0, 5, 10, 0],\n",
    "        [0, 0, 0, 0, 0, 0, 0, 0, 0, 0, 5],\n",
    "        [0, 0, 0, 0, 15, 0, 0, 0, 0, 5, 15],\n",
    "        [0, 0, 0, 0, 0, 0, 0, 0, 0, 0, 10],\n",
    "        [0, 0, 0, 0, 0, 0, 0, 0, 0, 0, 0]]"
   ]
  },
  {
   "cell_type": "code",
   "execution_count": 7,
   "metadata": {
    "colab": {
     "base_uri": "https://localhost:8080/"
    },
    "executionInfo": {
     "elapsed": 166,
     "status": "ok",
     "timestamp": 1640463170924,
     "user": {
      "displayName": "Alexandr Andoni",
      "photoUrl": "https://lh3.googleusercontent.com/a-/AOh14GgCtiQSTjTJQMmP3lx_rTddamgQg6M3JEqL4CJW=s64",
      "userId": "14310202402022026553"
     },
     "user_tz": 300
    },
    "id": "Gp-pcBr6DoLI",
    "outputId": "3c655185-7a8b-44c7-a2f4-b642bf3e0946"
   },
   "outputs": [
    {
     "name": "stdout",
     "output_type": "stream",
     "text": [
      "PATH: \n",
      "10\n",
      "7\n",
      "4\n",
      "1\n",
      "0\n",
      "Path Flow:  5\n",
      "PATH: \n",
      "10\n",
      "8\n",
      "5\n",
      "2\n",
      "0\n",
      "Path Flow:  10\n",
      "PATH: \n",
      "10\n",
      "8\n",
      "6\n",
      "3\n",
      "0\n",
      "Path Flow:  5\n"
     ]
    },
    {
     "data": {
      "text/plain": [
       "20"
      ]
     },
     "execution_count": 7,
     "metadata": {},
     "output_type": "execute_result"
    }
   ],
   "source": [
    "FordFulkerson(source, sink, graph)"
   ]
  }
 ],
 "metadata": {
  "colab": {
   "collapsed_sections": [],
   "name": "MaxFlow.ipynb",
   "provenance": []
  },
  "kernelspec": {
   "display_name": "Python 3",
   "language": "python",
   "name": "python3"
  },
  "language_info": {
   "codemirror_mode": {
    "name": "ipython",
    "version": 3
   },
   "file_extension": ".py",
   "mimetype": "text/x-python",
   "name": "python",
   "nbconvert_exporter": "python",
   "pygments_lexer": "ipython3",
   "version": "3.6.9"
  }
 },
 "nbformat": 4,
 "nbformat_minor": 1
}
