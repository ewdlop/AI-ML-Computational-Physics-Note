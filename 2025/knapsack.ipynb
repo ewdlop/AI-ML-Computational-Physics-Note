{
 "cells": [
  {
   "cell_type": "code",
   "execution_count": 1,
   "metadata": {
    "executionInfo": {
     "elapsed": 5,
     "status": "ok",
     "timestamp": 1642620247734,
     "user": {
      "displayName": "Alexandr Andoni",
      "photoUrl": "https://lh3.googleusercontent.com/a-/AOh14GgCtiQSTjTJQMmP3lx_rTddamgQg6M3JEqL4CJW=s64",
      "userId": "14310202402022026553"
     },
     "user_tz": 300
    },
    "id": "BApYXMPDTaDN"
   },
   "outputs": [],
   "source": [
    "import time\n",
    "import math"
   ]
  },
  {
   "cell_type": "markdown",
   "metadata": {
    "id": "MiLIPF6oTaDQ"
   },
   "source": [
    "# Non DP Knapsack Implementation"
   ]
  },
  {
   "cell_type": "code",
   "execution_count": 2,
   "metadata": {
    "executionInfo": {
     "elapsed": 222,
     "status": "ok",
     "timestamp": 1642620247953,
     "user": {
      "displayName": "Alexandr Andoni",
      "photoUrl": "https://lh3.googleusercontent.com/a-/AOh14GgCtiQSTjTJQMmP3lx_rTddamgQg6M3JEqL4CJW=s64",
      "userId": "14310202402022026553"
     },
     "user_tz": 300
    },
    "id": "wHc6faPDTaDS"
   },
   "outputs": [],
   "source": [
    "def nonDPKnapSack(totalWeight, weights, value, totalItems, dp):\n",
    "    if totalItems is 0:\n",
    "        return 0\n",
    "    \n",
    "    if totalWeight is 0:\n",
    "        return 0\n",
    "    \n",
    "    if weights[totalItems-1] <= totalWeight:\n",
    "        weight_picked = value[totalItems-1] + nonDPKnapSack(totalWeight-weights[totalItems-1], weights, value, totalItems-1, dp)\n",
    "        weight_not_picked = nonDPKnapSack(totalWeight, weights, value, totalItems-1, dp)\n",
    "        dp[totalItems][totalWeight] = max(weight_picked, weight_not_picked)\n",
    "        return dp[totalItems][totalWeight]\n",
    "    \n",
    "    else: \n",
    "        dp[totalItems][totalWeight] = nonDPKnapSack(totalWeight, weights, value, totalItems-1, dp)\n",
    "        return dp[totalItems][totalWeight]\n"
   ]
  },
  {
   "cell_type": "markdown",
   "metadata": {
    "id": "Nettj7VqTaDS"
   },
   "source": [
    "# DP KnapSack Non Recursive Implementation"
   ]
  },
  {
   "cell_type": "code",
   "execution_count": 3,
   "metadata": {
    "executionInfo": {
     "elapsed": 145,
     "status": "ok",
     "timestamp": 1642620255789,
     "user": {
      "displayName": "Alexandr Andoni",
      "photoUrl": "https://lh3.googleusercontent.com/a-/AOh14GgCtiQSTjTJQMmP3lx_rTddamgQg6M3JEqL4CJW=s64",
      "userId": "14310202402022026553"
     },
     "user_tz": 300
    },
    "id": "-y4Fpw-aTaDT"
   },
   "outputs": [],
   "source": [
    "def dpKnapSack(totalWeight, weights, value, totalItems):\n",
    "    dp = [[0 for i in range(0, totalWeight+1)] for j in range(0,totalItems+1)]\n",
    "    \n",
    "    for i in range(0, totalItems+1):\n",
    "        for j in range(0, totalWeight+1):\n",
    "            if j==0 or i==0:\n",
    "                dp[i][j] = 0\n",
    "            elif j >= weights[i-1]:\n",
    "                dp[i][j] = max(value[i-1]+dp[i-1][j-weights[i-1]], dp[i-1][j])\n",
    "            else:\n",
    "                dp[i][j] = dp[i-1][j]\n",
    "    \n",
    "    return dp"
   ]
  },
  {
   "cell_type": "markdown",
   "metadata": {
    "id": "Ro4jcOHJTaDU"
   },
   "source": [
    "# DP KnapSack Recursive Implementation"
   ]
  },
  {
   "cell_type": "code",
   "execution_count": 4,
   "metadata": {
    "executionInfo": {
     "elapsed": 134,
     "status": "ok",
     "timestamp": 1642620258085,
     "user": {
      "displayName": "Alexandr Andoni",
      "photoUrl": "https://lh3.googleusercontent.com/a-/AOh14GgCtiQSTjTJQMmP3lx_rTddamgQg6M3JEqL4CJW=s64",
      "userId": "14310202402022026553"
     },
     "user_tz": 300
    },
    "id": "jrGtMw--TaDU"
   },
   "outputs": [],
   "source": [
    "def dpKnapSackRecursive(totalWeight, weights, value, totalItems, dp):\n",
    "    if totalItems is 0 :\n",
    "        return 0\n",
    "    \n",
    "    if totalWeight is 0:\n",
    "        return 0\n",
    "    \n",
    "    if dp[totalItems][totalWeight] is not -1:\n",
    "        return dp[totalItems][totalWeight]\n",
    "\n",
    "    if weights[totalItems-1] <= totalWeight:\n",
    "        dp[totalItems][totalWeight] = max(value[totalItems-1]+dpKnapSackRecursive(totalWeight-weights[totalItems-1], weights, value, totalItems-1, dp), \n",
    "                      dpKnapSackRecursive(totalWeight, weights, value, totalItems-1, dp))\n",
    "        return dp[totalItems][totalWeight]\n",
    "    else:\n",
    "        dp[totalItems][totalWeight] = dpKnapSackRecursive(totalWeight, weights, value, totalItems-1, dp)\n",
    "        return dp[totalItems][totalWeight]"
   ]
  },
  {
   "cell_type": "code",
   "execution_count": 5,
   "metadata": {
    "executionInfo": {
     "elapsed": 150,
     "status": "ok",
     "timestamp": 1642620327057,
     "user": {
      "displayName": "Alexandr Andoni",
      "photoUrl": "https://lh3.googleusercontent.com/a-/AOh14GgCtiQSTjTJQMmP3lx_rTddamgQg6M3JEqL4CJW=s64",
      "userId": "14310202402022026553"
     },
     "user_tz": 300
    },
    "id": "Q1BxlJHIXNZj"
   },
   "outputs": [],
   "source": [
    "def printKnapsackPickedWeights(dp, weights, value, W, n):\n",
    "  \n",
    "  ans = dp[n][W]\n",
    "  for i in range(n, 0, -1):\n",
    "    if ans <= 0:\n",
    "      break\n",
    "    \n",
    "    if ans != dp[i - 1][W]:\n",
    "      print(weights[i - 1])\n",
    "      ans = ans - value[i - 1]\n",
    "      W = W - weights[i - 1]\n"
   ]
  },
  {
   "cell_type": "markdown",
   "metadata": {
    "id": "kWvJkVzTTaDV"
   },
   "source": [
    "# Test Case 1"
   ]
  },
  {
   "cell_type": "code",
   "execution_count": 6,
   "metadata": {
    "colab": {
     "base_uri": "https://localhost:8080/"
    },
    "executionInfo": {
     "elapsed": 122,
     "status": "ok",
     "timestamp": 1642620329430,
     "user": {
      "displayName": "Alexandr Andoni",
      "photoUrl": "https://lh3.googleusercontent.com/a-/AOh14GgCtiQSTjTJQMmP3lx_rTddamgQg6M3JEqL4CJW=s64",
      "userId": "14310202402022026553"
     },
     "user_tz": 300
    },
    "id": "QS-kSd2kTaDW",
    "outputId": "6fedea41-2e55-4b2f-9261-1a90798c9433"
   },
   "outputs": [
    {
     "name": "stdout",
     "output_type": "stream",
     "text": [
      "---Test Case 1: Knapsack, DP iterative---\n",
      "DP iterative:\n",
      "Answer:  37\n",
      "9\n",
      "5\n",
      "4\n",
      "Time: 0.001302957534790039\n",
      "\n",
      "---Test Case 1: Knapsack, DP recursive---\n",
      "Answer:  37\n",
      "9\n",
      "5\n",
      "4\n",
      "Time: 0.0012097358703613281\n",
      "\n",
      "---Test Case 1: Knapsack, non-DP recursive---\n",
      "DP iterative:\n",
      "Answer:  37\n",
      "9\n",
      "5\n",
      "4\n",
      "Time: 0.0002989768981933594\n"
     ]
    }
   ],
   "source": [
    "totalWeight = 20\n",
    "weights = [4, 8, 5, 9]\n",
    "value = [8, 5, 9, 20]\n",
    "totalItems = 4\n",
    "\n",
    "print(\"---Test Case 1: Knapsack, DP iterative---\")\n",
    "\n",
    "print(\"DP iterative:\")\n",
    "start = time.time()\n",
    "dp = dpKnapSack(totalWeight, weights, value, totalItems)\n",
    "print(\"Answer: \", dp[totalItems][totalWeight])\n",
    "printKnapsackPickedWeights(dp, weights, value, totalWeight, totalItems)\n",
    "end = time.time()\n",
    "print(\"Time:\", end - start)\n",
    "\n",
    "print(\"\\n---Test Case 1: Knapsack, DP recursive---\")\n",
    "\n",
    "dp = [[-1 for i in range(0, totalWeight+1)] for j in range(0,totalItems+1)]\n",
    "start = time.time()\n",
    "print(\"Answer: \", dpKnapSackRecursive(totalWeight, weights, value, totalItems, dp))\n",
    "printKnapsackPickedWeights(dp, weights, value, totalWeight, totalItems)\n",
    "end = time.time()\n",
    "print(\"Time:\", end - start)\n",
    "\n",
    "print(\"\\n---Test Case 1: Knapsack, non-DP recursive---\")\n",
    "\n",
    "dp = [[-1 for i in range(0, totalWeight+1)] for j in range(0,totalItems+1)]\n",
    "print(\"DP iterative:\")\n",
    "start = time.time()\n",
    "print(\"Answer: \", nonDPKnapSack(totalWeight, weights, value, totalItems,dp))\n",
    "printKnapsackPickedWeights(dp, weights, value, totalWeight, totalItems)\n",
    "end = time.time()\n",
    "print(\"Time:\", end - start)\n"
   ]
  },
  {
   "cell_type": "markdown",
   "metadata": {
    "id": "ZL9edhrKTaDX"
   },
   "source": [
    "# Test Case 2"
   ]
  },
  {
   "cell_type": "code",
   "execution_count": null,
   "metadata": {
    "colab": {
     "base_uri": "https://localhost:8080/"
    },
    "id": "D4BTf8lITaDY",
    "outputId": "eec9dc1b-10e5-44b8-e5fd-43742d816e86"
   },
   "outputs": [
    {
     "name": "stdout",
     "output_type": "stream",
     "text": [
      "---Test Case 2: Knapsack, DP iterative---\n",
      "DP iterative:\n",
      "Answer:  9679\n",
      "507\n",
      "549\n",
      "176\n",
      "738\n",
      "285\n",
      "698\n",
      "707\n",
      "354\n",
      "672\n",
      "802\n",
      "773\n",
      "903\n",
      "184\n",
      "822\n",
      "128\n",
      "97\n",
      "952\n",
      "560\n",
      "Time: 0.16908049583435059\n",
      "\n",
      "---Test Case 2: Knapsack, DP recursive---\n",
      "Answer:  9679\n",
      "507\n",
      "549\n",
      "176\n",
      "738\n",
      "285\n",
      "698\n",
      "707\n",
      "354\n",
      "672\n",
      "802\n",
      "773\n",
      "903\n",
      "184\n",
      "822\n",
      "128\n",
      "97\n",
      "952\n",
      "560\n",
      "Time: 0.0975804328918457\n",
      "\n",
      "---Test Case 2: Knapsack, non-DP recursive---\n",
      "DP iterative:\n"
     ]
    }
   ],
   "source": [
    "totalWeight = 10000\n",
    "weights = [560, 952, 97, 128, 822, 527, 184, 903, 773, 802, 672, 354, 707, 698, 285, 816, 681, 429, 738, 176, 549, 507, 220]\n",
    "value = [676, 161, 605, 893, 426, 53, 974, 413, 834, 250, 341, 195, 212, 483, 673, 157, 152, 19, 771, 661, 814, 297, 923]\n",
    "totalItems = 22\n",
    "\n",
    "print(\"---Test Case 2: Knapsack, DP iterative---\")\n",
    "\n",
    "print(\"DP iterative:\")\n",
    "start = time.time()\n",
    "dp = dpKnapSack(totalWeight, weights, value, totalItems)\n",
    "print(\"Answer: \", dp[totalItems][totalWeight])\n",
    "printKnapsackPickedWeights(dp, weights, value, totalWeight, totalItems)\n",
    "end = time.time()\n",
    "print(\"Time:\", end - start)\n",
    "\n",
    "print(\"\\n---Test Case 2: Knapsack, DP recursive---\")\n",
    "\n",
    "dp = [[-1 for i in range(0, totalWeight+1)] for j in range(0,totalItems+1)]\n",
    "start = time.time()\n",
    "print(\"Answer: \", dpKnapSackRecursive(totalWeight, weights, value, totalItems, dp))\n",
    "printKnapsackPickedWeights(dp, weights, value, totalWeight, totalItems)\n",
    "end = time.time()\n",
    "print(\"Time:\", end - start)\n",
    "\n",
    "print(\"\\n---Test Case 2: Knapsack, non-DP recursive---\")\n",
    "dp = [[-1 for i in range(0, totalWeight+1)] for j in range(0,totalItems+1)]\n",
    "print(\"DP iterative:\")\n",
    "start = time.time()\n",
    "print(\"Answer: \", nonDPKnapSack(totalWeight, weights, value, totalItems, dp))\n",
    "printKnapsackPickedWeights(dp, weights, value, totalWeight, totalItems)\n",
    "end = time.time()\n",
    "print(\"Time:\", end - start)\n"
   ]
  },
  {
   "cell_type": "code",
   "execution_count": null,
   "metadata": {
    "id": "a2zrVJQLTaDY"
   },
   "outputs": [],
   "source": []
  }
 ],
 "metadata": {
  "colab": {
   "collapsed_sections": [],
   "name": "knapsack.ipynb",
   "provenance": []
  },
  "kernelspec": {
   "display_name": "Python 3",
   "language": "python",
   "name": "python3"
  },
  "language_info": {
   "codemirror_mode": {
    "name": "ipython",
    "version": 3
   },
   "file_extension": ".py",
   "mimetype": "text/x-python",
   "name": "python",
   "nbconvert_exporter": "python",
   "pygments_lexer": "ipython3",
   "version": "3.6.9"
  }
 },
 "nbformat": 4,
 "nbformat_minor": 1
}
