{
 "cells": [
  {
   "cell_type": "code",
   "execution_count": null,
   "metadata": {},
   "outputs": [],
   "source": [
    "from qiskit import Aer\n",
    "from qiskit.circuit.library import EfficientSU2\n",
    "from qiskit.algorithms.optimizers import COBYLA\n",
    "from qiskit.algorithms import VQE\n",
    "from qiskit.opflow import I, Z\n",
    "import numpy as np"
   ]
  },
  {
   "cell_type": "code",
   "execution_count": null,
   "metadata": {},
   "outputs": [],
   "source": [
    "from qiskit.opflow import PauliSumOp\n",
    "\n",
    "# Define a simple Pauli-Z Hamiltonian\n",
    "hamiltonian = PauliSumOp.from_list([(\"Z\", 1.0)])\n"
   ]
  },
  {
   "cell_type": "code",
   "execution_count": null,
   "metadata": {},
   "outputs": [],
   "source": [
    "from qiskit.circuit.library import RealAmplitudes\n",
    "\n",
    "# Create a 1-qubit parameterized ansatz\n",
    "ansatz = RealAmplitudes(num_qubits=1, reps=1)\n",
    "\n",
    "# Display the ansatz circuit\n",
    "print(ansatz.draw())\n"
   ]
  },
  {
   "cell_type": "code",
   "execution_count": null,
   "metadata": {},
   "outputs": [],
   "source": [
    "# Define the quantum simulator\n",
    "simulator = Aer.get_backend('aer_simulator_statevector')\n",
    "\n",
    "# Define the optimizer (COBYLA, SPSA, etc.)\n",
    "optimizer = COBYLA(maxiter=100)\n",
    "\n",
    "# Run VQE\n",
    "vqe = VQE(ansatz, optimizer=optimizer, quantum_instance=simulator)\n",
    "result = vqe.compute_minimum_eigenvalue(hamiltonian)\n",
    "\n",
    "# Print results\n",
    "print(\"Minimum Eigenvalue:\", result.eigenvalue.real)\n"
   ]
  }
 ],
 "metadata": {
  "kernelspec": {
   "display_name": "Python 3",
   "language": "python",
   "name": "python3"
  },
  "language_info": {
   "name": "python",
   "version": "3.11.9"
  }
 },
 "nbformat": 4,
 "nbformat_minor": 2
}
