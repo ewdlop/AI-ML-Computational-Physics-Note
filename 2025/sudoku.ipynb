{
 "cells": [
  {
   "cell_type": "markdown",
   "metadata": {
    "deletable": false,
    "editable": false,
    "nbgrader": {
     "checksum": "b9405650633ad46dae6c06dced33f3fe",
     "grade": false,
     "grade_id": "cell-f9462f4c07d91b92",
     "locked": true,
     "schema_version": 1,
     "solution": false
    }
   },
   "source": [
    "# Sudoku Solver Assignment"
   ]
  },
  {
   "cell_type": "markdown",
   "metadata": {
    "deletable": false,
    "editable": false,
    "nbgrader": {
     "checksum": "a72a8c8fd1898a9460ff2ae641e987f5",
     "grade": false,
     "grade_id": "cell-1b28587721636f42",
     "locked": true,
     "schema_version": 1,
     "solution": false
    }
   },
   "source": [
    "**Instructions:**\n",
    "\n",
    "- Use ***'Codio'*** platform to finish this assignment. If you download this file, don't upload a new ipynb file with your answers.\n",
    "- You can add new cells to test the code. The added cells are not graded and don't count for the final score. ***Note: if your code uses helper function please have them define in the cells marked with 'Q'***\n",
    "- Your final answers have to be typed in the cells that are marked with \"**Q**\".   \n",
    "- After you finishing the assignment, please check whether you have saved your assignment. You can save assignment using CLTR-S or File -> Save Checkpoint\n",
    "- Once you complete your assignment you can submit by clicking on Education -> Marked as Complete\n",
    "- ***Do not change the parameters of the methods or the autograder will mark the answer as incorrect***"
   ]
  },
  {
   "cell_type": "markdown",
   "metadata": {
    "deletable": false,
    "editable": false,
    "nbgrader": {
     "checksum": "d9f474290134febae026a4c0b911794b",
     "grade": false,
     "grade_id": "cell-19a41fc7896fc0b0",
     "locked": true,
     "schema_version": 1,
     "solution": false
    }
   },
   "source": [
    "# I. Introduction\n",
    "\n",
    "Consider the Sudoku puzzle as pictured below. There are 81 variables in total, i.e. the tiles to be filled with digits. Each variable is named by its row and its column, and must be assigned a value from 1 to 9, subject to the constraint that no two cells in the same row, column, or box may contain the same value.\n",
    "\n",
    "<div>\n",
    "<img src=\"attachment:image.png\" width=\"400\"/>\n",
    "</div>\n",
    "\n",
    "\n",
    "In this project, the goal is to build a Sudoku puzzle solver. We will focus on implementing the AC3 and the backtracking search algorithms that we learned. Below describes the grading for each part of the project:\n",
    "\n",
    "#### CSP Class (10 points): \n",
    "    - Board (2.5 points)\n",
    "    - Domain (2.5 points)\n",
    "    - Contraints (5 points)\n",
    "#### AC3 Algorithm (40 points):\n",
    "    - CreateArcs (10 points)\n",
    "    - Revise (10 points)\n",
    "    - AC3 main algorithm (20 points)\n",
    "#### BTS (50 points):\n",
    "    - SelectUnassignVariable (10 points)\n",
    "    - CheckAssignment (5 points)\n",
    "    - CheckConsistent (5 points)\n",
    "    - BTS algorithm (30 Points)"
   ]
  },
  {
   "cell_type": "markdown",
   "metadata": {
    "deletable": false,
    "editable": false,
    "nbgrader": {
     "checksum": "9f188b59267f0c5b4cf8960857c5f7ed",
     "grade": false,
     "grade_id": "cell-e5aa3c0a49838442",
     "locked": true,
     "schema_version": 1,
     "solution": false
    }
   },
   "source": [
    "# II. CSP Class\n",
    "\n",
    "\n",
    "In designing your classes, please represent a Sudoku board with a Python dictionary. The keys of the dictionary will be the variable names, each of which corresponds directly to a location on the board. In other words, we use the variable names Al through A9 for the top row (left to right), down to I1 through I9 for the bottom row. For example, in the example board below, we would have board[\"B1\"] = 9, and board[\"E9\"] = 8. This is the highly suggested representation, since it is easiest to frame the problem in terms of representation of Sudoku board, domains, and constraints if you start this way. \n",
    "\n",
    "Consdier the following Sudoku board:\n",
    "\n",
    "<div>\n",
    "<img src=\"attachment:image.png\" width=\"200\"/>\n",
    "</div>\n",
    "\n",
    "\n",
    "\n",
    "\n",
    "input = \"003020600900305001001806400008102900700000008006708200002609500800203009005010300\"\n",
    "\n",
    "Now, you will use the CSP class in this way:\n",
    "\n",
    "\n",
    "**TO DO**: Create a class called CSP, which store a representation of Sudoku board, the domain, and constraints.  \n",
    "\n",
    " - Populate the instance variable (board, domain and constraints) in the CSP class   \n",
    " - The above board is represented as an input string: \n",
    "        input = \"003020600900305001001806400008102900700000008006708200002609500800203009005010300\"\n",
    " - Create the CSP object as follows:\n",
    "        csp = CSP(input)\n",
    "     "
   ]
  },
  {
   "cell_type": "markdown",
   "metadata": {
    "deletable": false,
    "editable": false,
    "nbgrader": {
     "checksum": "cc42b53f062eed33e18f878767fe6b4b",
     "grade": false,
     "grade_id": "cell-e2319d44fccaae52",
     "locked": true,
     "schema_version": 1,
     "solution": false
    }
   },
   "source": [
    "**Tips**: \n",
    "\n",
    " - A snippet of the variable csp.board:\n",
    "<div>\n",
    "<img src=\"attachment:image.png\" width=\"100\"/>\n",
    "</div>"
   ]
  },
  {
   "cell_type": "markdown",
   "metadata": {
    "deletable": false,
    "editable": false,
    "nbgrader": {
     "checksum": "b1c7e26b3fa881df5aee6d0af54e2a1c",
     "grade": false,
     "grade_id": "cell-6de49b6a858636dc",
     "locked": true,
     "schema_version": 1,
     "solution": false
    }
   },
   "source": [
    " - You can visualize the board by running:\n",
    "\n",
    "        print_board(csp)\n",
    "\n",
    "<div>\n",
    "<img src=\"attachment:image.png\" width=\"200\"/>\n",
    "</div>"
   ]
  },
  {
   "cell_type": "markdown",
   "metadata": {
    "deletable": false,
    "editable": false,
    "nbgrader": {
     "checksum": "e384551dd4c205100fe2c6046a6a01b3",
     "grade": false,
     "grade_id": "cell-fbcbd15053282e21",
     "locked": true,
     "schema_version": 1,
     "solution": false
    }
   },
   "source": [
    " - A snippet of Domain:\n",
    " \n",
    "<div>\n",
    "<img src=\"attachment:image.png\" width=\"200\"/>\n",
    "</div>"
   ]
  },
  {
   "cell_type": "markdown",
   "metadata": {
    "deletable": false,
    "editable": false,
    "nbgrader": {
     "checksum": "c9b1dce5c216b4cecdc5241926a76a9a",
     "grade": false,
     "grade_id": "cell-ef87b6f00ba8bd80",
     "locked": true,
     "schema_version": 1,
     "solution": false
    }
   },
   "source": [
    "- Constraints: Recall from the lecture, we know that there are 27 constriants for the Sudoku problem where each row and column and 3x3 quadrant are all different values.\n",
    "\n",
    "<div>\n",
    "<img src=\"attachment:image.png\" width=\"400\"/>\n",
    "</div>\n"
   ]
  },
  {
   "cell_type": "markdown",
   "metadata": {
    "deletable": false,
    "editable": false,
    "nbgrader": {
     "checksum": "9d5fe1125a5a789bf75a184174c29bf9",
     "grade": false,
     "grade_id": "cell-24300fca6cbcdfb5",
     "locked": true,
     "schema_version": 1,
     "solution": false
    }
   },
   "source": [
    "- We will represent the constraints as a set of tuples. Please keep tuple in a alphabetical and numerical order list example below. Here is a snippet of csp.constraints\n",
    "\n",
    "<div>\n",
    "<img src=\"attachment:image.png\" width=\"400\"/>\n",
    "</div>"
   ]
  },
  {
   "cell_type": "code",
   "execution_count": 390,
   "metadata": {
    "deletable": false,
    "editable": false,
    "nbgrader": {
     "checksum": "31dba44ce27e5c0ca2958546046adc52",
     "grade": false,
     "grade_id": "cell-13deb431cf8c1108",
     "locked": true,
     "schema_version": 1,
     "solution": false
    }
   },
   "outputs": [],
   "source": [
    "from collections import Counter\n",
    "from operator import itemgetter\n",
    "from copy import copy"
   ]
  },
  {
   "cell_type": "code",
   "execution_count": 391,
   "metadata": {},
   "outputs": [],
   "source": [
    "# Import the necessary package here. "
   ]
  },
  {
   "cell_type": "code",
   "execution_count": 392,
   "metadata": {
    "deletable": false,
    "nbgrader": {
     "checksum": "caf3b5a966ef3d630a4d610113ec7537",
     "grade": false,
     "grade_id": "cell-33c39a869d24a3bd",
     "locked": false,
     "schema_version": 1,
     "solution": true
    }
   },
   "outputs": [],
   "source": [
    "# Q\n",
    "# Create the CSP class\n",
    "# Your work goes here, please work on populating the variable \n",
    "# board, domain and constraints\n",
    "class CSP:\n",
    "    def __init__(self, initBoard):\n",
    "        \n",
    "        self.board = {}\n",
    "        self.domain = {}\n",
    "        self.constraints = []\n",
    "        self.rows = \"ABCDEFGHI\"\n",
    "        self.columns = \"123456789\"\n",
    "        # YOUR CODE HERE\n",
    "        for i, r in enumerate(self.rows):\n",
    "          list_row_constraint = [r + c for c in self.columns]\n",
    "          for j, c in enumerate(self.columns):\n",
    "            colum_list_constraint = [r + c for r in self.rows]\n",
    "            self.board[r + c] = initBoard[j + i * len(self.columns)]\n",
    "            if initBoard[j + i * len(self.columns)] == '0':\n",
    "              self.domain[r + c] = list(range(1,10))\n",
    "            else:\n",
    "              self.domain[r + c] =  [int(initBoard[j + i * len(self.columns)])]\n",
    "            self.constraints.append(tuple(colum_list_constraint))\n",
    "          self.constraints.append(tuple(list_row_constraint))\n",
    "        list_subgrid_constraint = [\n",
    "            tuple(\n",
    "                self.rows[row_block + i] + self.columns[col_block + j]\n",
    "                for i in range(3)\n",
    "                for j in range(3)\n",
    "            )\n",
    "            for row_block in range(0, len(self.rows), 3)\n",
    "            for col_block in range(0, len(self.columns), 3)\n",
    "        ]\n",
    "        self.constraints = self.constraints + list_subgrid_constraint"
   ]
  },
  {
   "cell_type": "code",
   "execution_count": 393,
   "metadata": {
    "deletable": false,
    "editable": false,
    "nbgrader": {
     "checksum": "b3f9c65fcebb29f225fd357039065851",
     "grade": false,
     "grade_id": "cell-208ae1addcc78246",
     "locked": true,
     "schema_version": 1,
     "solution": false
    }
   },
   "outputs": [],
   "source": [
    "# helper function to print the board of CSP class\n",
    "def print_board(csp):\n",
    "    rows = \"ABCDEFGHI\"\n",
    "    cols = \"123456789\"\n",
    "    for i, r in enumerate(rows):\n",
    "        if i in [3, 6]:\n",
    "            print('------+-------+------'),\n",
    "        for j, c in enumerate(cols):\n",
    "            if j in [3, 6]:\n",
    "                print ('|', end = \" \"),\n",
    "            print(csp.board[r + c], end=\" \")\n",
    "        print()"
   ]
  },
  {
   "cell_type": "code",
   "execution_count": 394,
   "metadata": {},
   "outputs": [
    {
     "name": "stdout",
     "output_type": "stream",
     "text": [
      "{'A1': '0', 'A2': '0', 'A3': '3', 'A4': '0', 'A5': '2', 'A6': '0', 'A7': '6', 'A8': '0', 'A9': '0', 'B1': '9', 'B2': '0', 'B3': '0', 'B4': '3', 'B5': '0', 'B6': '5', 'B7': '0', 'B8': '0', 'B9': '1', 'C1': '0', 'C2': '0', 'C3': '1', 'C4': '8', 'C5': '0', 'C6': '6', 'C7': '4', 'C8': '0', 'C9': '0', 'D1': '0', 'D2': '0', 'D3': '8', 'D4': '1', 'D5': '0', 'D6': '2', 'D7': '9', 'D8': '0', 'D9': '0', 'E1': '7', 'E2': '0', 'E3': '0', 'E4': '0', 'E5': '0', 'E6': '0', 'E7': '0', 'E8': '0', 'E9': '8', 'F1': '0', 'F2': '0', 'F3': '6', 'F4': '7', 'F5': '0', 'F6': '8', 'F7': '2', 'F8': '0', 'F9': '0', 'G1': '0', 'G2': '0', 'G3': '2', 'G4': '6', 'G5': '0', 'G6': '9', 'G7': '5', 'G8': '0', 'G9': '0', 'H1': '8', 'H2': '0', 'H3': '0', 'H4': '2', 'H5': '0', 'H6': '3', 'H7': '0', 'H8': '0', 'H9': '9', 'I1': '0', 'I2': '0', 'I3': '5', 'I4': '0', 'I5': '1', 'I6': '0', 'I7': '3', 'I8': '0', 'I9': '0'}\n",
      "{'A1': [1, 2, 3, 4, 5, 6, 7, 8, 9], 'A2': [1, 2, 3, 4, 5, 6, 7, 8, 9], 'A3': [3], 'A4': [1, 2, 3, 4, 5, 6, 7, 8, 9], 'A5': [2], 'A6': [1, 2, 3, 4, 5, 6, 7, 8, 9], 'A7': [6], 'A8': [1, 2, 3, 4, 5, 6, 7, 8, 9], 'A9': [1, 2, 3, 4, 5, 6, 7, 8, 9], 'B1': [9], 'B2': [1, 2, 3, 4, 5, 6, 7, 8, 9], 'B3': [1, 2, 3, 4, 5, 6, 7, 8, 9], 'B4': [3], 'B5': [1, 2, 3, 4, 5, 6, 7, 8, 9], 'B6': [5], 'B7': [1, 2, 3, 4, 5, 6, 7, 8, 9], 'B8': [1, 2, 3, 4, 5, 6, 7, 8, 9], 'B9': [1], 'C1': [1, 2, 3, 4, 5, 6, 7, 8, 9], 'C2': [1, 2, 3, 4, 5, 6, 7, 8, 9], 'C3': [1], 'C4': [8], 'C5': [1, 2, 3, 4, 5, 6, 7, 8, 9], 'C6': [6], 'C7': [4], 'C8': [1, 2, 3, 4, 5, 6, 7, 8, 9], 'C9': [1, 2, 3, 4, 5, 6, 7, 8, 9], 'D1': [1, 2, 3, 4, 5, 6, 7, 8, 9], 'D2': [1, 2, 3, 4, 5, 6, 7, 8, 9], 'D3': [8], 'D4': [1], 'D5': [1, 2, 3, 4, 5, 6, 7, 8, 9], 'D6': [2], 'D7': [9], 'D8': [1, 2, 3, 4, 5, 6, 7, 8, 9], 'D9': [1, 2, 3, 4, 5, 6, 7, 8, 9], 'E1': [7], 'E2': [1, 2, 3, 4, 5, 6, 7, 8, 9], 'E3': [1, 2, 3, 4, 5, 6, 7, 8, 9], 'E4': [1, 2, 3, 4, 5, 6, 7, 8, 9], 'E5': [1, 2, 3, 4, 5, 6, 7, 8, 9], 'E6': [1, 2, 3, 4, 5, 6, 7, 8, 9], 'E7': [1, 2, 3, 4, 5, 6, 7, 8, 9], 'E8': [1, 2, 3, 4, 5, 6, 7, 8, 9], 'E9': [8], 'F1': [1, 2, 3, 4, 5, 6, 7, 8, 9], 'F2': [1, 2, 3, 4, 5, 6, 7, 8, 9], 'F3': [6], 'F4': [7], 'F5': [1, 2, 3, 4, 5, 6, 7, 8, 9], 'F6': [8], 'F7': [2], 'F8': [1, 2, 3, 4, 5, 6, 7, 8, 9], 'F9': [1, 2, 3, 4, 5, 6, 7, 8, 9], 'G1': [1, 2, 3, 4, 5, 6, 7, 8, 9], 'G2': [1, 2, 3, 4, 5, 6, 7, 8, 9], 'G3': [2], 'G4': [6], 'G5': [1, 2, 3, 4, 5, 6, 7, 8, 9], 'G6': [9], 'G7': [5], 'G8': [1, 2, 3, 4, 5, 6, 7, 8, 9], 'G9': [1, 2, 3, 4, 5, 6, 7, 8, 9], 'H1': [8], 'H2': [1, 2, 3, 4, 5, 6, 7, 8, 9], 'H3': [1, 2, 3, 4, 5, 6, 7, 8, 9], 'H4': [2], 'H5': [1, 2, 3, 4, 5, 6, 7, 8, 9], 'H6': [3], 'H7': [1, 2, 3, 4, 5, 6, 7, 8, 9], 'H8': [1, 2, 3, 4, 5, 6, 7, 8, 9], 'H9': [9], 'I1': [1, 2, 3, 4, 5, 6, 7, 8, 9], 'I2': [1, 2, 3, 4, 5, 6, 7, 8, 9], 'I3': [5], 'I4': [1, 2, 3, 4, 5, 6, 7, 8, 9], 'I5': [1], 'I6': [1, 2, 3, 4, 5, 6, 7, 8, 9], 'I7': [3], 'I8': [1, 2, 3, 4, 5, 6, 7, 8, 9], 'I9': [1, 2, 3, 4, 5, 6, 7, 8, 9]}\n",
      "[('A1', 'B1', 'C1', 'D1', 'E1', 'F1', 'G1', 'H1', 'I1'), ('A2', 'B2', 'C2', 'D2', 'E2', 'F2', 'G2', 'H2', 'I2'), ('A3', 'B3', 'C3', 'D3', 'E3', 'F3', 'G3', 'H3', 'I3'), ('A4', 'B4', 'C4', 'D4', 'E4', 'F4', 'G4', 'H4', 'I4'), ('A5', 'B5', 'C5', 'D5', 'E5', 'F5', 'G5', 'H5', 'I5'), ('A6', 'B6', 'C6', 'D6', 'E6', 'F6', 'G6', 'H6', 'I6'), ('A7', 'B7', 'C7', 'D7', 'E7', 'F7', 'G7', 'H7', 'I7'), ('A8', 'B8', 'C8', 'D8', 'E8', 'F8', 'G8', 'H8', 'I8'), ('A9', 'B9', 'C9', 'D9', 'E9', 'F9', 'G9', 'H9', 'I9'), ('A1', 'A2', 'A3', 'A4', 'A5', 'A6', 'A7', 'A8', 'A9'), ('A1', 'B1', 'C1', 'D1', 'E1', 'F1', 'G1', 'H1', 'I1'), ('A2', 'B2', 'C2', 'D2', 'E2', 'F2', 'G2', 'H2', 'I2'), ('A3', 'B3', 'C3', 'D3', 'E3', 'F3', 'G3', 'H3', 'I3'), ('A4', 'B4', 'C4', 'D4', 'E4', 'F4', 'G4', 'H4', 'I4'), ('A5', 'B5', 'C5', 'D5', 'E5', 'F5', 'G5', 'H5', 'I5'), ('A6', 'B6', 'C6', 'D6', 'E6', 'F6', 'G6', 'H6', 'I6'), ('A7', 'B7', 'C7', 'D7', 'E7', 'F7', 'G7', 'H7', 'I7'), ('A8', 'B8', 'C8', 'D8', 'E8', 'F8', 'G8', 'H8', 'I8'), ('A9', 'B9', 'C9', 'D9', 'E9', 'F9', 'G9', 'H9', 'I9'), ('B1', 'B2', 'B3', 'B4', 'B5', 'B6', 'B7', 'B8', 'B9'), ('A1', 'B1', 'C1', 'D1', 'E1', 'F1', 'G1', 'H1', 'I1'), ('A2', 'B2', 'C2', 'D2', 'E2', 'F2', 'G2', 'H2', 'I2'), ('A3', 'B3', 'C3', 'D3', 'E3', 'F3', 'G3', 'H3', 'I3'), ('A4', 'B4', 'C4', 'D4', 'E4', 'F4', 'G4', 'H4', 'I4'), ('A5', 'B5', 'C5', 'D5', 'E5', 'F5', 'G5', 'H5', 'I5'), ('A6', 'B6', 'C6', 'D6', 'E6', 'F6', 'G6', 'H6', 'I6'), ('A7', 'B7', 'C7', 'D7', 'E7', 'F7', 'G7', 'H7', 'I7'), ('A8', 'B8', 'C8', 'D8', 'E8', 'F8', 'G8', 'H8', 'I8'), ('A9', 'B9', 'C9', 'D9', 'E9', 'F9', 'G9', 'H9', 'I9'), ('C1', 'C2', 'C3', 'C4', 'C5', 'C6', 'C7', 'C8', 'C9'), ('A1', 'B1', 'C1', 'D1', 'E1', 'F1', 'G1', 'H1', 'I1'), ('A2', 'B2', 'C2', 'D2', 'E2', 'F2', 'G2', 'H2', 'I2'), ('A3', 'B3', 'C3', 'D3', 'E3', 'F3', 'G3', 'H3', 'I3'), ('A4', 'B4', 'C4', 'D4', 'E4', 'F4', 'G4', 'H4', 'I4'), ('A5', 'B5', 'C5', 'D5', 'E5', 'F5', 'G5', 'H5', 'I5'), ('A6', 'B6', 'C6', 'D6', 'E6', 'F6', 'G6', 'H6', 'I6'), ('A7', 'B7', 'C7', 'D7', 'E7', 'F7', 'G7', 'H7', 'I7'), ('A8', 'B8', 'C8', 'D8', 'E8', 'F8', 'G8', 'H8', 'I8'), ('A9', 'B9', 'C9', 'D9', 'E9', 'F9', 'G9', 'H9', 'I9'), ('D1', 'D2', 'D3', 'D4', 'D5', 'D6', 'D7', 'D8', 'D9'), ('A1', 'B1', 'C1', 'D1', 'E1', 'F1', 'G1', 'H1', 'I1'), ('A2', 'B2', 'C2', 'D2', 'E2', 'F2', 'G2', 'H2', 'I2'), ('A3', 'B3', 'C3', 'D3', 'E3', 'F3', 'G3', 'H3', 'I3'), ('A4', 'B4', 'C4', 'D4', 'E4', 'F4', 'G4', 'H4', 'I4'), ('A5', 'B5', 'C5', 'D5', 'E5', 'F5', 'G5', 'H5', 'I5'), ('A6', 'B6', 'C6', 'D6', 'E6', 'F6', 'G6', 'H6', 'I6'), ('A7', 'B7', 'C7', 'D7', 'E7', 'F7', 'G7', 'H7', 'I7'), ('A8', 'B8', 'C8', 'D8', 'E8', 'F8', 'G8', 'H8', 'I8'), ('A9', 'B9', 'C9', 'D9', 'E9', 'F9', 'G9', 'H9', 'I9'), ('E1', 'E2', 'E3', 'E4', 'E5', 'E6', 'E7', 'E8', 'E9'), ('A1', 'B1', 'C1', 'D1', 'E1', 'F1', 'G1', 'H1', 'I1'), ('A2', 'B2', 'C2', 'D2', 'E2', 'F2', 'G2', 'H2', 'I2'), ('A3', 'B3', 'C3', 'D3', 'E3', 'F3', 'G3', 'H3', 'I3'), ('A4', 'B4', 'C4', 'D4', 'E4', 'F4', 'G4', 'H4', 'I4'), ('A5', 'B5', 'C5', 'D5', 'E5', 'F5', 'G5', 'H5', 'I5'), ('A6', 'B6', 'C6', 'D6', 'E6', 'F6', 'G6', 'H6', 'I6'), ('A7', 'B7', 'C7', 'D7', 'E7', 'F7', 'G7', 'H7', 'I7'), ('A8', 'B8', 'C8', 'D8', 'E8', 'F8', 'G8', 'H8', 'I8'), ('A9', 'B9', 'C9', 'D9', 'E9', 'F9', 'G9', 'H9', 'I9'), ('F1', 'F2', 'F3', 'F4', 'F5', 'F6', 'F7', 'F8', 'F9'), ('A1', 'B1', 'C1', 'D1', 'E1', 'F1', 'G1', 'H1', 'I1'), ('A2', 'B2', 'C2', 'D2', 'E2', 'F2', 'G2', 'H2', 'I2'), ('A3', 'B3', 'C3', 'D3', 'E3', 'F3', 'G3', 'H3', 'I3'), ('A4', 'B4', 'C4', 'D4', 'E4', 'F4', 'G4', 'H4', 'I4'), ('A5', 'B5', 'C5', 'D5', 'E5', 'F5', 'G5', 'H5', 'I5'), ('A6', 'B6', 'C6', 'D6', 'E6', 'F6', 'G6', 'H6', 'I6'), ('A7', 'B7', 'C7', 'D7', 'E7', 'F7', 'G7', 'H7', 'I7'), ('A8', 'B8', 'C8', 'D8', 'E8', 'F8', 'G8', 'H8', 'I8'), ('A9', 'B9', 'C9', 'D9', 'E9', 'F9', 'G9', 'H9', 'I9'), ('G1', 'G2', 'G3', 'G4', 'G5', 'G6', 'G7', 'G8', 'G9'), ('A1', 'B1', 'C1', 'D1', 'E1', 'F1', 'G1', 'H1', 'I1'), ('A2', 'B2', 'C2', 'D2', 'E2', 'F2', 'G2', 'H2', 'I2'), ('A3', 'B3', 'C3', 'D3', 'E3', 'F3', 'G3', 'H3', 'I3'), ('A4', 'B4', 'C4', 'D4', 'E4', 'F4', 'G4', 'H4', 'I4'), ('A5', 'B5', 'C5', 'D5', 'E5', 'F5', 'G5', 'H5', 'I5'), ('A6', 'B6', 'C6', 'D6', 'E6', 'F6', 'G6', 'H6', 'I6'), ('A7', 'B7', 'C7', 'D7', 'E7', 'F7', 'G7', 'H7', 'I7'), ('A8', 'B8', 'C8', 'D8', 'E8', 'F8', 'G8', 'H8', 'I8'), ('A9', 'B9', 'C9', 'D9', 'E9', 'F9', 'G9', 'H9', 'I9'), ('H1', 'H2', 'H3', 'H4', 'H5', 'H6', 'H7', 'H8', 'H9'), ('A1', 'B1', 'C1', 'D1', 'E1', 'F1', 'G1', 'H1', 'I1'), ('A2', 'B2', 'C2', 'D2', 'E2', 'F2', 'G2', 'H2', 'I2'), ('A3', 'B3', 'C3', 'D3', 'E3', 'F3', 'G3', 'H3', 'I3'), ('A4', 'B4', 'C4', 'D4', 'E4', 'F4', 'G4', 'H4', 'I4'), ('A5', 'B5', 'C5', 'D5', 'E5', 'F5', 'G5', 'H5', 'I5'), ('A6', 'B6', 'C6', 'D6', 'E6', 'F6', 'G6', 'H6', 'I6'), ('A7', 'B7', 'C7', 'D7', 'E7', 'F7', 'G7', 'H7', 'I7'), ('A8', 'B8', 'C8', 'D8', 'E8', 'F8', 'G8', 'H8', 'I8'), ('A9', 'B9', 'C9', 'D9', 'E9', 'F9', 'G9', 'H9', 'I9'), ('I1', 'I2', 'I3', 'I4', 'I5', 'I6', 'I7', 'I8', 'I9'), ('A1', 'A2', 'A3', 'B1', 'B2', 'B3', 'C1', 'C2', 'C3'), ('A4', 'A5', 'A6', 'B4', 'B5', 'B6', 'C4', 'C5', 'C6'), ('A7', 'A8', 'A9', 'B7', 'B8', 'B9', 'C7', 'C8', 'C9'), ('D1', 'D2', 'D3', 'E1', 'E2', 'E3', 'F1', 'F2', 'F3'), ('D4', 'D5', 'D6', 'E4', 'E5', 'E6', 'F4', 'F5', 'F6'), ('D7', 'D8', 'D9', 'E7', 'E8', 'E9', 'F7', 'F8', 'F9'), ('G1', 'G2', 'G3', 'H1', 'H2', 'H3', 'I1', 'I2', 'I3'), ('G4', 'G5', 'G6', 'H4', 'H5', 'H6', 'I4', 'I5', 'I6'), ('G7', 'G8', 'G9', 'H7', 'H8', 'H9', 'I7', 'I8', 'I9')]\n",
      "0 0 3 | 0 2 0 | 6 0 0 \n",
      "9 0 0 | 3 0 5 | 0 0 1 \n",
      "0 0 1 | 8 0 6 | 4 0 0 \n",
      "------+-------+------\n",
      "0 0 8 | 1 0 2 | 9 0 0 \n",
      "7 0 0 | 0 0 0 | 0 0 8 \n",
      "0 0 6 | 7 0 8 | 2 0 0 \n",
      "------+-------+------\n",
      "0 0 2 | 6 0 9 | 5 0 0 \n",
      "8 0 0 | 2 0 3 | 0 0 9 \n",
      "0 0 5 | 0 1 0 | 3 0 0 \n"
     ]
    }
   ],
   "source": [
    "input = '003020600900305001001806400008102900700000008006708200002609500800203009005010300'\n",
    "csp = CSP(input)\n",
    "print(csp.board)\n",
    "print(csp.domain)\n",
    "print(csp.constraints)\n",
    "print_board(csp)"
   ]
  },
  {
   "cell_type": "code",
   "execution_count": 395,
   "metadata": {
    "deletable": false,
    "editable": false,
    "nbgrader": {
     "checksum": "bde9fd244be16054b02e3379d9f7003e",
     "grade": true,
     "grade_id": "cell-7c551a91f205dc59",
     "locked": true,
     "points": 2.5,
     "schema_version": 1,
     "solution": false
    }
   },
   "outputs": [],
   "source": [
    "# this cell is left empty for grading the CSP Board"
   ]
  },
  {
   "cell_type": "code",
   "execution_count": 396,
   "metadata": {
    "deletable": false,
    "editable": false,
    "nbgrader": {
     "checksum": "971118b720a35ab6464baca45bf23314",
     "grade": true,
     "grade_id": "cell-4e36066196703295",
     "locked": true,
     "points": 2.5,
     "schema_version": 1,
     "solution": false
    }
   },
   "outputs": [],
   "source": [
    "# this cell is left empty for grading the CSP domain"
   ]
  },
  {
   "cell_type": "code",
   "execution_count": 397,
   "metadata": {
    "deletable": false,
    "editable": false,
    "nbgrader": {
     "checksum": "47d6f930c91c60adc20c45d3e848f8c2",
     "grade": true,
     "grade_id": "cell-e416209920625787",
     "locked": true,
     "points": 5,
     "schema_version": 1,
     "solution": false
    }
   },
   "outputs": [],
   "source": [
    "# this cell is left empty for grading the CSP Constraints"
   ]
  },
  {
   "cell_type": "markdown",
   "metadata": {
    "deletable": false,
    "editable": false,
    "nbgrader": {
     "checksum": "491e927d2201691b3fd7557b5080e10a",
     "grade": false,
     "grade_id": "cell-6f263c5950b6f4d6",
     "locked": true,
     "schema_version": 1,
     "solution": false
    }
   },
   "source": [
    "# III. AC3 Algorithm\n",
    "\n",
    "In this section, you will implement the AC3 algorithm in Python 3. Below is the pseudocode of the AC3 algorithm. This function should revise the domain and return True if the board can be solved. \n",
    "\n",
    "<div>\n",
    "<img src=\"attachment:image.png\" width=\"600\"/>\n",
    "</div>"
   ]
  },
  {
   "cell_type": "markdown",
   "metadata": {
    "deletable": false,
    "editable": false,
    "nbgrader": {
     "checksum": "cfbe141ac0b2486e8e4eea43da831f47",
     "grade": false,
     "grade_id": "cell-574c942cbf17cf3e",
     "locked": true,
     "schema_version": 1,
     "solution": false
    }
   },
   "source": [
    " **TO DO**: \n",
    " \n",
    " - Write the AC3 algorithm using Revise, CreateArcs function\n",
    " \n",
    " - CreateArcs\n",
    " \n",
    "        First create a set of initial set of arcs using the set of constrainsts. The CreateArcs function should return a list of tuples like below.\n",
    "\n",
    "<div>\n",
    "<img src=\"attachment:image.png\" width=\"150\"/>\n",
    "</div>\n",
    "\n",
    "        Using the csp class you created, you can create the queue of arcs by running.\n",
    "\n",
    "        arcs_queue = CreateArcs(csp.constraints)"
   ]
  },
  {
   "cell_type": "markdown",
   "metadata": {
    "deletable": false,
    "editable": false,
    "nbgrader": {
     "checksum": "8152e8d008d12f23e7f808fa60afb1e2",
     "grade": false,
     "grade_id": "cell-04938f503dba979b",
     "locked": true,
     "schema_version": 1,
     "solution": false
    }
   },
   "source": [
    " - Revise\n",
    "\n",
    "        Please implement the Revise method using the following pseudocode.\n",
    "\n",
    "<div>\n",
    "<img src=\"attachment:image.png\" width=\"800\"/>\n",
    "</div>\n",
    "\n",
    "        We will use the Revise method in this way:\n",
    "\n",
    "            csp = CSP(input)  \n",
    "            Xi = \"A1\"  \n",
    "            Xj = \"A2\"  \n",
    "\n",
    "            Revise(csp, Xi, Xj)"
   ]
  },
  {
   "cell_type": "markdown",
   "metadata": {
    "deletable": false,
    "editable": false,
    "nbgrader": {
     "checksum": "7cadd7f3c1a13586f061f01765ce425f",
     "grade": false,
     "grade_id": "cell-2056f6763f0babe9",
     "locked": true,
     "schema_version": 1,
     "solution": false
    }
   },
   "source": [
    "- These board can be solved by AC3, try out you algorithm on these boards \n",
    "        \n",
    "        1) 000260701680070090190004500820100040004602900050003028009300074040050036703018000\n",
    "        2) 000001000020000008691200000000000014102506003800020506005000000730000000006319405\n",
    "\n",
    "  Obtainded the given solutions:\n",
    "  \n",
    "        1) 435269781682571493197834562826195347374682915951743628519326874248957136763418259\n",
    "        2) 358471629427963158691285347569738214142596783873124596915647832734852961286319475\n",
    "        \n",
    "- If the AC3 gives atomic domains for every variable, then a solution is found. \n",
    "- Please use the helper function 'print_solved_domain' to check for solve board"
   ]
  },
  {
   "cell_type": "code",
   "execution_count": 398,
   "metadata": {
    "deletable": false,
    "editable": false,
    "nbgrader": {
     "checksum": "bcbe2cb787146d82078ebea7202760c6",
     "grade": false,
     "grade_id": "cell-d42c5eb6f9ee40b1",
     "locked": true,
     "schema_version": 1,
     "solution": false
    }
   },
   "outputs": [],
   "source": [
    "def print_solved_domain(csp):\n",
    "    #### Returns the printed solution if the domain of each variable has only one element\n",
    "    #### Otherwise prints the AC3 domain.\n",
    "    if max([len(val) for val in csp.domain.values()])==1:\n",
    "        solution_string=\"\".join([str(item) for sublist in list(csp.domain.values()) for item in sublist])\n",
    "        print(\"Sudoku is Solved\")\n",
    "        print()\n",
    "    else:\n",
    "        print(\"Sudoku is Not Solved\")\n",
    "        print()\n",
    "        print(\"Domain: \")\n",
    "        return csp.domain"
   ]
  },
  {
   "cell_type": "code",
   "execution_count": 399,
   "metadata": {
    "deletable": false,
    "nbgrader": {
     "checksum": "72ae61679ada2c92788ce103448331b8",
     "grade": false,
     "grade_id": "cell-609150a316b4d04e",
     "locked": false,
     "schema_version": 1,
     "solution": true
    }
   },
   "outputs": [],
   "source": [
    "# Q\n",
    "def CreateArcs(constraints):\n",
    "    # YOUR CODE HERE\n",
    "    arcs = []\n",
    "    for constraint in constraints:\n",
    "        for x in constraint:\n",
    "            for y in constraint:\n",
    "                if x != y:\n",
    "                    arcs.append((x, y))\n",
    "    return arcs\n",
    "\n",
    "def Revise(csp, Xi, Xj):\n",
    "    # YOUR CODE HERE\n",
    "    revised = False\n",
    "    to_remove = []\n",
    "    #print(f\"Revising {Xi} with respect to {Xj}:{csp.domain[Xj]}\")  # Debug print\n",
    "    for x in csp.domain[Xi]:\n",
    "        if not any(x != y for y in csp.domain[Xj]):\n",
    "            to_remove.append(x)\n",
    "            revised = True\n",
    "    for x in to_remove:\n",
    "        csp.domain[Xi].remove(x)\n",
    "        #print(f\"Domain of {Xi} after revision: {csp.domain[Xi]}\")  # Debug print\n",
    "    return revised\n",
    "\n",
    "def AC3(csp):\n",
    "    # YOUR CODE HERE\n",
    "    arcs_queue = CreateArcs(csp.constraints)\n",
    "    while arcs_queue:\n",
    "        Xi, Xj = arcs_queue.pop(0)\n",
    "        if Revise(csp, Xi, Xj):\n",
    "            if len(csp.domain[Xi]) == 0:\n",
    "                #print(f\"Domain of {Xi} is empty after revision. CSP is inconsistent.\")  # Debug print\n",
    "                return False\n",
    "            for Xk in Neighbor(csp,Xi):\n",
    "                if Xk != Xj:\n",
    "                    arcs_queue.append((Xk, Xi))\n",
    "    return True\n",
    "\n",
    "def Neighbor(csp,Xi):\n",
    "    neighbors = set()\n",
    "    for constraint in csp.constraints:\n",
    "        if Xi in constraint:\n",
    "            neighbors.update(constraint)\n",
    "    neighbors.discard(Xi)  # Remove Xi from the set of neighbors\n",
    "    return neighbors"
   ]
  },
  {
   "cell_type": "code",
   "execution_count": 400,
   "metadata": {},
   "outputs": [
    {
     "name": "stdout",
     "output_type": "stream",
     "text": [
      "Sudoku is Solved\n",
      "\n",
      "Sudoku is Solved\n",
      "\n"
     ]
    }
   ],
   "source": [
    "csp = CSP('000260701680070090190004500820100040004602900050003028009300074040050036703018000')\n",
    "csp2 = CSP('000001000020000008691200000000000014102506003800020506005000000730000000006319405')\n",
    "AC3(csp)\n",
    "AC3(csp2)\n",
    "print_solved_domain(csp)\n",
    "print_solved_domain(csp2)"
   ]
  },
  {
   "cell_type": "code",
   "execution_count": 401,
   "metadata": {
    "deletable": false,
    "editable": false,
    "nbgrader": {
     "checksum": "84364df4bcffced2da2e5f4ff2b1b708",
     "grade": true,
     "grade_id": "cell-50420f0314c94596",
     "locked": true,
     "points": 10,
     "schema_version": 1,
     "solution": false
    }
   },
   "outputs": [],
   "source": [
    "# this cell is left empty for grading CreateArcs method"
   ]
  },
  {
   "cell_type": "code",
   "execution_count": 402,
   "metadata": {
    "deletable": false,
    "editable": false,
    "nbgrader": {
     "checksum": "5470f9b1c23b5e6fa8e6623704e4170a",
     "grade": true,
     "grade_id": "cell-9402f7af22912dde",
     "locked": true,
     "points": 10,
     "schema_version": 1,
     "solution": false
    }
   },
   "outputs": [],
   "source": [
    "# this cell is left empty for grading Revise method"
   ]
  },
  {
   "cell_type": "code",
   "execution_count": 403,
   "metadata": {
    "deletable": false,
    "editable": false,
    "nbgrader": {
     "checksum": "3ca4fd2b9a8a2614fadca7d6df9d0155",
     "grade": true,
     "grade_id": "cell-d0540223305f1db4",
     "locked": true,
     "points": 20,
     "schema_version": 1,
     "solution": false
    }
   },
   "outputs": [],
   "source": [
    "# this cell is left empty for grading AC3 method"
   ]
  },
  {
   "cell_type": "markdown",
   "metadata": {
    "deletable": false,
    "editable": false,
    "nbgrader": {
     "checksum": "1259ce9bb7d42c55dcff93bcb657e3f2",
     "grade": false,
     "grade_id": "cell-95be755c2b32ea96",
     "locked": true,
     "schema_version": 1,
     "solution": false
    }
   },
   "source": [
    "# IV. Backtracking Search\n",
    "\n",
    "In this portion of the project, you will implement the backtracking search using the following pseudocode. \n",
    "\n",
    "<div>\n",
    "<img src=\"attachment:image.png\" width=\"600\"/>\n",
    "</div>\n",
    "\n",
    "**TO DO:**\n",
    " - You will create two methods:  \n",
    "     1) BTS is the main caller function that returns the assignment of the board   \n",
    "     2) BackTrack is the recursive algorithm that returns whether an assignmemnt is complete and the assignment. \n",
    "\n"
   ]
  },
  {
   "cell_type": "markdown",
   "metadata": {
    "deletable": false,
    "editable": false,
    "nbgrader": {
     "checksum": "be0a5a2ccdfbfa2b763fff932cae74e7",
     "grade": false,
     "grade_id": "cell-0384e2870d2dde83",
     "locked": true,
     "schema_version": 1,
     "solution": false
    }
   },
   "source": [
    " - SelectUnassignVariable:  \n",
    " \n",
    "   For the selection of the unassigned variable, we will use the minimum remaining value heuristic. Recall from lecture, MRV choose the variable with the fewest legal values in its domain. \n",
    "\n",
    "    For example, given an initial setup of the board \n",
    "\n",
    "        input = \"000000000302540000050301070000000004409006005023054790000000050700810000080060009\"  \n",
    "        csp = CSP(input)\n",
    "\n",
    "        print_board(csp)\n",
    "\n",
    "    <div>\n",
    "    <img src=\"attachment:image.png\" width=\"200\"/>\n",
    "    </div>"
   ]
  },
  {
   "attachments": {
    "image.png": {
     "image/png": "[encoded data removed]"
    }
   },
   "cell_type": "markdown",
   "metadata": {
    "deletable": false,
    "editable": false,
    "nbgrader": {
     "checksum": "e30e5e603b2e3f3e7b40fc63db7d4094",
     "grade": false,
     "grade_id": "cell-a15547f6dd1a4600",
     "locked": true,
     "schema_version": 1,
     "solution": false
    }
   },
   "source": [
    "Original Domain:\n",
    "           \n",
    "![image.png](attachment:image.png)"
   ]
  },
  {
   "attachments": {
    "image.png": {
     "image/png": "[encoded data removed]"
    }
   },
   "cell_type": "markdown",
   "metadata": {
    "deletable": false,
    "editable": false,
    "nbgrader": {
     "checksum": "2f7a7bc2b9c96869cca5bb29eb03bb58",
     "grade": false,
     "grade_id": "cell-38bfa6013a07c937",
     "locked": true,
     "schema_version": 1,
     "solution": false
    }
   },
   "source": [
    "Domain after funning AC3 algorithm:\n",
    "        \n",
    "        AC3(csp)\n",
    "\n",
    "![image.png](attachment:image.png)\n",
    "        "
   ]
  },
  {
   "cell_type": "markdown",
   "metadata": {
    "deletable": false,
    "editable": false,
    "nbgrader": {
     "checksum": "c24cff08e468e305ad6ca8a1dca93c42",
     "grade": false,
     "grade_id": "cell-1fe1ef318cbeab52",
     "locked": true,
     "schema_version": 1,
     "solution": false
    }
   },
   "source": [
    "An assignment variable is a dictionary keys with values assigned to the specific location of the board. For example, \n",
    "\n",
    "        assignment = {}\n",
    "    \n",
    "We check for for variable that are not assigned by look at the 'assignment' variable and the csp.board and pick out the domain with minimum remaining value.\n",
    "    \n",
    "Running the following code should have output 'F4' becuase it is a variable that we need to find and after running AC3 algorithm we have only 1 remain value allowed for the domain. \n",
    "    \n",
    "        assignment = {}  \n",
    "        var = SelectUnassignVariable(assignment, csp)\n",
    "        print(var)\n",
    "        \n",
    "    Output:\n",
    "        \"F4\"\n",
    "     \n",
    "Running SelectUnassignVariable again will have output 'E2'\n",
    "\n",
    "        assignment = {\"F4\":1}  \n",
    "        var = SelectUnassignVariable(assignment, csp)\n",
    "        print(var)\n",
    "        \n",
    "    Output:\n",
    "        \"E2\" "
   ]
  },
  {
   "cell_type": "markdown",
   "metadata": {
    "deletable": false,
    "editable": false,
    "nbgrader": {
     "checksum": "f9e5410e2ce8098e7b2a4ee6cf22cd07",
     "grade": false,
     "grade_id": "cell-6a70871903f9493e",
     "locked": true,
     "schema_version": 1,
     "solution": false
    }
   },
   "source": [
    " - CheckAssignment\n",
    " \n",
    "     This method checks if given an assignment and a CSP object, we have successfully completed. the assignment of every empty value of the board. \n",
    "\n",
    "    For example, \n",
    "    \n",
    "        input = \"000260701680070090190004500820100040004602900050003028009300074040050036703018000\"\n",
    "        csp = CSP(input)\n",
    "        \n",
    "    1)    \n",
    "        assignment = {}\n",
    "        answer = CheckAssignment(assignment, csp)\n",
    "        print(answer)  \n",
    "    Output: \n",
    "        False\n",
    "        \n",
    "    2)  \n",
    "       assignment = {'A1': 4, 'A2': 3, 'A3': 5, 'A6': 9, 'A8': 8, 'B3': 2, 'B4': 5, 'B6': 1, 'B7': 4, 'B9':3,'C3': 7, 'C4': 8, 'C5': 3, 'C8': 6, 'C9': 2, 'D3': 6, 'D5': 9, 'D6': 5, 'D7': 3, 'D9': 7, 'E1': 3, 'E2': 7, 'E5': 8, 'E8': 1, 'E9': 5, 'F1': 9, 'F3': 1, 'F4': 7, 'F5': 4, 'F7': 6, 'G1': 5, 'G2': 1, 'G5': 2, 'G6': 6, 'G7': 8, 'H1': 2, 'H3': 8, 'H4': 9, 'H6': 7, 'H7': 1, 'I2': 6, 'I4': 4, 'I7': 2, 'I8': 5, 'I9': 9}\n",
    "\n",
    "        answer = CheckAssignment(assignment, csp)\n",
    "        print(answer)  \n",
    "    Output: \n",
    "        True\n"
   ]
  },
  {
   "cell_type": "markdown",
   "metadata": {
    "deletable": false,
    "editable": false,
    "nbgrader": {
     "checksum": "577fd10a209fed52f79a6228412a0b71",
     "grade": false,
     "grade_id": "cell-cef96f349eab78d9",
     "locked": true,
     "schema_version": 1,
     "solution": false
    }
   },
   "source": [
    "- CheckConsistent\n",
    "\n",
    "    In the CheckConsistent method, we will determine if an assignments is not violating any constriants. Constraints can be accessed using csp.constraints.\n",
    "\n",
    "    For example, \n",
    "    \n",
    "         input = \"000260701680070090190004500820100040004602900050003028009300074040050036703018000\"\n",
    "         csp = CSP(input)\n",
    "    1) \n",
    "        assignment = {'A1': 4, 'A2':3}  \n",
    "        print(CheckConsistent(assignments, csp))   \n",
    "\n",
    "        Output: \n",
    "            True\n",
    "\n",
    "    2) \n",
    "        assignment = {'A1': 4, 'A2':4}  \n",
    "        print(CheckConsistent(assignments, csp))  \n",
    "\n",
    "        Output: \n",
    "            False"
   ]
  },
  {
   "cell_type": "markdown",
   "metadata": {
    "deletable": false,
    "editable": false,
    "nbgrader": {
     "checksum": "2513f6463e429343539335adb2286408",
     "grade": false,
     "grade_id": "cell-ec90a4f0d213bbaf",
     "locked": true,
     "schema_version": 1,
     "solution": false
    }
   },
   "source": [
    "- Testing you code with the below three examples:\n",
    "\n",
    "        1) 000000000302540000050301070000000004409006005023054790000000050700810000080060009\n",
    "        2) 000260701680070090190004500820100040004602900050003028009300074040050036703018000\n",
    "        3) 000100702030950000001002003590000301020000070703000098800200100000085060605009000\n",
    "\n",
    "  Obtainded the given solutions:\n",
    "  \n",
    "        1) 148697523372548961956321478567983214419276385823154796691432857735819642284765139\n",
    "        2) 435269781682571493197834562826195347374682915951743628519326874248957136763418259\n",
    "        3) 956138742237954816481672953594867321128593674763421598879246135312785469645319287"
   ]
  },
  {
   "cell_type": "markdown",
   "metadata": {
    "deletable": false,
    "editable": false,
    "nbgrader": {
     "checksum": "63d586d3d507e8d7fd96b271f3b1fa10",
     "grade": false,
     "grade_id": "cell-e9ff35b9b8dc8727",
     "locked": true,
     "schema_version": 1,
     "solution": false
    }
   },
   "source": [
    "- Lastly, you can solve sudoku problem by first reducing the domain using AC3 algorithm then running you BTS algorithm \n",
    "        \n",
    "        input = \"000007000090001000000045006000020000036000410500000809000000004000018000081500032\"\n",
    "\n",
    "        csp = CSP(input)\n",
    "        AC3(csp)\n",
    "        BTS(csp)\n"
   ]
  },
  {
   "cell_type": "code",
   "execution_count": 452,
   "metadata": {
    "deletable": false,
    "nbgrader": {
     "checksum": "179d927eb8f10efb65f535a5260b6ed7",
     "grade": false,
     "grade_id": "cell-18d1047ee20d2571",
     "locked": false,
     "schema_version": 1,
     "solution": true
    }
   },
   "outputs": [],
   "source": [
    "# Q\n",
    "def SelectUnassignVariable(assignments, csp):\n",
    "    # YOUR CODE HERE\n",
    "    rows = \"ABCDEFGHI\"\n",
    "    cols = \"123456789\"\n",
    "    #use mrv\n",
    "    mrv = None\n",
    "    for r in rows:\n",
    "        for c in cols:\n",
    "            if r + c not in assignments:\n",
    "                if mrv is None or len(csp.domain[r + c]) < len(csp.domain[mrv]):\n",
    "                    mrv = r + c\n",
    "    return mrv\n",
    "\n",
    "def CheckAssignment(assignments, csp):\n",
    "    # YOUR CODE HERE\n",
    "    return all(csp.board[var] != '0' or var in assignments for var in csp.board)\n",
    "                \n",
    "\n",
    "def CheckConsistent(assignment, csp):\n",
    "    # YOUR CODE HERE\n",
    "    for constraint in csp.constraints:\n",
    "        relevant_assignment = [ assignment[var] for var in constraint if var in assignment]\n",
    "        if(len(relevant_assignment) != len(set(relevant_assignment))):\n",
    "            return False\n",
    "    return True\n",
    "            \n",
    "def OrderDomainValues(var, assignments, csp):\n",
    "    # YOUR CODE HERE\n",
    "    # use lcv\n",
    "    if var is None:\n",
    "        return []\n",
    "    return sorted(csp.domain[var])\n",
    "\n",
    "def BackTrack(assignments, csp):\n",
    "    # YOUR CODE HERE\n",
    "    if CheckAssignment(assignments,csp):\n",
    "        return True, assignments\n",
    "    var = SelectUnassignVariable(assignments, csp)\n",
    "    for value in OrderDomainValues(var, assignments, csp):\n",
    "        if CheckConsistent(assignments, csp):\n",
    "            assignments[var] = value\n",
    "            success, result = BackTrack(assignments, csp)\n",
    "            if success:\n",
    "                return success, result\n",
    "            assignments.pop(var)\n",
    "    return False, {}\n"
   ]
  },
  {
   "cell_type": "code",
   "execution_count": 453,
   "metadata": {
    "deletable": false,
    "editable": false,
    "nbgrader": {
     "checksum": "f649643ba4a5d62b8aa216de42fa0f25",
     "grade": false,
     "grade_id": "cell-3ae042c0ab86c4d8",
     "locked": true,
     "schema_version": 1,
     "solution": false
    }
   },
   "outputs": [],
   "source": [
    "# helper function to convert assignment and csp board to final solved board.\n",
    "def board_to_string(assignment, csp):\n",
    "    rows = \"ABCDEFGHI\"\n",
    "    cols = \"123456789\"\n",
    "    output = \"\"\n",
    "    \n",
    "    for r in rows:\n",
    "        for c in cols:\n",
    "            if r + c not in assignment:\n",
    "                output += str(csp.board[r + c])\n",
    "            else:\n",
    "                output += str(assignment[r + c])\n",
    "        \n",
    "    return output"
   ]
  },
  {
   "cell_type": "code",
   "execution_count": 406,
   "metadata": {
    "deletable": false,
    "nbgrader": {
     "checksum": "70bbc1acd31a2823ac26829657a616e3",
     "grade": false,
     "grade_id": "cell-8a2b5b930b6303dc",
     "locked": false,
     "schema_version": 1,
     "solution": true
    }
   },
   "outputs": [],
   "source": [
    "def BTS(csp):\n",
    "    answer, assignment = BackTrack({}, csp)\n",
    "    return board_to_string(assignment, csp)\n"
   ]
  },
  {
   "cell_type": "code",
   "execution_count": 454,
   "metadata": {},
   "outputs": [
    {
     "name": "stdout",
     "output_type": "stream",
     "text": [
      "0 0 0 | 0 0 0 | 0 0 0 \n",
      "3 0 2 | 5 4 0 | 0 0 0 \n",
      "0 5 0 | 3 0 1 | 0 7 0 \n",
      "------+-------+------\n",
      "0 0 0 | 0 0 0 | 0 0 4 \n",
      "4 0 9 | 0 0 6 | 0 0 5 \n",
      "0 2 3 | 0 5 4 | 7 9 0 \n",
      "------+-------+------\n",
      "0 0 0 | 0 0 0 | 0 5 0 \n",
      "7 0 0 | 8 1 0 | 0 0 0 \n",
      "0 8 0 | 0 6 0 | 0 0 9 \n",
      "{'A1': [1, 6, 8, 9], 'A2': [1, 4, 6, 7, 9], 'A3': [1, 4, 6, 7, 8], 'A4': [2, 6, 7, 9], 'A5': [2, 7, 8, 9], 'A6': [2, 7, 8, 9], 'A7': [1, 2, 3, 4, 5, 6, 8, 9], 'A8': [1, 2, 3, 4, 6, 8], 'A9': [1, 2, 3, 6, 8], 'B1': [3], 'B2': [1, 6, 7, 9], 'B3': [2], 'B4': [5], 'B5': [4], 'B6': [7, 8, 9], 'B7': [1, 6, 8, 9], 'B8': [1, 6, 8], 'B9': [1, 6, 8], 'C1': [6, 8, 9], 'C2': [5], 'C3': [4, 6, 8], 'C4': [3], 'C5': [2, 8, 9], 'C6': [1], 'C7': [2, 4, 6, 8, 9], 'C8': [7], 'C9': [2, 6, 8], 'D1': [1, 5, 6, 8], 'D2': [1, 6, 7], 'D3': [1, 5, 6, 7, 8], 'D4': [2, 7, 9], 'D5': [2, 3, 7, 8, 9], 'D6': [2, 3, 7, 8, 9], 'D7': [1, 2, 3, 6, 8], 'D8': [1, 2, 3, 6, 8], 'D9': [4], 'E1': [4], 'E2': [1, 7], 'E3': [9], 'E4': [2, 7], 'E5': [2, 3, 7, 8], 'E6': [6], 'E7': [1, 2, 3, 8], 'E8': [1, 2, 3, 8], 'E9': [5], 'F1': [6, 8], 'F2': [2], 'F3': [3], 'F4': [1], 'F5': [5], 'F6': [4], 'F7': [7], 'F8': [9], 'F9': [6, 8], 'G1': [1, 2, 6, 9], 'G2': [1, 3, 4, 6, 9], 'G3': [1, 4, 6], 'G4': [2, 4, 7, 9], 'G5': [2, 3, 7, 9], 'G6': [2, 3, 7, 9], 'G7': [1, 2, 3, 4, 6, 8], 'G8': [5], 'G9': [1, 2, 3, 6, 7, 8], 'H1': [7], 'H2': [3, 4, 6, 9], 'H3': [4, 5, 6], 'H4': [8], 'H5': [1], 'H6': [2, 3, 5, 9], 'H7': [2, 3, 4, 6], 'H8': [2, 3, 4, 6], 'H9': [2, 3, 6], 'I1': [1, 2, 5], 'I2': [8], 'I3': [1, 4, 5], 'I4': [2, 4, 7], 'I5': [6], 'I6': [2, 3, 5, 7], 'I7': [1, 2, 3, 4], 'I8': [1, 2, 3, 4], 'I9': [9]}\n",
      "B1\n",
      "B1\n"
     ]
    }
   ],
   "source": [
    "input = \"000000000302540000050301070000000004409006005023054790000000050700810000080060009\"  \n",
    "csp = CSP(input)\n",
    "\n",
    "print_board(csp)\n",
    "\n",
    "AC3(csp)\n",
    "print(csp.domain)\n",
    "\n",
    "assignment = {}  \n",
    "var = SelectUnassignVariable(assignment, csp)\n",
    "print(var)\n",
    "\n",
    "assignment = {\"F4\":1}  \n",
    "var = SelectUnassignVariable(assignment, csp)\n",
    "print(var)"
   ]
  },
  {
   "cell_type": "code",
   "execution_count": 455,
   "metadata": {},
   "outputs": [
    {
     "name": "stdout",
     "output_type": "stream",
     "text": [
      "False\n",
      "True\n"
     ]
    }
   ],
   "source": [
    "input = \"000260701680070090190004500820100040004602900050003028009300074040050036703018000\"\n",
    "csp = CSP(input)\n",
    "assignment = {}\n",
    "answer = CheckAssignment(assignment, csp)\n",
    "print(answer)\n",
    "\n",
    "assignment = {'A1': 4, 'A2': 3, 'A3': 5, 'A6': 9, 'A8': 8, 'B3': 2, 'B4': 5, 'B6': 1, 'B7': 4, 'B9':3,'C3': 7, 'C4': 8, 'C5': 3, 'C8': 6, 'C9': 2, 'D3': 6, 'D5': 9, 'D6': 5, 'D7': 3, 'D9': 7, 'E1': 3, 'E2': 7, 'E5': 8, 'E8': 1, 'E9': 5, 'F1': 9, 'F3': 1, 'F4': 7, 'F5': 4, 'F7': 6, 'G1': 5, 'G2': 1, 'G5': 2, 'G6': 6, 'G7': 8, 'H1': 2, 'H3': 8, 'H4': 9, 'H6': 7, 'H7': 1, 'I2': 6, 'I4': 4, 'I7': 2, 'I8': 5, 'I9': 9}\n",
    "\n",
    "answer = CheckAssignment(assignment, csp)\n",
    "print(answer) "
   ]
  },
  {
   "cell_type": "code",
   "execution_count": 456,
   "metadata": {},
   "outputs": [
    {
     "name": "stdout",
     "output_type": "stream",
     "text": [
      "True\n",
      "False\n",
      "True\n",
      "True\n"
     ]
    }
   ],
   "source": [
    "input = \"000260701680070090190004500820100040004602900050003028009300074040050036703018000\"\n",
    "csp = CSP(input)\n",
    "assignment = {'A1': 4, 'A2':3}  \n",
    "print(CheckConsistent(assignment, csp))\n",
    "assignment = {'A1': 4, 'A2':4}\n",
    "print(CheckConsistent(assignment, csp))\n",
    "assignment = {'A1': 4, 'A2':3, 'C5': 3}\n",
    "print(CheckConsistent(assignment, csp))\n",
    "assignment = {'A1': 4, 'A2': 3, 'A3': 5, 'A6': 9, 'A8': 8, 'B3': 2, 'B4': 5, 'B6': 1, 'B7': 4, 'B9':3,'C3': 7, 'C4': 8, 'C5': 3, 'C8': 6, 'C9': 2, 'D3': 6, 'D5': 9, 'D6': 5, 'D7': 3, 'D9': 7, 'E1': 3, 'E2': 7, 'E5': 8, 'E8': 1, 'E9': 5, 'F1': 9, 'F3': 1, 'F4': 7, 'F5': 4, 'F7': 6, 'G1': 5, 'G2': 1, 'G5': 2, 'G6': 6, 'G7': 8, 'H1': 2, 'H3': 8, 'H4': 9, 'H6': 7, 'H7': 1, 'I2': 6, 'I4': 4, 'I7': 2, 'I8': 5, 'I9': 9}\n",
    "print(CheckConsistent(assignment, csp))"
   ]
  },
  {
   "cell_type": "code",
   "execution_count": 457,
   "metadata": {},
   "outputs": [
    {
     "name": "stdout",
     "output_type": "stream",
     "text": [
      "148697123372548961956321478567983214419276385823154796691432857735819642284765139\n",
      "435269781682571493197834562826195347374682915951743628519326874248957136763418259\n",
      "956138742237954816481672953594867321128593674763421598879246135112785469645319287\n",
      "653287941794631258128945376819724563236859417547163829965372184372218695481596732\n"
     ]
    }
   ],
   "source": [
    "input = \"000000000302540000050301070000000004409006005023054790000000050700810000080060009\"\n",
    "csp = CSP(input)\n",
    "\n",
    "AC3(csp)\n",
    "print(BTS(csp))\n",
    "\n",
    "input = \"000260701680070090190004500820100040004602900050003028009300074040050036703018000\"\n",
    "csp = CSP(input)\n",
    "AC3(csp)\n",
    "print(BTS(csp))\n",
    "\n",
    "input = \"000100702030950000001002003590000301020000070703000098800200100000085060605009000\"\n",
    "csp = CSP(input)\n",
    "AC3(csp)\n",
    "print(BTS(csp))\n",
    "\n",
    "input = \"000007000090001000000045006000020000036000410500000809000000004000018000081500032\"\n",
    "csp = CSP(input)\n",
    "AC3(csp)\n",
    "print(BTS(csp))"
   ]
  },
  {
   "cell_type": "code",
   "execution_count": 411,
   "metadata": {
    "deletable": false,
    "editable": false,
    "nbgrader": {
     "checksum": "fedb0c0d392bc9ea62a0813aa0795cab",
     "grade": true,
     "grade_id": "cell-19712297a739c81a",
     "locked": true,
     "points": 10,
     "schema_version": 1,
     "solution": false
    }
   },
   "outputs": [],
   "source": [
    "# this cell is left empty for grading SelectUnassignVariable method"
   ]
  },
  {
   "cell_type": "code",
   "execution_count": 412,
   "metadata": {
    "deletable": false,
    "editable": false,
    "nbgrader": {
     "checksum": "551f9f8047c39536d8285b68990d6146",
     "grade": true,
     "grade_id": "cell-2c3cda963e65034d",
     "locked": true,
     "points": 5,
     "schema_version": 1,
     "solution": false
    }
   },
   "outputs": [],
   "source": [
    "# this cell is left empty for grading CheckAssignment method"
   ]
  },
  {
   "cell_type": "code",
   "execution_count": 413,
   "metadata": {
    "deletable": false,
    "editable": false,
    "nbgrader": {
     "checksum": "feeb5d67a15b5baa7f8da42f482ecee0",
     "grade": true,
     "grade_id": "cell-04834df80e106173",
     "locked": true,
     "points": 5,
     "schema_version": 1,
     "solution": false
    }
   },
   "outputs": [],
   "source": [
    "# this cell is left empty for grading CheckConsistent method"
   ]
  },
  {
   "cell_type": "code",
   "execution_count": 414,
   "metadata": {
    "deletable": false,
    "editable": false,
    "nbgrader": {
     "checksum": "04e184c43a63838ff1a4e4239e4a52ee",
     "grade": true,
     "grade_id": "cell-edce6ec89441f647",
     "locked": true,
     "points": 30,
     "schema_version": 1,
     "solution": false
    }
   },
   "outputs": [],
   "source": [
    "# this cell is left empty for grading BackTrack method"
   ]
  },
  {
   "cell_type": "markdown",
   "metadata": {
    "deletable": false,
    "editable": false,
    "nbgrader": {
     "checksum": "20779b5132203b2028cd9e3d6c8cf728",
     "grade": false,
     "grade_id": "cell-adda9af265717143",
     "locked": true,
     "schema_version": 1,
     "solution": false
    }
   },
   "source": [
    "# V. [Optional ] Forward Checking \n",
    "\n",
    "Using the algorithm for part IV, we are able to solve most Sudoku puzzles, but for some harder sudokus, this algorithm will take long time to execute. We can accelerate the execution speed by adding foward checking to reduce the variable domains. We can implement forward checking in the Inference method. Below, we describe the backtracking seach algorithm with forward checking. In the starter zip, under util/sudokus_start.txt , you will find hundreds of unsolved Sudoku boards. Under util/sudokus_finish.txt you will find the corresponding solutions. Try to implement the forward checking algorithm and solve these boards. \n",
    "\n",
    "\n",
    "\n",
    "<div>\n",
    "<img src=\"attachment:image.png\" width=\"600\"/>\n",
    "</div>\n",
    "\n",
    "\n"
   ]
  }
 ],
 "metadata": {
  "kernelspec": {
   "display_name": "Python 3",
   "language": "python",
   "name": "python3"
  },
  "language_info": {
   "codemirror_mode": {
    "name": "ipython",
    "version": 3
   },
   "file_extension": ".py",
   "mimetype": "text/x-python",
   "name": "python",
   "nbconvert_exporter": "python",
   "pygments_lexer": "ipython3",
   "version": "3.12.1"
  }
 },
 "nbformat": 4,
 "nbformat_minor": 2
}
