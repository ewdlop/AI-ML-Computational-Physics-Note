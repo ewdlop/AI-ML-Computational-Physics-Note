{
 "cells": [
  {
   "cell_type": "code",
   "execution_count": 1,
   "metadata": {
    "executionInfo": {
     "elapsed": 6,
     "status": "ok",
     "timestamp": 1642623881098,
     "user": {
      "displayName": "Alexandr Andoni",
      "photoUrl": "https://lh3.googleusercontent.com/a-/AOh14GgCtiQSTjTJQMmP3lx_rTddamgQg6M3JEqL4CJW=s64",
      "userId": "14310202402022026553"
     },
     "user_tz": 300
    },
    "id": "5M6idap7jh8y"
   },
   "outputs": [],
   "source": [
    "import time\n",
    "import math\n",
    "import sys\n",
    "import heapq\n",
    "from collections import defaultdict"
   ]
  },
  {
   "cell_type": "markdown",
   "metadata": {
    "id": "Iyeb60Wujh81"
   },
   "source": [
    "# Prims Heap Based Implementation"
   ]
  },
  {
   "cell_type": "code",
   "execution_count": 2,
   "metadata": {
    "executionInfo": {
     "elapsed": 5,
     "status": "ok",
     "timestamp": 1642623881099,
     "user": {
      "displayName": "Alexandr Andoni",
      "photoUrl": "https://lh3.googleusercontent.com/a-/AOh14GgCtiQSTjTJQMmP3lx_rTddamgQg6M3JEqL4CJW=s64",
      "userId": "14310202402022026553"
     },
     "user_tz": 300
    },
    "id": "rEMp50Ihjh83"
   },
   "outputs": [],
   "source": [
    "class Graph():\n",
    "    def __init__(self, vertices):\n",
    "        self.vertices = vertices\n",
    "        self.edges = defaultdict(list)\n",
    "    \n",
    "    # Using dictionary to create the graph. This is similar to linked list representation but using dictionary rather than list.\n",
    "    # Graph is undirected so adding both edges \n",
    "    def addEdge(self, src, dest, value):\n",
    "        self.edges[src].insert(0, [dest, value])\n",
    "        self.edges[dest].insert(0, [src, value])\n",
    "    \n",
    "    def MSTPrims(self, source_vertex):\n",
    "        parent = defaultdict(set) # storing parent info for finding MST tree\n",
    "        MSTVertices = set([source_vertex]) #vertex explored\n",
    "        \n",
    "        all_edges = [(value, source_vertex, dest) for dest, value in self.edges[source_vertex]]\n",
    "        \n",
    "        heapq.heapify(all_edges) \n",
    "        \n",
    "        while all_edges:\n",
    "            value, dest, source = heapq.heappop(all_edges) #greedily picking the minimum weight edge from current vertex\n",
    "            if source not in MSTVertices: # if the vertex is not explored then explore that\n",
    "                MSTVertices.add(source)\n",
    "                parent[dest].add(source) \n",
    "                for next_source, value in self.edges[source]: \n",
    "                    if next_source not in MSTVertices: # pick all the edges for which other end of the vertex is not explored yet and add that to heap for exploration\n",
    "                        heapq.heappush(all_edges, (value, source, next_source))\n",
    "\n",
    "        return parent"
   ]
  },
  {
   "cell_type": "markdown",
   "metadata": {
    "id": "kdGcusx5jh83"
   },
   "source": [
    "# Test Case 1"
   ]
  },
  {
   "cell_type": "code",
   "execution_count": 3,
   "metadata": {
    "colab": {
     "base_uri": "https://localhost:8080/"
    },
    "executionInfo": {
     "elapsed": 220,
     "status": "ok",
     "timestamp": 1642623896304,
     "user": {
      "displayName": "Alexandr Andoni",
      "photoUrl": "https://lh3.googleusercontent.com/a-/AOh14GgCtiQSTjTJQMmP3lx_rTddamgQg6M3JEqL4CJW=s64",
      "userId": "14310202402022026553"
     },
     "user_tz": 300
    },
    "id": "mlNsP4XDjh84",
    "outputId": "0ef66a77-588b-4edc-ff33-20e0538d85d8"
   },
   "outputs": [
    {
     "data": {
      "text/plain": [
       "defaultdict(set, {0: {1}, 1: {2, 3}, 2: {5}, 3: {4, 7}, 5: {6}})"
      ]
     },
     "execution_count": 3,
     "metadata": {},
     "output_type": "execute_result"
    }
   ],
   "source": [
    "graph = Graph(9)\n",
    "graph.addEdge(0, 1, 2)\n",
    "graph.addEdge(0, 4, 4)\n",
    "graph.addEdge(0, 6, 6)\n",
    "graph.addEdge(1, 2, 1)\n",
    "graph.addEdge(1, 3, 3)\n",
    "graph.addEdge(1, 4, 4)\n",
    "graph.addEdge(1, 5, 5)\n",
    "graph.addEdge(2, 3, 3)\n",
    "graph.addEdge(2, 5, 4)\n",
    "graph.addEdge(2, 7, 6)\n",
    "graph.addEdge(3, 4, 2)\n",
    "graph.addEdge(3, 7, 5)\n",
    "graph.addEdge(4, 7, 5)\n",
    "graph.addEdge(5, 6, 2)\n",
    "graph.MSTPrims(0)"
   ]
  },
  {
   "cell_type": "markdown",
   "metadata": {
    "id": "Dx4VPje8jh85"
   },
   "source": [
    "# Test Case 2"
   ]
  },
  {
   "cell_type": "code",
   "execution_count": 4,
   "metadata": {
    "colab": {
     "base_uri": "https://localhost:8080/"
    },
    "executionInfo": {
     "elapsed": 254,
     "status": "ok",
     "timestamp": 1642623899238,
     "user": {
      "displayName": "Alexandr Andoni",
      "photoUrl": "https://lh3.googleusercontent.com/a-/AOh14GgCtiQSTjTJQMmP3lx_rTddamgQg6M3JEqL4CJW=s64",
      "userId": "14310202402022026553"
     },
     "user_tz": 300
    },
    "id": "aYCv8Y5Ijh86",
    "outputId": "cf44b2fd-25be-48f0-a6ff-952da06c4d44"
   },
   "outputs": [
    {
     "data": {
      "text/plain": [
       "defaultdict(set,\n",
       "            {0: {1, 5}, 3: {6, 8}, 5: {4, 9}, 7: {3, 10}, 9: {7}, 10: {2}})"
      ]
     },
     "execution_count": 4,
     "metadata": {},
     "output_type": "execute_result"
    }
   ],
   "source": [
    "graph = Graph(11)\n",
    "graph.addEdge(0, 1, 4)\n",
    "graph.addEdge(0, 5, 9)\n",
    "graph.addEdge(0, 6, 25)\n",
    "graph.addEdge(0, 9, 264)\n",
    "graph.addEdge(1, 3, 9)\n",
    "graph.addEdge(1, 4, 879)\n",
    "graph.addEdge(1, 5, 23)\n",
    "graph.addEdge(1, 6, 33)\n",
    "graph.addEdge(1, 10, 31)\n",
    "graph.addEdge(2, 1, 22)\n",
    "graph.addEdge(2, 4, 47)\n",
    "graph.addEdge(2, 5, 948)\n",
    "graph.addEdge(2, 10, 15)\n",
    "graph.addEdge(3, 0, 735)\n",
    "graph.addEdge(3, 2, 17)\n",
    "graph.addEdge(3, 6, 4)\n",
    "graph.addEdge(4, 0, 115)\n",
    "graph.addEdge(4, 7, 7)\n",
    "graph.addEdge(4, 8, 38)\n",
    "graph.addEdge(4, 9, 223)\n",
    "graph.addEdge(5, 3, 879)\n",
    "graph.addEdge(5, 4, 5)\n",
    "graph.addEdge(5, 6, 65)\n",
    "graph.addEdge(5, 8, 83)\n",
    "graph.addEdge(6, 2, 45)\n",
    "graph.addEdge(6, 8, 66)\n",
    "graph.addEdge(6, 9, 164)\n",
    "graph.addEdge(7, 0, 55)\n",
    "graph.addEdge(7, 1, 239)\n",
    "graph.addEdge(7, 3, 6)\n",
    "graph.addEdge(7, 6, 13)\n",
    "graph.addEdge(7, 8, 49)\n",
    "graph.addEdge(7, 9, 6)\n",
    "graph.addEdge(7, 10, 8)\n",
    "graph.addEdge(8, 1, 145)\n",
    "graph.addEdge(8, 3, 5)\n",
    "graph.addEdge(9, 1, 695)\n",
    "graph.addEdge(9, 2, 311)\n",
    "graph.addEdge(9, 5, 5)\n",
    "graph.addEdge(9, 8, 524)\n",
    "graph.addEdge(10, 0, 582)\n",
    "graph.addEdge(10, 3, 26)\n",
    "graph.addEdge(10, 4, 977)\n",
    "graph.addEdge(10, 5, 9)\n",
    "graph.MSTPrims(0)"
   ]
  }
 ],
 "metadata": {
  "colab": {
   "collapsed_sections": [],
   "name": "PrimsMST.ipynb",
   "provenance": []
  },
  "kernelspec": {
   "display_name": "Python 3",
   "language": "python",
   "name": "python3"
  },
  "language_info": {
   "codemirror_mode": {
    "name": "ipython",
    "version": 3
   },
   "file_extension": ".py",
   "mimetype": "text/x-python",
   "name": "python",
   "nbconvert_exporter": "python",
   "pygments_lexer": "ipython3",
   "version": "3.6.9"
  }
 },
 "nbformat": 4,
 "nbformat_minor": 1
}
