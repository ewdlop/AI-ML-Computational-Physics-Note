{
 "cells": [
  {
   "cell_type": "code",
   "execution_count": 1,
   "metadata": {},
   "outputs": [
    {
     "name": "stdout",
     "output_type": "stream",
     "text": [
      "WARNING: pip is being invoked by an old script wrapper. This will fail in a future version of pip.\n",
      "Please see https://github.com/pypa/pip/issues/5599 for advice on fixing the underlying issue.\n",
      "To avoid this problem you can invoke Python with '-m pip' instead of running pip directly.\n",
      "Requirement already satisfied: pip in /home/codio/.local/lib/python3.6/site-packages (21.3.1)\n",
      "WARNING: pip is being invoked by an old script wrapper. This will fail in a future version of pip.\n",
      "Please see https://github.com/pypa/pip/issues/5599 for advice on fixing the underlying issue.\n",
      "To avoid this problem you can invoke Python with '-m pip' instead of running pip directly.\n",
      "Requirement already satisfied: sklearn in /home/codio/.local/lib/python3.6/site-packages (0.0)\n",
      "Requirement already satisfied: scikit-learn in /home/codio/.local/lib/python3.6/site-packages (from sklearn) (0.24.2)\n",
      "Requirement already satisfied: numpy>=1.13.3 in /usr/local/lib/python3.6/dist-packages (from scikit-learn->sklearn) (1.16.3)\n",
      "Requirement already satisfied: threadpoolctl>=2.0.0 in /home/codio/.local/lib/python3.6/site-packages (from scikit-learn->sklearn) (3.1.0)\n",
      "Requirement already satisfied: joblib>=0.11 in /home/codio/.local/lib/python3.6/site-packages (from scikit-learn->sklearn) (1.1.0)\n",
      "Requirement already satisfied: scipy>=0.19.1 in /usr/local/lib/python3.6/dist-packages (from scikit-learn->sklearn) (1.2.1)\n",
      "WARNING: pip is being invoked by an old script wrapper. This will fail in a future version of pip.\n",
      "Please see https://github.com/pypa/pip/issues/5599 for advice on fixing the underlying issue.\n",
      "To avoid this problem you can invoke Python with '-m pip' instead of running pip directly.\n",
      "Requirement already satisfied: pandas in /home/codio/.local/lib/python3.6/site-packages (1.1.5)\n",
      "Requirement already satisfied: python-dateutil>=2.7.3 in /usr/local/lib/python3.6/dist-packages (from pandas) (2.8.0)\n",
      "Requirement already satisfied: pytz>=2017.2 in /home/codio/.local/lib/python3.6/site-packages (from pandas) (2021.3)\n",
      "Requirement already satisfied: numpy>=1.15.4 in /usr/local/lib/python3.6/dist-packages (from pandas) (1.16.3)\n",
      "Requirement already satisfied: six>=1.5 in /usr/lib/python3/dist-packages (from python-dateutil>=2.7.3->pandas) (1.11.0)\n"
     ]
    }
   ],
   "source": [
    "# install sklearn and pandas\n",
    "!pip install --user --upgrade pip\n",
    "!pip install --user sklearn\n",
    "!pip install --user pandas \n",
    "import pickle, sklearn\n",
    "import matplotlib.pyplot as plt \n",
    "import pandas as pd\n",
    "import numpy as np \n",
    "from sklearn.tree import DecisionTreeClassifier\n"
   ]
  },
  {
   "cell_type": "markdown",
   "metadata": {},
   "source": [
    "# Load Dataset"
   ]
  },
  {
   "cell_type": "code",
   "execution_count": 2,
   "metadata": {},
   "outputs": [],
   "source": [
    "with open(\"marketing\", \"rb\") as f:\n",
    "    dataset=pickle.load(f)\n",
    "Marketing=dataset[\"Dataset\"]\n"
   ]
  },
  {
   "cell_type": "code",
   "execution_count": 3,
   "metadata": {},
   "outputs": [],
   "source": [
    "Marketing_X=Marketing[[\"Income\",\"Year_Birth\",\"Response\"]]\n",
    "Marketing_y=Marketing[\"Kidhome\"]\n"
   ]
  },
  {
   "cell_type": "markdown",
   "metadata": {},
   "source": [
    "# Cross-validation"
   ]
  },
  {
   "cell_type": "markdown",
   "metadata": {},
   "source": [
    "## Train-validation-test\n",
    "\n",
    "[sklearn.model_selection.train_test_split](https://scikit-learn.org/stable/modules/generated/sklearn.model_selection.train_test_split.html)"
   ]
  },
  {
   "cell_type": "code",
   "execution_count": 4,
   "metadata": {},
   "outputs": [],
   "source": [
    "from sklearn.model_selection import train_test_split\n",
    "\n",
    "### split whole data to train and test \n",
    "train_x,test_x, train_y, test_y=train_test_split(Marketing_X,Marketing_y,test_size=0.15,random_state=10)\n",
    "\n",
    "### split training set to train and validation  \n",
    "train_x,validation_x, train_y, validation_y=train_test_split(train_x,train_y,test_size=0.20,random_state=20)"
   ]
  },
  {
   "cell_type": "code",
   "execution_count": 5,
   "metadata": {},
   "outputs": [
    {
     "data": {
      "text/plain": [
       "array([0.76923077, 0.76127321, 0.76127321, 0.78514589, 0.78514589,\n",
       "       0.77188329, 0.74801061, 0.74535809, 0.75596817, 0.74005305])"
      ]
     },
     "execution_count": 5,
     "metadata": {},
     "output_type": "execute_result"
    }
   ],
   "source": [
    "## train 10 models with 10 different max_depth = 1, 2, 3, ..., 10\n",
    "\n",
    "Accuracy=np.empty(10)\n",
    "Depth_candidates=range(1,11)\n",
    "for depth in Depth_candidates:\n",
    "    ## use train set to train each model\n",
    "    model=DecisionTreeClassifier(max_depth=depth,criterion=\"entropy\")\n",
    "    model.fit(train_x,train_y)\n",
    "    ## use validation set to report the accuracy\n",
    "    Accuracy[depth-1]=np.mean(validation_y==model.predict(validation_x))\n",
    "\n",
    "Accuracy\n"
   ]
  },
  {
   "cell_type": "code",
   "execution_count": 6,
   "metadata": {},
   "outputs": [
    {
     "data": {
      "text/plain": [
       "4"
      ]
     },
     "execution_count": 6,
     "metadata": {},
     "output_type": "execute_result"
    }
   ],
   "source": [
    "##determine the model (best max_depth in this case)\n",
    "Depth_best=Depth_candidates[np.argmax(Accuracy)]\n",
    "Depth_best"
   ]
  },
  {
   "cell_type": "code",
   "execution_count": 7,
   "metadata": {},
   "outputs": [
    {
     "data": {
      "text/plain": [
       "DecisionTreeClassifier(criterion='entropy', max_depth=4)"
      ]
     },
     "execution_count": 7,
     "metadata": {},
     "output_type": "execute_result"
    }
   ],
   "source": [
    "## retrain the best model using both training and validation \n",
    "train_valid_x=pd.concat([train_x,validation_x])\n",
    "train_valid_y=pd.concat([train_y,validation_y])\n",
    "model=DecisionTreeClassifier(max_depth=Depth_best,criterion=\"entropy\")\n",
    "model.fit(train_valid_x,train_valid_y)"
   ]
  },
  {
   "cell_type": "code",
   "execution_count": 8,
   "metadata": {},
   "outputs": [
    {
     "data": {
      "text/plain": [
       "0.7807807807807807"
      ]
     },
     "execution_count": 8,
     "metadata": {},
     "output_type": "execute_result"
    }
   ],
   "source": [
    "## report the accuracy using test set \n",
    "\n",
    "np.mean(test_y==model.predict(test_x))"
   ]
  },
  {
   "cell_type": "markdown",
   "metadata": {},
   "source": [
    "## k-fold cross validation \n",
    "\n",
    "[sklearn.model_selection.KFold](https://scikit-learn.org/stable/modules/generated/sklearn.model_selection.KFold.html)\n",
    "\n",
    "[sklearn.model_selection.GridSearchCV](https://scikit-learn.org/stable/modules/generated/sklearn.model_selection.GridSearchCV.html)"
   ]
  },
  {
   "cell_type": "code",
   "execution_count": 9,
   "metadata": {},
   "outputs": [
    {
     "data": {
      "text/plain": [
       "KFold(n_splits=5, random_state=None, shuffle=False)"
      ]
     },
     "execution_count": 9,
     "metadata": {},
     "output_type": "execute_result"
    }
   ],
   "source": [
    "from sklearn.model_selection import KFold\n",
    "## split the whole data to train/test \n",
    "train_x,test_x, train_y, test_y=train_test_split(Marketing_X,Marketing_y,test_size=0.15,random_state=30)\n",
    "\n",
    "## perform k fold split on training set \n",
    "kf = KFold(n_splits=5)\n",
    "kf.get_n_splits(train_x)\n",
    "kf"
   ]
  },
  {
   "cell_type": "code",
   "execution_count": 10,
   "metadata": {},
   "outputs": [
    {
     "name": "stdout",
     "output_type": "stream",
     "text": [
      "[  0   1   2   3   4   5   6   7   8   9  10  11  12  13  14  15  16  17\n",
      "  18  19  20  21  22  23  24  25  26  27  28  29  30  31  32  33  34  35\n",
      "  36  37  38  39  40  41  42  43  44  45  46  47  48  49  50  51  52  53\n",
      "  54  55  56  57  58  59  60  61  62  63  64  65  66  67  68  69  70  71\n",
      "  72  73  74  75  76  77  78  79  80  81  82  83  84  85  86  87  88  89\n",
      "  90  91  92  93  94  95  96  97  98  99 100 101 102 103 104 105 106 107\n",
      " 108 109 110 111 112 113 114 115 116 117 118 119 120 121 122 123 124 125\n",
      " 126 127 128 129 130 131 132 133 134 135 136 137 138 139 140 141 142 143\n",
      " 144 145 146 147 148 149 150 151 152 153 154 155 156 157 158 159 160 161\n",
      " 162 163 164 165 166 167 168 169 170 171 172 173 174 175 176 177 178 179\n",
      " 180 181 182 183 184 185 186 187 188 189 190 191 192 193 194 195 196 197\n",
      " 198 199 200 201 202 203 204 205 206 207 208 209 210 211 212 213 214 215\n",
      " 216 217 218 219 220 221 222 223 224 225 226 227 228 229 230 231 232 233\n",
      " 234 235 236 237 238 239 240 241 242 243 244 245 246 247 248 249 250 251\n",
      " 252 253 254 255 256 257 258 259 260 261 262 263 264 265 266 267 268 269\n",
      " 270 271 272 273 274 275 276 277 278 279 280 281 282 283 284 285 286 287\n",
      " 288 289 290 291 292 293 294 295 296 297 298 299 300 301 302 303 304 305\n",
      " 306 307 308 309 310 311 312 313 314 315 316 317 318 319 320 321 322 323\n",
      " 324 325 326 327 328 329 330 331 332 333 334 335 336 337 338 339 340 341\n",
      " 342 343 344 345 346 347 348 349 350 351 352 353 354 355 356 357 358 359\n",
      " 360 361 362 363 364 365 366 367 368 369 370 371 372 373 374 375 376] [ 377  378  379 ... 1880 1881 1882]\n",
      "[377 378 379 380 381 382 383 384 385 386 387 388 389 390 391 392 393 394\n",
      " 395 396 397 398 399 400 401 402 403 404 405 406 407 408 409 410 411 412\n",
      " 413 414 415 416 417 418 419 420 421 422 423 424 425 426 427 428 429 430\n",
      " 431 432 433 434 435 436 437 438 439 440 441 442 443 444 445 446 447 448\n",
      " 449 450 451 452 453 454 455 456 457 458 459 460 461 462 463 464 465 466\n",
      " 467 468 469 470 471 472 473 474 475 476 477 478 479 480 481 482 483 484\n",
      " 485 486 487 488 489 490 491 492 493 494 495 496 497 498 499 500 501 502\n",
      " 503 504 505 506 507 508 509 510 511 512 513 514 515 516 517 518 519 520\n",
      " 521 522 523 524 525 526 527 528 529 530 531 532 533 534 535 536 537 538\n",
      " 539 540 541 542 543 544 545 546 547 548 549 550 551 552 553 554 555 556\n",
      " 557 558 559 560 561 562 563 564 565 566 567 568 569 570 571 572 573 574\n",
      " 575 576 577 578 579 580 581 582 583 584 585 586 587 588 589 590 591 592\n",
      " 593 594 595 596 597 598 599 600 601 602 603 604 605 606 607 608 609 610\n",
      " 611 612 613 614 615 616 617 618 619 620 621 622 623 624 625 626 627 628\n",
      " 629 630 631 632 633 634 635 636 637 638 639 640 641 642 643 644 645 646\n",
      " 647 648 649 650 651 652 653 654 655 656 657 658 659 660 661 662 663 664\n",
      " 665 666 667 668 669 670 671 672 673 674 675 676 677 678 679 680 681 682\n",
      " 683 684 685 686 687 688 689 690 691 692 693 694 695 696 697 698 699 700\n",
      " 701 702 703 704 705 706 707 708 709 710 711 712 713 714 715 716 717 718\n",
      " 719 720 721 722 723 724 725 726 727 728 729 730 731 732 733 734 735 736\n",
      " 737 738 739 740 741 742 743 744 745 746 747 748 749 750 751 752 753] [   0    1    2 ... 1880 1881 1882]\n",
      "[ 754  755  756  757  758  759  760  761  762  763  764  765  766  767\n",
      "  768  769  770  771  772  773  774  775  776  777  778  779  780  781\n",
      "  782  783  784  785  786  787  788  789  790  791  792  793  794  795\n",
      "  796  797  798  799  800  801  802  803  804  805  806  807  808  809\n",
      "  810  811  812  813  814  815  816  817  818  819  820  821  822  823\n",
      "  824  825  826  827  828  829  830  831  832  833  834  835  836  837\n",
      "  838  839  840  841  842  843  844  845  846  847  848  849  850  851\n",
      "  852  853  854  855  856  857  858  859  860  861  862  863  864  865\n",
      "  866  867  868  869  870  871  872  873  874  875  876  877  878  879\n",
      "  880  881  882  883  884  885  886  887  888  889  890  891  892  893\n",
      "  894  895  896  897  898  899  900  901  902  903  904  905  906  907\n",
      "  908  909  910  911  912  913  914  915  916  917  918  919  920  921\n",
      "  922  923  924  925  926  927  928  929  930  931  932  933  934  935\n",
      "  936  937  938  939  940  941  942  943  944  945  946  947  948  949\n",
      "  950  951  952  953  954  955  956  957  958  959  960  961  962  963\n",
      "  964  965  966  967  968  969  970  971  972  973  974  975  976  977\n",
      "  978  979  980  981  982  983  984  985  986  987  988  989  990  991\n",
      "  992  993  994  995  996  997  998  999 1000 1001 1002 1003 1004 1005\n",
      " 1006 1007 1008 1009 1010 1011 1012 1013 1014 1015 1016 1017 1018 1019\n",
      " 1020 1021 1022 1023 1024 1025 1026 1027 1028 1029 1030 1031 1032 1033\n",
      " 1034 1035 1036 1037 1038 1039 1040 1041 1042 1043 1044 1045 1046 1047\n",
      " 1048 1049 1050 1051 1052 1053 1054 1055 1056 1057 1058 1059 1060 1061\n",
      " 1062 1063 1064 1065 1066 1067 1068 1069 1070 1071 1072 1073 1074 1075\n",
      " 1076 1077 1078 1079 1080 1081 1082 1083 1084 1085 1086 1087 1088 1089\n",
      " 1090 1091 1092 1093 1094 1095 1096 1097 1098 1099 1100 1101 1102 1103\n",
      " 1104 1105 1106 1107 1108 1109 1110 1111 1112 1113 1114 1115 1116 1117\n",
      " 1118 1119 1120 1121 1122 1123 1124 1125 1126 1127 1128 1129 1130] [   0    1    2 ... 1880 1881 1882]\n",
      "[1131 1132 1133 1134 1135 1136 1137 1138 1139 1140 1141 1142 1143 1144\n",
      " 1145 1146 1147 1148 1149 1150 1151 1152 1153 1154 1155 1156 1157 1158\n",
      " 1159 1160 1161 1162 1163 1164 1165 1166 1167 1168 1169 1170 1171 1172\n",
      " 1173 1174 1175 1176 1177 1178 1179 1180 1181 1182 1183 1184 1185 1186\n",
      " 1187 1188 1189 1190 1191 1192 1193 1194 1195 1196 1197 1198 1199 1200\n",
      " 1201 1202 1203 1204 1205 1206 1207 1208 1209 1210 1211 1212 1213 1214\n",
      " 1215 1216 1217 1218 1219 1220 1221 1222 1223 1224 1225 1226 1227 1228\n",
      " 1229 1230 1231 1232 1233 1234 1235 1236 1237 1238 1239 1240 1241 1242\n",
      " 1243 1244 1245 1246 1247 1248 1249 1250 1251 1252 1253 1254 1255 1256\n",
      " 1257 1258 1259 1260 1261 1262 1263 1264 1265 1266 1267 1268 1269 1270\n",
      " 1271 1272 1273 1274 1275 1276 1277 1278 1279 1280 1281 1282 1283 1284\n",
      " 1285 1286 1287 1288 1289 1290 1291 1292 1293 1294 1295 1296 1297 1298\n",
      " 1299 1300 1301 1302 1303 1304 1305 1306 1307 1308 1309 1310 1311 1312\n",
      " 1313 1314 1315 1316 1317 1318 1319 1320 1321 1322 1323 1324 1325 1326\n",
      " 1327 1328 1329 1330 1331 1332 1333 1334 1335 1336 1337 1338 1339 1340\n",
      " 1341 1342 1343 1344 1345 1346 1347 1348 1349 1350 1351 1352 1353 1354\n",
      " 1355 1356 1357 1358 1359 1360 1361 1362 1363 1364 1365 1366 1367 1368\n",
      " 1369 1370 1371 1372 1373 1374 1375 1376 1377 1378 1379 1380 1381 1382\n",
      " 1383 1384 1385 1386 1387 1388 1389 1390 1391 1392 1393 1394 1395 1396\n",
      " 1397 1398 1399 1400 1401 1402 1403 1404 1405 1406 1407 1408 1409 1410\n",
      " 1411 1412 1413 1414 1415 1416 1417 1418 1419 1420 1421 1422 1423 1424\n",
      " 1425 1426 1427 1428 1429 1430 1431 1432 1433 1434 1435 1436 1437 1438\n",
      " 1439 1440 1441 1442 1443 1444 1445 1446 1447 1448 1449 1450 1451 1452\n",
      " 1453 1454 1455 1456 1457 1458 1459 1460 1461 1462 1463 1464 1465 1466\n",
      " 1467 1468 1469 1470 1471 1472 1473 1474 1475 1476 1477 1478 1479 1480\n",
      " 1481 1482 1483 1484 1485 1486 1487 1488 1489 1490 1491 1492 1493 1494\n",
      " 1495 1496 1497 1498 1499 1500 1501 1502 1503 1504 1505 1506] [   0    1    2 ... 1880 1881 1882]\n",
      "[1507 1508 1509 1510 1511 1512 1513 1514 1515 1516 1517 1518 1519 1520\n",
      " 1521 1522 1523 1524 1525 1526 1527 1528 1529 1530 1531 1532 1533 1534\n",
      " 1535 1536 1537 1538 1539 1540 1541 1542 1543 1544 1545 1546 1547 1548\n",
      " 1549 1550 1551 1552 1553 1554 1555 1556 1557 1558 1559 1560 1561 1562\n",
      " 1563 1564 1565 1566 1567 1568 1569 1570 1571 1572 1573 1574 1575 1576\n",
      " 1577 1578 1579 1580 1581 1582 1583 1584 1585 1586 1587 1588 1589 1590\n",
      " 1591 1592 1593 1594 1595 1596 1597 1598 1599 1600 1601 1602 1603 1604\n",
      " 1605 1606 1607 1608 1609 1610 1611 1612 1613 1614 1615 1616 1617 1618\n",
      " 1619 1620 1621 1622 1623 1624 1625 1626 1627 1628 1629 1630 1631 1632\n",
      " 1633 1634 1635 1636 1637 1638 1639 1640 1641 1642 1643 1644 1645 1646\n",
      " 1647 1648 1649 1650 1651 1652 1653 1654 1655 1656 1657 1658 1659 1660\n",
      " 1661 1662 1663 1664 1665 1666 1667 1668 1669 1670 1671 1672 1673 1674\n",
      " 1675 1676 1677 1678 1679 1680 1681 1682 1683 1684 1685 1686 1687 1688\n",
      " 1689 1690 1691 1692 1693 1694 1695 1696 1697 1698 1699 1700 1701 1702\n",
      " 1703 1704 1705 1706 1707 1708 1709 1710 1711 1712 1713 1714 1715 1716\n",
      " 1717 1718 1719 1720 1721 1722 1723 1724 1725 1726 1727 1728 1729 1730\n",
      " 1731 1732 1733 1734 1735 1736 1737 1738 1739 1740 1741 1742 1743 1744\n",
      " 1745 1746 1747 1748 1749 1750 1751 1752 1753 1754 1755 1756 1757 1758\n",
      " 1759 1760 1761 1762 1763 1764 1765 1766 1767 1768 1769 1770 1771 1772\n",
      " 1773 1774 1775 1776 1777 1778 1779 1780 1781 1782 1783 1784 1785 1786\n",
      " 1787 1788 1789 1790 1791 1792 1793 1794 1795 1796 1797 1798 1799 1800\n",
      " 1801 1802 1803 1804 1805 1806 1807 1808 1809 1810 1811 1812 1813 1814\n",
      " 1815 1816 1817 1818 1819 1820 1821 1822 1823 1824 1825 1826 1827 1828\n",
      " 1829 1830 1831 1832 1833 1834 1835 1836 1837 1838 1839 1840 1841 1842\n",
      " 1843 1844 1845 1846 1847 1848 1849 1850 1851 1852 1853 1854 1855 1856\n",
      " 1857 1858 1859 1860 1861 1862 1863 1864 1865 1866 1867 1868 1869 1870\n",
      " 1871 1872 1873 1874 1875 1876 1877 1878 1879 1880 1881 1882] [   0    1    2 ... 1504 1505 1506]\n"
     ]
    }
   ],
   "source": [
    "## check out how split is done \n",
    "for train_index,test_index  in kf.split(train_x):\n",
    "    print (test_index,train_index)"
   ]
  },
  {
   "cell_type": "code",
   "execution_count": 11,
   "metadata": {},
   "outputs": [
    {
     "data": {
      "text/plain": [
       "array([[0.73740053, 0.77984085, 0.76923077, 0.76923077, 0.76923077,\n",
       "        0.76657825, 0.77453581, 0.77984085, 0.77718833, 0.77984085],\n",
       "       [0.75596817, 0.76923077, 0.77188329, 0.75596817, 0.75596817,\n",
       "        0.75066313, 0.76657825, 0.78779841, 0.77984085, 0.77984085],\n",
       "       [0.77453581, 0.78514589, 0.79045093, 0.78514589, 0.76392573,\n",
       "        0.77453581, 0.75862069, 0.78779841, 0.77188329, 0.77188329],\n",
       "       [0.7606383 , 0.77925532, 0.77393617, 0.7712766 , 0.77925532,\n",
       "        0.76861702, 0.76595745, 0.75797872, 0.76329787, 0.75      ],\n",
       "       [0.74734043, 0.74202128, 0.75531915, 0.75531915, 0.75265957,\n",
       "        0.73670213, 0.73138298, 0.72606383, 0.70478723, 0.71542553]])"
      ]
     },
     "execution_count": 11,
     "metadata": {},
     "output_type": "execute_result"
    }
   ],
   "source": [
    "## Perform k-fold cross-validation on the training set \n",
    "Accuracy=np.empty((5,10))\n",
    "i=0\n",
    "for train_index,valid_index  in kf.split(train_x):\n",
    "    for depth in Depth_candidates:\n",
    "        ## use train set to train each model\n",
    "        model=DecisionTreeClassifier(max_depth=depth,criterion=\"entropy\")\n",
    "        model.fit(train_x.values[train_index],train_y.values[train_index])\n",
    "        ## use validation set to report the accuracy\n",
    "        Accuracy[i,depth-1]=np.mean(train_y.values[valid_index]==model.predict(train_x.values[valid_index]))\n",
    "    i=i+1\n",
    "Accuracy\n"
   ]
  },
  {
   "cell_type": "code",
   "execution_count": 12,
   "metadata": {},
   "outputs": [
    {
     "data": {
      "text/plain": [
       "array([0.75517665, 0.77109882, 0.77216406, 0.76738811, 0.76420791,\n",
       "       0.75941927, 0.75941503, 0.76789604, 0.75939951, 0.7593981 ])"
      ]
     },
     "execution_count": 12,
     "metadata": {},
     "output_type": "execute_result"
    }
   ],
   "source": [
    "## average out the accuracy \n",
    "Accuracy=np.mean(Accuracy,axis=0)\n",
    "Accuracy"
   ]
  },
  {
   "cell_type": "code",
   "execution_count": 13,
   "metadata": {},
   "outputs": [
    {
     "data": {
      "text/plain": [
       "(array([0.75517665, 0.77109882, 0.77216406, 0.76738811, 0.76420791,\n",
       "        0.76207602, 0.76207038, 0.76736131, 0.75993284, 0.75833568]),\n",
       " DecisionTreeClassifier(criterion='entropy', max_depth=3),\n",
       " 0.7721640611772673)"
      ]
     },
     "execution_count": 13,
     "metadata": {},
     "output_type": "execute_result"
    }
   ],
   "source": [
    "## alternatively, we can do grit search\n",
    "from sklearn.model_selection import GridSearchCV\n",
    "\n",
    "model=GridSearchCV(DecisionTreeClassifier(criterion=\"entropy\"),param_grid={\"max_depth\":range(1,11)}\n",
    "             ,cv=kf , n_jobs=-1)\n",
    "model.fit(train_x,train_y)\n",
    "model.cv_results_[\"mean_test_score\"], model.best_estimator_, model.best_score_"
   ]
  },
  {
   "cell_type": "code",
   "execution_count": 14,
   "metadata": {},
   "outputs": [
    {
     "data": {
      "text/plain": [
       "DecisionTreeClassifier(criterion='entropy', max_depth=3)"
      ]
     },
     "execution_count": 14,
     "metadata": {},
     "output_type": "execute_result"
    }
   ],
   "source": [
    "## retrain the best model using both training and validation \n",
    " \n",
    "model=model.best_estimator_\n",
    "model.fit(train_x,train_y)"
   ]
  },
  {
   "cell_type": "code",
   "execution_count": 15,
   "metadata": {},
   "outputs": [
    {
     "data": {
      "text/plain": [
       "0.7687687687687688"
      ]
     },
     "execution_count": 15,
     "metadata": {},
     "output_type": "execute_result"
    }
   ],
   "source": [
    "## report the accuracy using test set \n",
    "\n",
    "np.mean(test_y==model.predict(test_x))"
   ]
  },
  {
   "cell_type": "markdown",
   "metadata": {},
   "source": [
    "# Leave on out "
   ]
  },
  {
   "cell_type": "code",
   "execution_count": 16,
   "metadata": {},
   "outputs": [
    {
     "data": {
      "text/plain": [
       "(array([0.76898566, 0.7748274 , 0.77695167, 0.7503983 , 0.76048858,\n",
       "        0.76579926, 0.75358471, 0.73765268, 0.74668083, 0.76208178]),\n",
       " DecisionTreeClassifier(criterion='entropy', max_depth=3),\n",
       " 0.7769516728624535)"
      ]
     },
     "execution_count": 16,
     "metadata": {},
     "output_type": "execute_result"
    }
   ],
   "source": [
    "from sklearn.model_selection import LeaveOneOut\n",
    "loo = LeaveOneOut()\n",
    "loo.get_n_splits(train_x)\n",
    "\n",
    "model=GridSearchCV(DecisionTreeClassifier(criterion=\"entropy\"),param_grid={\"max_depth\":range(1,11)}\n",
    "             ,cv=loo , n_jobs=-1)\n",
    "model.fit(train_x,train_y)\n",
    "model.cv_results_[\"mean_test_score\"], model.best_estimator_, model.best_score_\n"
   ]
  },
  {
   "cell_type": "code",
   "execution_count": 17,
   "metadata": {},
   "outputs": [
    {
     "data": {
      "text/plain": [
       "DecisionTreeClassifier(criterion='entropy', max_depth=3)"
      ]
     },
     "execution_count": 17,
     "metadata": {},
     "output_type": "execute_result"
    }
   ],
   "source": [
    "## retrain the best model using both training and validation \n",
    " \n",
    "model=model.best_estimator_\n",
    "model.fit(train_x,train_y)"
   ]
  },
  {
   "cell_type": "code",
   "execution_count": 18,
   "metadata": {},
   "outputs": [
    {
     "data": {
      "text/plain": [
       "0.7687687687687688"
      ]
     },
     "execution_count": 18,
     "metadata": {},
     "output_type": "execute_result"
    }
   ],
   "source": [
    "## report the accuracy using test set \n",
    "\n",
    "np.mean(test_y==model.predict(test_x))"
   ]
  },
  {
   "cell_type": "markdown",
   "metadata": {},
   "source": [
    "# Regression Tree"
   ]
  },
  {
   "cell_type": "code",
   "execution_count": 19,
   "metadata": {},
   "outputs": [
    {
     "data": {
      "text/plain": [
       "['Year_Birth',\n",
       " 'Kidhome',\n",
       " 'Teenhome',\n",
       " 'Recency',\n",
       " 'MntWines',\n",
       " 'MntFruits',\n",
       " 'MntMeatProducts',\n",
       " 'MntFishProducts',\n",
       " 'MntSweetProducts',\n",
       " 'MntGoldProds',\n",
       " 'NumDealsPurchases',\n",
       " 'NumWebPurchases',\n",
       " 'NumCatalogPurchases',\n",
       " 'NumStorePurchases',\n",
       " 'NumWebVisitsMonth',\n",
       " 'AcceptedCmp3',\n",
       " 'AcceptedCmp4',\n",
       " 'AcceptedCmp5',\n",
       " 'AcceptedCmp1',\n",
       " 'AcceptedCmp2',\n",
       " 'Complain',\n",
       " 'Z_CostContact',\n",
       " 'Z_Revenue',\n",
       " 'Response']"
      ]
     },
     "execution_count": 19,
     "metadata": {},
     "output_type": "execute_result"
    }
   ],
   "source": [
    "List1=list(Marketing.dtypes[Marketing.dtypes==int].index)\n",
    "List1.remove(\"ID\")\n",
    "List1"
   ]
  },
  {
   "cell_type": "code",
   "execution_count": 20,
   "metadata": {},
   "outputs": [
    {
     "data": {
      "text/plain": [
       "<matplotlib.collections.PathCollection at 0x7f1588884048>"
      ]
     },
     "execution_count": 20,
     "metadata": {},
     "output_type": "execute_result"
    },
    {
     "data": {
      "image/png": "[encoded data removed]",
      "text/plain": [
       "<Figure size 432x288 with 1 Axes>"
      ]
     },
     "metadata": {
      "needs_background": "light"
     },
     "output_type": "display_data"
    }
   ],
   "source": [
    "from sklearn.tree import DecisionTreeRegressor, plot_tree\n",
    "import matplotlib.pyplot as plt\n",
    "Marketing_y=Marketing[\"Income\"]\n",
    "Marketing_x=Marketing[List1]\n",
    "train_x,test_x, train_y, test_y=train_test_split(Marketing_x,Marketing_y,test_size=0.15,random_state=10)\n",
    " \n",
    "\n",
    "model=DecisionTreeRegressor( max_depth=2)\n",
    "model.fit(train_x,train_y)\n",
    "predictions=model.predict(test_x)\n",
    "plt.scatter(test_y,predictions)\n"
   ]
  },
  {
   "cell_type": "code",
   "execution_count": 21,
   "metadata": {},
   "outputs": [
    {
     "data": {
      "image/png": "[encoded data removed]",
      "text/plain": [
       "<Figure size 720x720 with 1 Axes>"
      ]
     },
     "metadata": {
      "needs_background": "light"
     },
     "output_type": "display_data"
    }
   ],
   "source": [
    "plt.figure(figsize=(10,10))\n",
    "plot_tree(model,max_depth=2,fontsize=10,feature_names=List1)\n",
    "plt.show()"
   ]
  },
  {
   "cell_type": "markdown",
   "metadata": {},
   "source": [
    "## Get decision path "
   ]
  },
  {
   "cell_type": "code",
   "execution_count": 22,
   "metadata": {},
   "outputs": [
    {
     "data": {
      "text/html": [
       "<div>\n",
       "<style scoped>\n",
       "    .dataframe tbody tr th:only-of-type {\n",
       "        vertical-align: middle;\n",
       "    }\n",
       "\n",
       "    .dataframe tbody tr th {\n",
       "        vertical-align: top;\n",
       "    }\n",
       "\n",
       "    .dataframe thead th {\n",
       "        text-align: right;\n",
       "    }\n",
       "</style>\n",
       "<table border=\"1\" class=\"dataframe\">\n",
       "  <thead>\n",
       "    <tr style=\"text-align: right;\">\n",
       "      <th></th>\n",
       "      <th>Year_Birth</th>\n",
       "      <th>Kidhome</th>\n",
       "      <th>Teenhome</th>\n",
       "      <th>Recency</th>\n",
       "      <th>MntWines</th>\n",
       "      <th>MntFruits</th>\n",
       "      <th>MntMeatProducts</th>\n",
       "      <th>MntFishProducts</th>\n",
       "      <th>MntSweetProducts</th>\n",
       "      <th>MntGoldProds</th>\n",
       "      <th>...</th>\n",
       "      <th>NumWebVisitsMonth</th>\n",
       "      <th>AcceptedCmp3</th>\n",
       "      <th>AcceptedCmp4</th>\n",
       "      <th>AcceptedCmp5</th>\n",
       "      <th>AcceptedCmp1</th>\n",
       "      <th>AcceptedCmp2</th>\n",
       "      <th>Complain</th>\n",
       "      <th>Z_CostContact</th>\n",
       "      <th>Z_Revenue</th>\n",
       "      <th>Response</th>\n",
       "    </tr>\n",
       "  </thead>\n",
       "  <tbody>\n",
       "    <tr>\n",
       "      <th>0</th>\n",
       "      <td>1957</td>\n",
       "      <td>0</td>\n",
       "      <td>0</td>\n",
       "      <td>58</td>\n",
       "      <td>635</td>\n",
       "      <td>88</td>\n",
       "      <td>546</td>\n",
       "      <td>172</td>\n",
       "      <td>88</td>\n",
       "      <td>88</td>\n",
       "      <td>...</td>\n",
       "      <td>7</td>\n",
       "      <td>0</td>\n",
       "      <td>0</td>\n",
       "      <td>0</td>\n",
       "      <td>0</td>\n",
       "      <td>0</td>\n",
       "      <td>0</td>\n",
       "      <td>3</td>\n",
       "      <td>11</td>\n",
       "      <td>1</td>\n",
       "    </tr>\n",
       "  </tbody>\n",
       "</table>\n",
       "<p>1 rows × 24 columns</p>\n",
       "</div>"
      ],
      "text/plain": [
       "   Year_Birth  Kidhome  Teenhome  Recency  MntWines  MntFruits  \\\n",
       "0        1957        0         0       58       635         88   \n",
       "\n",
       "   MntMeatProducts  MntFishProducts  MntSweetProducts  MntGoldProds  ...  \\\n",
       "0              546              172                88            88  ...   \n",
       "\n",
       "   NumWebVisitsMonth  AcceptedCmp3  AcceptedCmp4  AcceptedCmp5  AcceptedCmp1  \\\n",
       "0                  7             0             0             0             0   \n",
       "\n",
       "   AcceptedCmp2  Complain  Z_CostContact  Z_Revenue  Response  \n",
       "0             0         0              3         11         1  \n",
       "\n",
       "[1 rows x 24 columns]"
      ]
     },
     "execution_count": 22,
     "metadata": {},
     "output_type": "execute_result"
    }
   ],
   "source": [
    "Obs=Marketing_x.iloc[[0],:]\n",
    "Obs"
   ]
  },
  {
   "cell_type": "code",
   "execution_count": 23,
   "metadata": {},
   "outputs": [
    {
     "data": {
      "text/plain": [
       "array([76103.30272953])"
      ]
     },
     "execution_count": 23,
     "metadata": {},
     "output_type": "execute_result"
    }
   ],
   "source": [
    "dir(model)\n",
    "model.predict(Obs)"
   ]
  },
  {
   "cell_type": "code",
   "execution_count": 24,
   "metadata": {},
   "outputs": [
    {
     "name": "stdout",
     "output_type": "stream",
     "text": [
      "  (0, 0)\t1\n",
      "  (0, 4)\t1\n",
      "  (0, 6)\t1\n"
     ]
    }
   ],
   "source": [
    "path=model.decision_path(Obs)\n",
    "print(path)"
   ]
  },
  {
   "cell_type": "code",
   "execution_count": 25,
   "metadata": {},
   "outputs": [
    {
     "data": {
      "text/plain": [
       "array(['Year_Birth', 'MntWines', 'MntMeatProducts'], dtype='<U19')"
      ]
     },
     "execution_count": 25,
     "metadata": {},
     "output_type": "execute_result"
    }
   ],
   "source": [
    "## which are the features used on each step?\n",
    "np.array(List1)[path.indices]"
   ]
  },
  {
   "cell_type": "code",
   "execution_count": 26,
   "metadata": {},
   "outputs": [
    {
     "data": {
      "text/plain": [
       "array([116.5, 271.5,  -2. ])"
      ]
     },
     "execution_count": 26,
     "metadata": {},
     "output_type": "execute_result"
    }
   ],
   "source": [
    "## what are the threshold for each step?\n",
    "np.array(model.tree_.threshold)[path.indices]"
   ]
  },
  {
   "cell_type": "code",
   "execution_count": 27,
   "metadata": {},
   "outputs": [
    {
     "data": {
      "text/plain": [
       "array([[False, False, False]])"
      ]
     },
     "execution_count": 27,
     "metadata": {},
     "output_type": "execute_result"
    }
   ],
   "source": [
    "## did we go to left child (True) or right child (False)?\n",
    "observed=Obs.iloc[:,path.indices]\n",
    "used=np.array(model.tree_.threshold)[path.indices]\n",
    "np.array(observed)<used"
   ]
  },
  {
   "cell_type": "code",
   "execution_count": 28,
   "metadata": {},
   "outputs": [
    {
     "data": {
      "text/plain": [
       "array([[76103.30272953]])"
      ]
     },
     "execution_count": 28,
     "metadata": {},
     "output_type": "execute_result"
    }
   ],
   "source": [
    "## prediction\n",
    "model.tree_.value[6]"
   ]
  }
 ],
 "metadata": {
  "kernelspec": {
   "display_name": "Python 3",
   "language": "python",
   "name": "python3"
  },
  "language_info": {
   "codemirror_mode": {
    "name": "ipython",
    "version": 3
   },
   "file_extension": ".py",
   "mimetype": "text/x-python",
   "name": "python",
   "nbconvert_exporter": "python",
   "pygments_lexer": "ipython3",
   "version": "3.6.9"
  }
 },
 "nbformat": 4,
 "nbformat_minor": 2
}
