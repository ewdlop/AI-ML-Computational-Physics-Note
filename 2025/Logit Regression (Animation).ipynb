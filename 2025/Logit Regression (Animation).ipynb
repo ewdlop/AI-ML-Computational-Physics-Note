{
 "cells": [
  {
   "cell_type": "code",
   "execution_count": 4,
   "metadata": {},
   "outputs": [
    {
     "name": "stdout",
     "output_type": "stream",
     "text": [
      "WARNING: pip is being invoked by an old script wrapper. This will fail in a future version of pip.\n",
      "Please see https://github.com/pypa/pip/issues/5599 for advice on fixing the underlying issue.\n",
      "To avoid this problem you can invoke Python with '-m pip' instead of running pip directly.\n",
      "WARNING: pip is being invoked by an old script wrapper. This will fail in a future version of pip.\n",
      "Please see https://github.com/pypa/pip/issues/5599 for advice on fixing the underlying issue.\n",
      "To avoid this problem you can invoke Python with '-m pip' instead of running pip directly.\n",
      "WARNING: pip is being invoked by an old script wrapper. This will fail in a future version of pip.\n",
      "Please see https://github.com/pypa/pip/issues/5599 for advice on fixing the underlying issue.\n",
      "To avoid this problem you can invoke Python with '-m pip' instead of running pip directly.\n"
     ]
    }
   ],
   "source": [
    "# install sklearn and pandas\n",
    "!pip install --user --upgrade pip -q\n",
    "!pip install --user sklearn -q\n",
    "!pip install --user pandas  -q\n",
    "import pickle, sklearn\n",
    "\n",
    "from ipywidgets import *\n",
    "import pandas as pd \n",
    "import numpy as np\n",
    "import matplotlib.pyplot as plt\n",
    "import scipy.stats as spst"
   ]
  },
  {
   "cell_type": "code",
   "execution_count": 49,
   "metadata": {},
   "outputs": [
    {
     "name": "stdout",
     "output_type": "stream",
     "text": [
      "[9.99999684e-01 2.05947153e-02 9.99404879e-01 9.65768696e-05\n",
      " 1.28362672e-04 9.99271397e-01 5.34073410e-01 2.28152356e-01\n",
      " 8.61461302e-01 9.98786735e-01 9.91887281e-01 9.99998079e-01\n",
      " 9.98203284e-01 7.82400624e-01 9.99336940e-01 9.99999504e-01\n",
      " 9.99927946e-01 9.39848949e-01 9.99999741e-01 9.99995988e-01\n",
      " 4.80705438e-06 9.99954337e-01 9.96469000e-01 9.95211894e-01\n",
      " 9.99993708e-01 9.29198745e-01 3.05388519e-05 9.99999858e-01\n",
      " 3.61344530e-02 4.33567318e-02 9.95713707e-01 9.99965307e-01\n",
      " 7.26627254e-01 9.20190679e-01 9.93967540e-01 9.98249793e-01\n",
      " 9.99999704e-01 9.03742500e-01 6.78318103e-02 7.17875893e-01\n",
      " 9.92101075e-01 9.99963063e-01 5.72122835e-02 9.99999561e-01\n",
      " 3.32002920e-02 7.58053813e-02 9.99988475e-01 6.39700864e-04\n",
      " 6.05013989e-01 9.99647558e-01]\n"
     ]
    },
    {
     "data": {
      "image/png": "[encoded data removed]",
      "text/plain": [
       "<Figure size 432x288 with 1 Axes>"
      ]
     },
     "metadata": {
      "needs_background": "light"
     },
     "output_type": "display_data"
    }
   ],
   "source": [
    "np.random.seed(6)\n",
    "N=50\n",
    "x=np.random.rand(N)*5\n",
    "Exp=-15+5*x+10*np.random.rand(N)\n",
    "p=np.exp(Exp)/(1+np.exp(Exp))\n",
    "print(p)\n",
    "y=1*(np.random.rand(N)<p)\n",
    "plt.scatter(x,y)\n",
    "plt.xlabel(\"x\")\n",
    "plt.ylabel(\"y\")\n",
    "        \n",
    "plt.show()"
   ]
  },
  {
   "cell_type": "code",
   "execution_count": 50,
   "metadata": {},
   "outputs": [
    {
     "data": {
      "application/vnd.jupyter.widget-view+json": {
       "model_id": "d34c71ba89c64b1f81f8679e806c2e5e",
       "version_major": 2,
       "version_minor": 0
      },
      "text/plain": [
       "FloatSlider(value=0.0, max=5.0, min=-5.0, step=0.4)"
      ]
     },
     "metadata": {},
     "output_type": "display_data"
    },
    {
     "data": {
      "application/vnd.jupyter.widget-view+json": {
       "model_id": "1f70995523a345a3adbd0ef8240fccb2",
       "version_major": 2,
       "version_minor": 0
      },
      "text/plain": [
       "FloatSlider(value=0.0, max=10.0, min=-5.0, step=0.4)"
      ]
     },
     "metadata": {},
     "output_type": "display_data"
    },
    {
     "data": {
      "application/vnd.jupyter.widget-view+json": {
       "model_id": "5e97b7725472464a9754d2734509eff8",
       "version_major": 2,
       "version_minor": 0
      },
      "text/plain": [
       "Output()"
      ]
     },
     "metadata": {},
     "output_type": "display_data"
    }
   ],
   "source": [
    "output = Output()\n",
    "with output:\n",
    "    plt.scatter(x,y)\n",
    "    plt.xlabel(\"x\")\n",
    "    plt.ylabel(\"y\")\n",
    "     \n",
    "    plt.xlim(np.min(x)-1,np.max(x)+1)\n",
    "    plt.ylim(-0.5,np.max(y)+0.5)\n",
    "    plt.show()\n",
    "\n",
    "def draw_tree_stage1(change):\n",
    "    output.clear_output(wait=True)\n",
    "    with output:\n",
    "        plt.scatter(x,y)\n",
    "        plt.xlabel(\"x\")\n",
    "        plt.ylabel(\"y\")\n",
    "        plt.xlim(np.min(x)-1,np.max(x)+1)\n",
    "        plt.ylim(-0.5,np.max(y)+0.5)\n",
    "        x_v=np.linspace(np.min(x),np.max(x),1000)\n",
    "        \n",
    "        ep_v=float(b0.value)+float(b1.value)*x_v\n",
    "        p=np.exp(ep_v)/(1+np.exp(ep_v))\n",
    "        plt.plot(x_v,p)\n",
    "    \n",
    "        plt.show()\n",
    " \n",
    " \n",
    "    \n",
    "            \n",
    "b0=FloatSlider(min=-5,max=5,step=0.4,value=0)\n",
    "b1=FloatSlider(min=-5,max=10,step=0.4,value=0)\n",
    "\n",
    "\n",
    "display(b0)\n",
    "display(b1)\n",
    "\n",
    "\n",
    "b0.observe(draw_tree_stage1,names=\"value\")\n",
    "b1.observe(draw_tree_stage1,\"value\")\n",
    "display(output)\n",
    "        \n",
    "    \n",
    "#interactive(draw_tree_stage1,feature=[\"Feature1\", \"Feature2\", \"Best\"],split=IntSlider(min=0,max=8,step=1,value=0)) "
   ]
  },
  {
   "cell_type": "code",
   "execution_count": 19,
   "metadata": {},
   "outputs": [],
   "source": [
    "from sklearn.linear_model import LogisticRegression"
   ]
  },
  {
   "cell_type": "code",
   "execution_count": 51,
   "metadata": {},
   "outputs": [
    {
     "data": {
      "application/vnd.jupyter.widget-view+json": {
       "model_id": "dcfb991a02fd478e89412a3051e63604",
       "version_major": 2,
       "version_minor": 0
      },
      "text/plain": [
       "IntSlider(value=1, max=5, min=1)"
      ]
     },
     "metadata": {},
     "output_type": "display_data"
    },
    {
     "data": {
      "application/vnd.jupyter.widget-view+json": {
       "model_id": "b6519c3bc9e44e16bb5ccfc8c5b3d1f3",
       "version_major": 2,
       "version_minor": 0
      },
      "text/plain": [
       "Output()"
      ]
     },
     "metadata": {},
     "output_type": "display_data"
    }
   ],
   "source": [
    "output = Output()\n",
    "with output:\n",
    "    plt.scatter(x,y)\n",
    "    plt.xlabel(\"x\")\n",
    "    plt.ylabel(\"y\")\n",
    "     \n",
    "    plt.xlim(np.min(x)-1,np.max(x)+1)\n",
    "    plt.ylim(-0.5,np.max(y)+0.5)\n",
    "    plt.show()\n",
    "\n",
    "def draw_tree_stage1(change):\n",
    "    output.clear_output(wait=True)\n",
    "    with output:\n",
    "        plt.scatter(x,y)\n",
    "        plt.xlabel(\"x\")\n",
    "        plt.ylabel(\"y\")\n",
    "\n",
    "        plt.xlim(np.min(x)-1,np.max(x)+1)\n",
    "        plt.ylim(-0.5,np.max(y)+0.5)\n",
    "        model=LogisticRegression()\n",
    "        X=x.reshape(-1,1)\n",
    "        X_array=X\n",
    "        if terms.value>1:\n",
    "            for i in range(2,terms.value+1):\n",
    "                X_array=np.append(X_array,X**i,axis=1)\n",
    "        model.fit(X_array,y)\n",
    "        params=np.append( model.intercept_, model.coef_)\n",
    "        predict=model.predict(X_array)\n",
    "   \n",
    "        inter=model.intercept_\n",
    "        x_v=np.linspace(np.min(x),np.max(x),1000)\n",
    "        X=x_v.reshape(-1,1)\n",
    "        X_array=X\n",
    "        if terms.value>1:\n",
    "            for i in range(2,terms.value+1):\n",
    "                X_array=np.append(X_array,X**i,axis=1)\n",
    "        ex_v=model.intercept_+X_array@model.coef_.reshape(-1,1)\n",
    "        p=np.exp(ex_v)/(1+np.exp(ex_v))\n",
    "       \n",
    "     \n",
    "        print(\"accuracy=\",np.mean(predict==y))\n",
    "        plt.plot(x_v,p)\n",
    "    \n",
    "        plt.show()\n",
    " \n",
    " \n",
    "    \n",
    "            \n",
    "terms=IntSlider(min=1,max=5,step=1,value=1)\n",
    " \n",
    "\n",
    "\n",
    "display(terms)\n",
    " \n",
    "\n",
    "\n",
    "terms.observe(draw_tree_stage1,names=\"value\")\n",
    " \n",
    "display(output)\n",
    "        \n",
    "    \n",
    "#interactive(draw_tree_stage1,feature=[\"Feature1\", \"Feature2\", \"Best\"],split=IntSlider(min=0,max=8,step=1,value=0)) "
   ]
  },
  {
   "cell_type": "code",
   "execution_count": null,
   "metadata": {},
   "outputs": [],
   "source": []
  }
 ],
 "metadata": {
  "kernelspec": {
   "display_name": "Python 3",
   "language": "python",
   "name": "python3"
  },
  "language_info": {
   "codemirror_mode": {
    "name": "ipython",
    "version": 3
   },
   "file_extension": ".py",
   "mimetype": "text/x-python",
   "name": "python",
   "nbconvert_exporter": "python",
   "pygments_lexer": "ipython3",
   "version": "3.6.9"
  }
 },
 "nbformat": 4,
 "nbformat_minor": 2
}
