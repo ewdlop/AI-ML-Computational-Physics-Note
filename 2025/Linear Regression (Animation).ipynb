{
 "cells": [
  {
   "cell_type": "code",
   "execution_count": 9,
   "metadata": {},
   "outputs": [
    {
     "name": "stdout",
     "output_type": "stream",
     "text": [
      "WARNING: pip is being invoked by an old script wrapper. This will fail in a future version of pip.\n",
      "Please see https://github.com/pypa/pip/issues/5599 for advice on fixing the underlying issue.\n",
      "To avoid this problem you can invoke Python with '-m pip' instead of running pip directly.\n",
      "WARNING: pip is being invoked by an old script wrapper. This will fail in a future version of pip.\n",
      "Please see https://github.com/pypa/pip/issues/5599 for advice on fixing the underlying issue.\n",
      "To avoid this problem you can invoke Python with '-m pip' instead of running pip directly.\n"
     ]
    }
   ],
   "source": [
    "# install sklearn and pandas\n",
    "!pip install --user --upgrade pip -q\n",
    "!pip install --user sklearn -q\n",
    "!pip install --user pandas  -q\n",
    "import pickle, sklearn\n",
    "\n",
    "from ipywidgets import *\n",
    "import pandas as pd \n",
    "import numpy as np\n",
    "import matplotlib.pyplot as plt\n",
    "import scipy.stats as spst"
   ]
  },
  {
   "cell_type": "code",
   "execution_count": 62,
   "metadata": {},
   "outputs": [
    {
     "data": {
      "image/png": "[encoded data removed]",
      "text/plain": [
       "<Figure size 432x288 with 1 Axes>"
      ]
     },
     "metadata": {
      "needs_background": "light"
     },
     "output_type": "display_data"
    }
   ],
   "source": [
    "np.random.seed(6)\n",
    "N=6\n",
    "x=np.random.rand(N)*5\n",
    "y=0.5+2*x+10*np.random.rand(N)\n",
    " \n",
    "plt.scatter(x,y)\n",
    "plt.xlabel(\"x\")\n",
    "plt.ylabel(\"y\")\n",
    "plt.scatter([3.3],[7],color=\"red\",s=30)\n",
    "        \n",
    "plt.show()"
   ]
  },
  {
   "cell_type": "code",
   "execution_count": 63,
   "metadata": {},
   "outputs": [
    {
     "data": {
      "application/vnd.jupyter.widget-view+json": {
       "model_id": "912a07d7e185440f8a14de4573acad6d",
       "version_major": 2,
       "version_minor": 0
      },
      "text/plain": [
       "FloatSlider(value=0.0, max=5.0, step=0.4)"
      ]
     },
     "metadata": {},
     "output_type": "display_data"
    },
    {
     "data": {
      "application/vnd.jupyter.widget-view+json": {
       "model_id": "1f5eb96a79634e2eb9a4ce741fe9cd63",
       "version_major": 2,
       "version_minor": 0
      },
      "text/plain": [
       "FloatSlider(value=0.0, max=5.0, step=0.4)"
      ]
     },
     "metadata": {},
     "output_type": "display_data"
    },
    {
     "data": {
      "application/vnd.jupyter.widget-view+json": {
       "model_id": "a4dff159a66e4218ba151537b142543f",
       "version_major": 2,
       "version_minor": 0
      },
      "text/plain": [
       "Output()"
      ]
     },
     "metadata": {},
     "output_type": "display_data"
    }
   ],
   "source": [
    "output = Output()\n",
    "with output:\n",
    "    plt.scatter(x,y)\n",
    "    plt.xlabel(\"x\")\n",
    "    plt.ylabel(\"y\")\n",
    "    plt.scatter([3.3],[7],color=\"red\",s=30)\n",
    "    plt.xlim(0,np.max(x)+1)\n",
    "    plt.ylim(0,np.max(y)+1)\n",
    "    plt.show()\n",
    "\n",
    "def draw_tree_stage1(change):\n",
    "    output.clear_output(wait=True)\n",
    "    with output:\n",
    "        plt.scatter(x,y)\n",
    "        plt.xlabel(\"x\")\n",
    "        plt.ylabel(\"y\")\n",
    "        plt.scatter([3.3],[7],color=\"red\",s=30)\n",
    "        plt.xlim(0,np.max(x)+1)\n",
    "        plt.ylim(0,np.max(y)+1)\n",
    "        x_v=np.array([0,np.max(x)])\n",
    "        \n",
    "        y_v=float(b0.value)+float(b1.value)*x_v\n",
    "        \n",
    "        plt.plot(x_v,y_v)\n",
    "    \n",
    "        plt.show()\n",
    " \n",
    " \n",
    "    \n",
    "            \n",
    "b0=FloatSlider(min=0,max=5,step=0.4,value=0)\n",
    "b1=FloatSlider(min=0,max=5,step=0.4,value=0)\n",
    "\n",
    "\n",
    "display(b0)\n",
    "display(b1)\n",
    "\n",
    "\n",
    "b0.observe(draw_tree_stage1,names=\"value\")\n",
    "b1.observe(draw_tree_stage1,\"value\")\n",
    "display(output)\n",
    "        \n",
    "    \n",
    "#interactive(draw_tree_stage1,feature=[\"Feature1\", \"Feature2\", \"Best\"],split=IntSlider(min=0,max=8,step=1,value=0)) "
   ]
  },
  {
   "cell_type": "code",
   "execution_count": 64,
   "metadata": {},
   "outputs": [],
   "source": [
    "from sklearn.linear_model import LinearRegression"
   ]
  },
  {
   "cell_type": "code",
   "execution_count": 65,
   "metadata": {},
   "outputs": [
    {
     "data": {
      "application/vnd.jupyter.widget-view+json": {
       "model_id": "b71b16fe1fce49b9ac14a5d409e59f36",
       "version_major": 2,
       "version_minor": 0
      },
      "text/plain": [
       "IntSlider(value=1, max=5, min=1)"
      ]
     },
     "metadata": {},
     "output_type": "display_data"
    },
    {
     "data": {
      "application/vnd.jupyter.widget-view+json": {
       "model_id": "e65be825b7f742cfb418457b7f184b27",
       "version_major": 2,
       "version_minor": 0
      },
      "text/plain": [
       "Output()"
      ]
     },
     "metadata": {},
     "output_type": "display_data"
    }
   ],
   "source": [
    "output = Output()\n",
    "with output:\n",
    "    plt.scatter(x,y)\n",
    "    plt.xlabel(\"x\")\n",
    "    plt.ylabel(\"y\")\n",
    "    plt.scatter([3.3],[7],color=\"red\",s=30)\n",
    "    plt.xlim(0,np.max(x)+1)\n",
    "    plt.ylim(0,np.max(y)+1)\n",
    "    plt.show()\n",
    "\n",
    "def draw_tree_stage1(change):\n",
    "    output.clear_output(wait=True)\n",
    "    with output:\n",
    "        plt.scatter(x,y)\n",
    "        plt.xlabel(\"x\")\n",
    "        plt.ylabel(\"y\")\n",
    "        plt.scatter([3.3],[7],color=\"red\",s=30)\n",
    "        plt.xlim(0,np.max(x)+1)\n",
    "        plt.ylim(0,np.max(y)+1)\n",
    "        \n",
    "        model=LinearRegression()\n",
    "        X=x.reshape(-1,1)\n",
    "        X_array=X\n",
    "        if terms.value>1:\n",
    "            for i in range(2,terms.value+1):\n",
    "                X_array=np.append(X_array,X**i,axis=1)\n",
    "        model.fit(X_array,y)\n",
    "        params=np.append( model.intercept_, model.coef_)\n",
    "        \n",
    "   \n",
    "        inter=model.intercept_\n",
    "        x_v=np.linspace(np.min(x),np.max(x),1000)\n",
    "        X=x_v.reshape(-1,1)\n",
    "        X_array=X\n",
    "        if terms.value>1:\n",
    "            for i in range(2,terms.value+1):\n",
    "                X_array=np.append(X_array,X**i,axis=1)\n",
    "        y_v=model.intercept_+X_array@model.coef_.reshape(-1,1)\n",
    "        print(x_v.shape,y_v.shape)\n",
    "        plt.plot(x_v,y_v)\n",
    "    \n",
    "        plt.show()\n",
    " \n",
    " \n",
    "    \n",
    "            \n",
    "terms=IntSlider(min=1,max=5,step=1,value=1)\n",
    " \n",
    "\n",
    "\n",
    "display(terms)\n",
    " \n",
    "\n",
    "\n",
    "terms.observe(draw_tree_stage1,names=\"value\")\n",
    " \n",
    "display(output)\n",
    "        \n",
    "    \n",
    "#interactive(draw_tree_stage1,feature=[\"Feature1\", \"Feature2\", \"Best\"],split=IntSlider(min=0,max=8,step=1,value=0)) "
   ]
  },
  {
   "cell_type": "code",
   "execution_count": null,
   "metadata": {},
   "outputs": [],
   "source": []
  }
 ],
 "metadata": {
  "kernelspec": {
   "display_name": "Python 3",
   "language": "python",
   "name": "python3"
  },
  "language_info": {
   "codemirror_mode": {
    "name": "ipython",
    "version": 3
   },
   "file_extension": ".py",
   "mimetype": "text/x-python",
   "name": "python",
   "nbconvert_exporter": "python",
   "pygments_lexer": "ipython3",
   "version": "3.6.9"
  }
 },
 "nbformat": 4,
 "nbformat_minor": 2
}
