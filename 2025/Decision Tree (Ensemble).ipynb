{
 "cells": [
  {
   "cell_type": "code",
   "execution_count": 49,
   "metadata": {},
   "outputs": [
    {
     "name": "stdout",
     "output_type": "stream",
     "text": [
      "WARNING: pip is being invoked by an old script wrapper. This will fail in a future version of pip.\n",
      "Please see https://github.com/pypa/pip/issues/5599 for advice on fixing the underlying issue.\n",
      "To avoid this problem you can invoke Python with '-m pip' instead of running pip directly.\n",
      "Requirement already satisfied: pip in /home/codio/.local/lib/python3.6/site-packages (21.3.1)\n",
      "WARNING: pip is being invoked by an old script wrapper. This will fail in a future version of pip.\n",
      "Please see https://github.com/pypa/pip/issues/5599 for advice on fixing the underlying issue.\n",
      "To avoid this problem you can invoke Python with '-m pip' instead of running pip directly.\n",
      "Requirement already satisfied: sklearn in /home/codio/.local/lib/python3.6/site-packages (0.0)\n",
      "Requirement already satisfied: scikit-learn in /home/codio/.local/lib/python3.6/site-packages (from sklearn) (0.24.2)\n",
      "Requirement already satisfied: joblib>=0.11 in /home/codio/.local/lib/python3.6/site-packages (from scikit-learn->sklearn) (1.1.0)\n",
      "Requirement already satisfied: scipy>=0.19.1 in /usr/local/lib/python3.6/dist-packages (from scikit-learn->sklearn) (1.2.1)\n",
      "Requirement already satisfied: numpy>=1.13.3 in /usr/local/lib/python3.6/dist-packages (from scikit-learn->sklearn) (1.16.3)\n",
      "Requirement already satisfied: threadpoolctl>=2.0.0 in /home/codio/.local/lib/python3.6/site-packages (from scikit-learn->sklearn) (3.1.0)\n",
      "WARNING: pip is being invoked by an old script wrapper. This will fail in a future version of pip.\n",
      "Please see https://github.com/pypa/pip/issues/5599 for advice on fixing the underlying issue.\n",
      "To avoid this problem you can invoke Python with '-m pip' instead of running pip directly.\n",
      "Requirement already satisfied: pandas in /home/codio/.local/lib/python3.6/site-packages (1.1.5)\n",
      "Requirement already satisfied: pytz>=2017.2 in /home/codio/.local/lib/python3.6/site-packages (from pandas) (2021.3)\n",
      "Requirement already satisfied: python-dateutil>=2.7.3 in /usr/local/lib/python3.6/dist-packages (from pandas) (2.8.0)\n",
      "Requirement already satisfied: numpy>=1.15.4 in /usr/local/lib/python3.6/dist-packages (from pandas) (1.16.3)\n",
      "Requirement already satisfied: six>=1.5 in /usr/lib/python3/dist-packages (from python-dateutil>=2.7.3->pandas) (1.11.0)\n"
     ]
    }
   ],
   "source": [
    "# install sklearn and pandas\n",
    "!pip install --user --upgrade pip\n",
    "!pip install --user sklearn\n",
    "!pip install --user pandas \n",
    "import pickle, sklearn\n",
    "import matplotlib.pyplot as plt \n",
    "import pandas as pd\n",
    "import numpy as np \n",
    "from sklearn.tree import DecisionTreeClassifier,DecisionTreeRegressor, plot_tree\n",
    "import numpy as np \n",
    "from sklearn.model_selection import train_test_split \n"
   ]
  },
  {
   "cell_type": "markdown",
   "metadata": {},
   "source": [
    "# Load Dataset"
   ]
  },
  {
   "cell_type": "code",
   "execution_count": 50,
   "metadata": {},
   "outputs": [],
   "source": [
    "with open(\"marketing\", \"rb\") as f:\n",
    "    dataset=pickle.load(f)\n",
    "Marketing=dataset[\"Dataset\"]\n"
   ]
  },
  {
   "cell_type": "code",
   "execution_count": 51,
   "metadata": {},
   "outputs": [],
   "source": [
    "Marketing_X=Marketing[[\"Income\",\"Year_Birth\",\"Response\"]]\n",
    "Marketing_y=Marketing[\"Kidhome\"]\n"
   ]
  },
  {
   "cell_type": "markdown",
   "metadata": {},
   "source": [
    "## Model Averaging"
   ]
  },
  {
   "cell_type": "code",
   "execution_count": 94,
   "metadata": {},
   "outputs": [],
   "source": [
    "\n",
    "\n",
    "train_x,test_x, train_y, test_y=train_test_split(Marketing,Marketing_y,test_size=0.15,random_state=10)\n",
    "train_x,validation_x, train_y, validation_y=train_test_split(train_x,train_y,test_size=0.15,random_state=20)\n",
    "\n",
    "Feature1=[\"Income\",\"Year_Birth\",\"Response\"]\n",
    "Feature2=[\"Year_Birth\",\"NumDealsPurchases\"]\n",
    "Feature3=[\"Year_Birth\",\"NumStorePurchases\"]\n",
    "Feature4=[\"ID\", \"NumDealsPurchases\"]\n",
    "Feature5=[\"Teenhome\",\"MntFruits\"]\n",
    "Feature6=[\"Year_Birth\",\"NumStorePurchases\",\"ID\",\"NumDealsPurchases\"]\n",
    "\n",
    "\n"
   ]
  },
  {
   "cell_type": "code",
   "execution_count": 95,
   "metadata": {},
   "outputs": [
    {
     "data": {
      "text/plain": [
       "0.7773851590106007"
      ]
     },
     "execution_count": 95,
     "metadata": {},
     "output_type": "execute_result"
    }
   ],
   "source": [
    "## train 5 models with different features\n",
    "prediction=np.empty((validation_x.shape[0],5))\n",
    "i=0\n",
    "for Features in [Feature1,Feature2,Feature3,Feature4,Feature5]:\n",
    "    ## use train set to train each model\n",
    "    model=DecisionTreeClassifier(max_depth=6,criterion=\"entropy\")\n",
    "    model.fit(train_x[Features],train_y)\n",
    "    prediction[:,i]=model.predict(validation_x[Features])\n",
    "    i=i+1\n",
    "    ## use validation set to report the accuracy\n",
    "\n",
    "import scipy.stats as spst\n",
    "prediction=spst.mode(prediction,axis=1)[0]\n",
    "np.mean(prediction.reshape(-1)==validation_y)\n"
   ]
  },
  {
   "cell_type": "code",
   "execution_count": 96,
   "metadata": {},
   "outputs": [
    {
     "data": {
      "text/plain": [
       "array([0.76678445, 0.65371025, 0.76678445, 0.63250883, 0.71024735])"
      ]
     },
     "execution_count": 96,
     "metadata": {},
     "output_type": "execute_result"
    }
   ],
   "source": [
    "Accuracy=np.empty(5)\n",
    "i=0\n",
    " \n",
    "for Features in [Feature1,Feature2,Feature3,Feature4,Feature5]:\n",
    "    ## use train set to train each model\n",
    "    model=DecisionTreeClassifier(max_depth=6,criterion=\"entropy\")\n",
    "    model.fit(train_x[Features],train_y)\n",
    "    ## use validation set to report the accuracy\n",
    "    Accuracy[i]=np.mean(validation_y==model.predict(validation_x[Features]))\n",
    "    i=i+1\n",
    "Accuracy\n"
   ]
  },
  {
   "cell_type": "markdown",
   "metadata": {},
   "source": [
    "## Bagging"
   ]
  },
  {
   "cell_type": "code",
   "execution_count": 100,
   "metadata": {},
   "outputs": [
    {
     "data": {
      "text/plain": [
       "0.7703180212014135"
      ]
     },
     "execution_count": 100,
     "metadata": {},
     "output_type": "execute_result"
    }
   ],
   "source": [
    "prediction=np.empty((validation_x.shape[0],100))\n",
    "i=0\n",
    "for i in range(100):\n",
    "    ## use train set to train each model\n",
    "    model=DecisionTreeClassifier(max_depth=6,criterion=\"entropy\")\n",
    "    ## bootstrap\n",
    "    index=np.random.choice(train_x.index,replace=True,size=len(train_x.index))\n",
    "    model.fit(train_x.loc[index,Feature3],train_y.loc[index])\n",
    "    prediction[:,i]=model.predict(validation_x[Feature3])\n",
    "    i=i+1\n",
    "    ## use validation set to report the accuracy\n",
    "\n",
    "import scipy.stats as spst\n",
    "prediction=spst.mode(prediction,axis=1)[0]\n",
    "np.mean(prediction.reshape(-1)==validation_y)\n",
    " \n"
   ]
  },
  {
   "cell_type": "code",
   "execution_count": 101,
   "metadata": {},
   "outputs": [
    {
     "data": {
      "text/plain": [
       "0.7667844522968198"
      ]
     },
     "execution_count": 101,
     "metadata": {},
     "output_type": "execute_result"
    }
   ],
   "source": [
    "## if we did not do bagging\n",
    "model=DecisionTreeClassifier(max_depth=6,criterion=\"entropy\")\n",
    "model.fit(train_x.loc[:,Feature3],train_y)\n",
    "prediction=model.predict(validation_x[Feature3])\n",
    "np.mean(prediction.reshape(-1)==validation_y)\n"
   ]
  },
  {
   "cell_type": "markdown",
   "metadata": {},
   "source": [
    "## Random Forest"
   ]
  },
  {
   "cell_type": "code",
   "execution_count": 108,
   "metadata": {},
   "outputs": [],
   "source": [
    "from sklearn.ensemble import RandomForestClassifier\n",
    "## if regression tree \n",
    "## choose \n",
    "# from sklearn.ensemble import RandomForestRegressor\n"
   ]
  },
  {
   "cell_type": "code",
   "execution_count": 112,
   "metadata": {},
   "outputs": [],
   "source": [
    "##train 1000 classifiers. Bootstrap samples and each split consider two random features\n",
    "model=RandomForestClassifier(n_estimators=1000,max_features=2,bootstrap=True,max_depth=2)"
   ]
  },
  {
   "cell_type": "code",
   "execution_count": 113,
   "metadata": {},
   "outputs": [
    {
     "data": {
      "text/plain": [
       "0.773851590106007"
      ]
     },
     "execution_count": 113,
     "metadata": {},
     "output_type": "execute_result"
    }
   ],
   "source": [
    "model.fit(train_x.loc[:,Feature3],train_y)\n",
    "prediction=model.predict(validation_x[Feature3])\n",
    "np.mean(prediction.reshape(-1)==validation_y)"
   ]
  },
  {
   "cell_type": "code",
   "execution_count": 114,
   "metadata": {},
   "outputs": [
    {
     "data": {
      "image/png": "[encoded data removed]",
      "text/plain": [
       "<Figure size 1080x360 with 2 Axes>"
      ]
     },
     "metadata": {
      "needs_background": "light"
     },
     "output_type": "display_data"
    }
   ],
   "source": [
    "fig,ax=plt.subplots(1,2)\n",
    "fig.set_figheight(5)\n",
    "fig.set_figwidth(15)\n",
    "plot_tree(model[0],feature_names=Feature3,fontsize=10,ax=ax[0])\n",
    "plot_tree(model[1],feature_names=Feature3,fontsize=10,ax=ax[1])\n",
    "plt.show()"
   ]
  },
  {
   "cell_type": "code",
   "execution_count": null,
   "metadata": {},
   "outputs": [],
   "source": []
  },
  {
   "cell_type": "code",
   "execution_count": null,
   "metadata": {},
   "outputs": [],
   "source": []
  }
 ],
 "metadata": {
  "kernelspec": {
   "display_name": "Python 3",
   "language": "python",
   "name": "python3"
  },
  "language_info": {
   "codemirror_mode": {
    "name": "ipython",
    "version": 3
   },
   "file_extension": ".py",
   "mimetype": "text/x-python",
   "name": "python",
   "nbconvert_exporter": "python",
   "pygments_lexer": "ipython3",
   "version": "3.6.9"
  }
 },
 "nbformat": 4,
 "nbformat_minor": 2
}
